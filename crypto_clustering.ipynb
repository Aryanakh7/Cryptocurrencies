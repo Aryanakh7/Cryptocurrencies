{
 "cells": [
  {
   "cell_type": "markdown",
   "metadata": {},
   "source": [
    "# Clustering Crypto"
   ]
  },
  {
   "cell_type": "code",
   "execution_count": 4,
   "metadata": {},
   "outputs": [],
   "source": [
    "# Initial imports\n",
    "import pandas as pd\n",
    "import hvplot.pandas\n",
    "from path import Path\n",
    "import plotly.express as px\n",
    "from sklearn.preprocessing import StandardScaler, MinMaxScaler\n",
    "from sklearn.decomposition import PCA\n",
    "from sklearn.cluster import KMeans\n"
   ]
  },
  {
   "cell_type": "markdown",
   "metadata": {},
   "source": [
    "### Deliverable 1: Preprocessing the Data for PCA"
   ]
  },
  {
   "cell_type": "code",
   "execution_count": 17,
   "metadata": {
    "scrolled": true
   },
   "outputs": [
    {
     "data": {
      "text/html": [
       "<div>\n",
       "<style scoped>\n",
       "    .dataframe tbody tr th:only-of-type {\n",
       "        vertical-align: middle;\n",
       "    }\n",
       "\n",
       "    .dataframe tbody tr th {\n",
       "        vertical-align: top;\n",
       "    }\n",
       "\n",
       "    .dataframe thead th {\n",
       "        text-align: right;\n",
       "    }\n",
       "</style>\n",
       "<table border=\"1\" class=\"dataframe\">\n",
       "  <thead>\n",
       "    <tr style=\"text-align: right;\">\n",
       "      <th></th>\n",
       "      <th>CoinName</th>\n",
       "      <th>Algorithm</th>\n",
       "      <th>IsTrading</th>\n",
       "      <th>ProofType</th>\n",
       "      <th>TotalCoinsMined</th>\n",
       "      <th>TotalCoinSupply</th>\n",
       "    </tr>\n",
       "  </thead>\n",
       "  <tbody>\n",
       "    <tr>\n",
       "      <th>42</th>\n",
       "      <td>42 Coin</td>\n",
       "      <td>Scrypt</td>\n",
       "      <td>True</td>\n",
       "      <td>PoW/PoS</td>\n",
       "      <td>4.199995e+01</td>\n",
       "      <td>42</td>\n",
       "    </tr>\n",
       "    <tr>\n",
       "      <th>365</th>\n",
       "      <td>365Coin</td>\n",
       "      <td>X11</td>\n",
       "      <td>True</td>\n",
       "      <td>PoW/PoS</td>\n",
       "      <td>NaN</td>\n",
       "      <td>2300000000</td>\n",
       "    </tr>\n",
       "    <tr>\n",
       "      <th>404</th>\n",
       "      <td>404Coin</td>\n",
       "      <td>Scrypt</td>\n",
       "      <td>True</td>\n",
       "      <td>PoW/PoS</td>\n",
       "      <td>1.055185e+09</td>\n",
       "      <td>532000000</td>\n",
       "    </tr>\n",
       "    <tr>\n",
       "      <th>611</th>\n",
       "      <td>SixEleven</td>\n",
       "      <td>SHA-256</td>\n",
       "      <td>True</td>\n",
       "      <td>PoW</td>\n",
       "      <td>NaN</td>\n",
       "      <td>611000</td>\n",
       "    </tr>\n",
       "    <tr>\n",
       "      <th>808</th>\n",
       "      <td>808</td>\n",
       "      <td>SHA-256</td>\n",
       "      <td>True</td>\n",
       "      <td>PoW/PoS</td>\n",
       "      <td>0.000000e+00</td>\n",
       "      <td>0</td>\n",
       "    </tr>\n",
       "  </tbody>\n",
       "</table>\n",
       "</div>"
      ],
      "text/plain": [
       "      CoinName Algorithm  IsTrading ProofType  TotalCoinsMined TotalCoinSupply\n",
       "42     42 Coin    Scrypt       True   PoW/PoS     4.199995e+01              42\n",
       "365    365Coin       X11       True   PoW/PoS              NaN      2300000000\n",
       "404    404Coin    Scrypt       True   PoW/PoS     1.055185e+09       532000000\n",
       "611  SixEleven   SHA-256       True       PoW              NaN          611000\n",
       "808        808   SHA-256       True   PoW/PoS     0.000000e+00               0"
      ]
     },
     "execution_count": 17,
     "metadata": {},
     "output_type": "execute_result"
    }
   ],
   "source": [
    "file_path = 'Resources/crypto_data.csv'\n",
    "crypto_df = pd.read_csv(file_path, index_col=0)\n",
    "crypto_df.head()"
   ]
  },
  {
   "cell_type": "code",
   "execution_count": 18,
   "metadata": {},
   "outputs": [
    {
     "data": {
      "text/html": [
       "<div>\n",
       "<style scoped>\n",
       "    .dataframe tbody tr th:only-of-type {\n",
       "        vertical-align: middle;\n",
       "    }\n",
       "\n",
       "    .dataframe tbody tr th {\n",
       "        vertical-align: top;\n",
       "    }\n",
       "\n",
       "    .dataframe thead th {\n",
       "        text-align: right;\n",
       "    }\n",
       "</style>\n",
       "<table border=\"1\" class=\"dataframe\">\n",
       "  <thead>\n",
       "    <tr style=\"text-align: right;\">\n",
       "      <th></th>\n",
       "      <th>CoinName</th>\n",
       "      <th>Algorithm</th>\n",
       "      <th>IsTrading</th>\n",
       "      <th>ProofType</th>\n",
       "      <th>TotalCoinsMined</th>\n",
       "      <th>TotalCoinSupply</th>\n",
       "    </tr>\n",
       "  </thead>\n",
       "  <tbody>\n",
       "    <tr>\n",
       "      <th>42</th>\n",
       "      <td>42 Coin</td>\n",
       "      <td>Scrypt</td>\n",
       "      <td>True</td>\n",
       "      <td>PoW/PoS</td>\n",
       "      <td>4.199995e+01</td>\n",
       "      <td>42</td>\n",
       "    </tr>\n",
       "    <tr>\n",
       "      <th>365</th>\n",
       "      <td>365Coin</td>\n",
       "      <td>X11</td>\n",
       "      <td>True</td>\n",
       "      <td>PoW/PoS</td>\n",
       "      <td>NaN</td>\n",
       "      <td>2300000000</td>\n",
       "    </tr>\n",
       "    <tr>\n",
       "      <th>404</th>\n",
       "      <td>404Coin</td>\n",
       "      <td>Scrypt</td>\n",
       "      <td>True</td>\n",
       "      <td>PoW/PoS</td>\n",
       "      <td>1.055185e+09</td>\n",
       "      <td>532000000</td>\n",
       "    </tr>\n",
       "    <tr>\n",
       "      <th>611</th>\n",
       "      <td>SixEleven</td>\n",
       "      <td>SHA-256</td>\n",
       "      <td>True</td>\n",
       "      <td>PoW</td>\n",
       "      <td>NaN</td>\n",
       "      <td>611000</td>\n",
       "    </tr>\n",
       "    <tr>\n",
       "      <th>808</th>\n",
       "      <td>808</td>\n",
       "      <td>SHA-256</td>\n",
       "      <td>True</td>\n",
       "      <td>PoW/PoS</td>\n",
       "      <td>0.000000e+00</td>\n",
       "      <td>0</td>\n",
       "    </tr>\n",
       "  </tbody>\n",
       "</table>\n",
       "</div>"
      ],
      "text/plain": [
       "      CoinName Algorithm  IsTrading ProofType  TotalCoinsMined TotalCoinSupply\n",
       "42     42 Coin    Scrypt       True   PoW/PoS     4.199995e+01              42\n",
       "365    365Coin       X11       True   PoW/PoS              NaN      2300000000\n",
       "404    404Coin    Scrypt       True   PoW/PoS     1.055185e+09       532000000\n",
       "611  SixEleven   SHA-256       True       PoW              NaN          611000\n",
       "808        808   SHA-256       True   PoW/PoS     0.000000e+00               0"
      ]
     },
     "execution_count": 18,
     "metadata": {},
     "output_type": "execute_result"
    }
   ],
   "source": [
    "# Keep all the cryptocurrencies that are being traded.\n",
    "currencies_df = crypto_df[crypto_df.IsTrading == True]\n",
    "currencies_df.head()"
   ]
  },
  {
   "cell_type": "code",
   "execution_count": 38,
   "metadata": {},
   "outputs": [
    {
     "data": {
      "text/html": [
       "<div>\n",
       "<style scoped>\n",
       "    .dataframe tbody tr th:only-of-type {\n",
       "        vertical-align: middle;\n",
       "    }\n",
       "\n",
       "    .dataframe tbody tr th {\n",
       "        vertical-align: top;\n",
       "    }\n",
       "\n",
       "    .dataframe thead th {\n",
       "        text-align: right;\n",
       "    }\n",
       "</style>\n",
       "<table border=\"1\" class=\"dataframe\">\n",
       "  <thead>\n",
       "    <tr style=\"text-align: right;\">\n",
       "      <th></th>\n",
       "      <th>CoinName</th>\n",
       "      <th>Algorithm</th>\n",
       "      <th>IsTrading</th>\n",
       "      <th>ProofType</th>\n",
       "      <th>TotalCoinsMined</th>\n",
       "      <th>TotalCoinSupply</th>\n",
       "    </tr>\n",
       "  </thead>\n",
       "  <tbody>\n",
       "    <tr>\n",
       "      <th>42</th>\n",
       "      <td>42 Coin</td>\n",
       "      <td>Scrypt</td>\n",
       "      <td>True</td>\n",
       "      <td>PoW/PoS</td>\n",
       "      <td>4.199995e+01</td>\n",
       "      <td>42</td>\n",
       "    </tr>\n",
       "    <tr>\n",
       "      <th>365</th>\n",
       "      <td>365Coin</td>\n",
       "      <td>X11</td>\n",
       "      <td>True</td>\n",
       "      <td>PoW/PoS</td>\n",
       "      <td>NaN</td>\n",
       "      <td>2300000000</td>\n",
       "    </tr>\n",
       "    <tr>\n",
       "      <th>404</th>\n",
       "      <td>404Coin</td>\n",
       "      <td>Scrypt</td>\n",
       "      <td>True</td>\n",
       "      <td>PoW/PoS</td>\n",
       "      <td>1.055185e+09</td>\n",
       "      <td>532000000</td>\n",
       "    </tr>\n",
       "    <tr>\n",
       "      <th>611</th>\n",
       "      <td>SixEleven</td>\n",
       "      <td>SHA-256</td>\n",
       "      <td>True</td>\n",
       "      <td>PoW</td>\n",
       "      <td>NaN</td>\n",
       "      <td>611000</td>\n",
       "    </tr>\n",
       "    <tr>\n",
       "      <th>808</th>\n",
       "      <td>808</td>\n",
       "      <td>SHA-256</td>\n",
       "      <td>True</td>\n",
       "      <td>PoW/PoS</td>\n",
       "      <td>0.000000e+00</td>\n",
       "      <td>0</td>\n",
       "    </tr>\n",
       "  </tbody>\n",
       "</table>\n",
       "</div>"
      ],
      "text/plain": [
       "      CoinName Algorithm  IsTrading ProofType  TotalCoinsMined TotalCoinSupply\n",
       "42     42 Coin    Scrypt       True   PoW/PoS     4.199995e+01              42\n",
       "365    365Coin       X11       True   PoW/PoS              NaN      2300000000\n",
       "404    404Coin    Scrypt       True   PoW/PoS     1.055185e+09       532000000\n",
       "611  SixEleven   SHA-256       True       PoW              NaN          611000\n",
       "808        808   SHA-256       True   PoW/PoS     0.000000e+00               0"
      ]
     },
     "execution_count": 38,
     "metadata": {},
     "output_type": "execute_result"
    }
   ],
   "source": [
    "# Keep all the cryptocurrencies that have a working algorithm.\n",
    "working_algorithm_df = currencies_df.dropna(subset=[\"Algorithm\"], axis=0)\n",
    "working_algorithm_df.head()"
   ]
  },
  {
   "cell_type": "code",
   "execution_count": 46,
   "metadata": {},
   "outputs": [
    {
     "data": {
      "text/html": [
       "<div>\n",
       "<style scoped>\n",
       "    .dataframe tbody tr th:only-of-type {\n",
       "        vertical-align: middle;\n",
       "    }\n",
       "\n",
       "    .dataframe tbody tr th {\n",
       "        vertical-align: top;\n",
       "    }\n",
       "\n",
       "    .dataframe thead th {\n",
       "        text-align: right;\n",
       "    }\n",
       "</style>\n",
       "<table border=\"1\" class=\"dataframe\">\n",
       "  <thead>\n",
       "    <tr style=\"text-align: right;\">\n",
       "      <th></th>\n",
       "      <th>CoinName</th>\n",
       "      <th>Algorithm</th>\n",
       "      <th>ProofType</th>\n",
       "      <th>TotalCoinsMined</th>\n",
       "      <th>TotalCoinSupply</th>\n",
       "    </tr>\n",
       "  </thead>\n",
       "  <tbody>\n",
       "    <tr>\n",
       "      <th>42</th>\n",
       "      <td>42 Coin</td>\n",
       "      <td>Scrypt</td>\n",
       "      <td>PoW/PoS</td>\n",
       "      <td>4.199995e+01</td>\n",
       "      <td>42</td>\n",
       "    </tr>\n",
       "    <tr>\n",
       "      <th>365</th>\n",
       "      <td>365Coin</td>\n",
       "      <td>X11</td>\n",
       "      <td>PoW/PoS</td>\n",
       "      <td>NaN</td>\n",
       "      <td>2300000000</td>\n",
       "    </tr>\n",
       "    <tr>\n",
       "      <th>404</th>\n",
       "      <td>404Coin</td>\n",
       "      <td>Scrypt</td>\n",
       "      <td>PoW/PoS</td>\n",
       "      <td>1.055185e+09</td>\n",
       "      <td>532000000</td>\n",
       "    </tr>\n",
       "    <tr>\n",
       "      <th>611</th>\n",
       "      <td>SixEleven</td>\n",
       "      <td>SHA-256</td>\n",
       "      <td>PoW</td>\n",
       "      <td>NaN</td>\n",
       "      <td>611000</td>\n",
       "    </tr>\n",
       "    <tr>\n",
       "      <th>808</th>\n",
       "      <td>808</td>\n",
       "      <td>SHA-256</td>\n",
       "      <td>PoW/PoS</td>\n",
       "      <td>0.000000e+00</td>\n",
       "      <td>0</td>\n",
       "    </tr>\n",
       "  </tbody>\n",
       "</table>\n",
       "</div>"
      ],
      "text/plain": [
       "      CoinName Algorithm ProofType  TotalCoinsMined TotalCoinSupply\n",
       "42     42 Coin    Scrypt   PoW/PoS     4.199995e+01              42\n",
       "365    365Coin       X11   PoW/PoS              NaN      2300000000\n",
       "404    404Coin    Scrypt   PoW/PoS     1.055185e+09       532000000\n",
       "611  SixEleven   SHA-256       PoW              NaN          611000\n",
       "808        808   SHA-256   PoW/PoS     0.000000e+00               0"
      ]
     },
     "execution_count": 46,
     "metadata": {},
     "output_type": "execute_result"
    }
   ],
   "source": [
    "# Remove the \"IsTrading\" column. \n",
    "clean_crypto_df = working_algorithm_df.drop([\"IsTrading\"], axis = 1)\n",
    "clean_crypto_df.head()"
   ]
  },
  {
   "cell_type": "code",
   "execution_count": 49,
   "metadata": {},
   "outputs": [
    {
     "data": {
      "text/html": [
       "<div>\n",
       "<style scoped>\n",
       "    .dataframe tbody tr th:only-of-type {\n",
       "        vertical-align: middle;\n",
       "    }\n",
       "\n",
       "    .dataframe tbody tr th {\n",
       "        vertical-align: top;\n",
       "    }\n",
       "\n",
       "    .dataframe thead th {\n",
       "        text-align: right;\n",
       "    }\n",
       "</style>\n",
       "<table border=\"1\" class=\"dataframe\">\n",
       "  <thead>\n",
       "    <tr style=\"text-align: right;\">\n",
       "      <th></th>\n",
       "      <th>CoinName</th>\n",
       "      <th>Algorithm</th>\n",
       "      <th>ProofType</th>\n",
       "      <th>TotalCoinsMined</th>\n",
       "      <th>TotalCoinSupply</th>\n",
       "    </tr>\n",
       "  </thead>\n",
       "  <tbody>\n",
       "    <tr>\n",
       "      <th>42</th>\n",
       "      <td>42 Coin</td>\n",
       "      <td>Scrypt</td>\n",
       "      <td>PoW/PoS</td>\n",
       "      <td>4.199995e+01</td>\n",
       "      <td>42</td>\n",
       "    </tr>\n",
       "    <tr>\n",
       "      <th>404</th>\n",
       "      <td>404Coin</td>\n",
       "      <td>Scrypt</td>\n",
       "      <td>PoW/PoS</td>\n",
       "      <td>1.055185e+09</td>\n",
       "      <td>532000000</td>\n",
       "    </tr>\n",
       "    <tr>\n",
       "      <th>808</th>\n",
       "      <td>808</td>\n",
       "      <td>SHA-256</td>\n",
       "      <td>PoW/PoS</td>\n",
       "      <td>0.000000e+00</td>\n",
       "      <td>0</td>\n",
       "    </tr>\n",
       "    <tr>\n",
       "      <th>1337</th>\n",
       "      <td>EliteCoin</td>\n",
       "      <td>X13</td>\n",
       "      <td>PoW/PoS</td>\n",
       "      <td>2.927942e+10</td>\n",
       "      <td>314159265359</td>\n",
       "    </tr>\n",
       "    <tr>\n",
       "      <th>BTC</th>\n",
       "      <td>Bitcoin</td>\n",
       "      <td>SHA-256</td>\n",
       "      <td>PoW</td>\n",
       "      <td>1.792718e+07</td>\n",
       "      <td>21000000</td>\n",
       "    </tr>\n",
       "  </tbody>\n",
       "</table>\n",
       "</div>"
      ],
      "text/plain": [
       "       CoinName Algorithm ProofType  TotalCoinsMined TotalCoinSupply\n",
       "42      42 Coin    Scrypt   PoW/PoS     4.199995e+01              42\n",
       "404     404Coin    Scrypt   PoW/PoS     1.055185e+09       532000000\n",
       "808         808   SHA-256   PoW/PoS     0.000000e+00               0\n",
       "1337  EliteCoin       X13   PoW/PoS     2.927942e+10    314159265359\n",
       "BTC     Bitcoin   SHA-256       PoW     1.792718e+07        21000000"
      ]
     },
     "execution_count": 49,
     "metadata": {},
     "output_type": "execute_result"
    }
   ],
   "source": [
    "# Remove rows that have at least 1 null value.\n",
    "clean_crypto_df = clean_crypto_df.dropna()\n",
    "clean_crypto_df.head()"
   ]
  },
  {
   "cell_type": "code",
   "execution_count": 51,
   "metadata": {},
   "outputs": [
    {
     "data": {
      "text/html": [
       "<div>\n",
       "<style scoped>\n",
       "    .dataframe tbody tr th:only-of-type {\n",
       "        vertical-align: middle;\n",
       "    }\n",
       "\n",
       "    .dataframe tbody tr th {\n",
       "        vertical-align: top;\n",
       "    }\n",
       "\n",
       "    .dataframe thead th {\n",
       "        text-align: right;\n",
       "    }\n",
       "</style>\n",
       "<table border=\"1\" class=\"dataframe\">\n",
       "  <thead>\n",
       "    <tr style=\"text-align: right;\">\n",
       "      <th></th>\n",
       "      <th>CoinName</th>\n",
       "      <th>Algorithm</th>\n",
       "      <th>ProofType</th>\n",
       "      <th>TotalCoinsMined</th>\n",
       "      <th>TotalCoinSupply</th>\n",
       "    </tr>\n",
       "  </thead>\n",
       "  <tbody>\n",
       "    <tr>\n",
       "      <th>42</th>\n",
       "      <td>42 Coin</td>\n",
       "      <td>Scrypt</td>\n",
       "      <td>PoW/PoS</td>\n",
       "      <td>4.199995e+01</td>\n",
       "      <td>42</td>\n",
       "    </tr>\n",
       "    <tr>\n",
       "      <th>404</th>\n",
       "      <td>404Coin</td>\n",
       "      <td>Scrypt</td>\n",
       "      <td>PoW/PoS</td>\n",
       "      <td>1.055185e+09</td>\n",
       "      <td>532000000</td>\n",
       "    </tr>\n",
       "    <tr>\n",
       "      <th>1337</th>\n",
       "      <td>EliteCoin</td>\n",
       "      <td>X13</td>\n",
       "      <td>PoW/PoS</td>\n",
       "      <td>2.927942e+10</td>\n",
       "      <td>314159265359</td>\n",
       "    </tr>\n",
       "    <tr>\n",
       "      <th>BTC</th>\n",
       "      <td>Bitcoin</td>\n",
       "      <td>SHA-256</td>\n",
       "      <td>PoW</td>\n",
       "      <td>1.792718e+07</td>\n",
       "      <td>21000000</td>\n",
       "    </tr>\n",
       "    <tr>\n",
       "      <th>ETH</th>\n",
       "      <td>Ethereum</td>\n",
       "      <td>Ethash</td>\n",
       "      <td>PoW</td>\n",
       "      <td>1.076842e+08</td>\n",
       "      <td>0</td>\n",
       "    </tr>\n",
       "  </tbody>\n",
       "</table>\n",
       "</div>"
      ],
      "text/plain": [
       "       CoinName Algorithm ProofType  TotalCoinsMined TotalCoinSupply\n",
       "42      42 Coin    Scrypt   PoW/PoS     4.199995e+01              42\n",
       "404     404Coin    Scrypt   PoW/PoS     1.055185e+09       532000000\n",
       "1337  EliteCoin       X13   PoW/PoS     2.927942e+10    314159265359\n",
       "BTC     Bitcoin   SHA-256       PoW     1.792718e+07        21000000\n",
       "ETH    Ethereum    Ethash       PoW     1.076842e+08               0"
      ]
     },
     "execution_count": 51,
     "metadata": {},
     "output_type": "execute_result"
    }
   ],
   "source": [
    "# Keep the rows where coins are mined.\n",
    "new_crypto_df = clean_crypto_df.loc[clean_crypto_df[\"TotalCoinsMined\"] > 0]\n",
    "new_crypto_df.head()"
   ]
  },
  {
   "cell_type": "code",
   "execution_count": 61,
   "metadata": {},
   "outputs": [
    {
     "data": {
      "text/html": [
       "<div>\n",
       "<style scoped>\n",
       "    .dataframe tbody tr th:only-of-type {\n",
       "        vertical-align: middle;\n",
       "    }\n",
       "\n",
       "    .dataframe tbody tr th {\n",
       "        vertical-align: top;\n",
       "    }\n",
       "\n",
       "    .dataframe thead th {\n",
       "        text-align: right;\n",
       "    }\n",
       "</style>\n",
       "<table border=\"1\" class=\"dataframe\">\n",
       "  <thead>\n",
       "    <tr style=\"text-align: right;\">\n",
       "      <th></th>\n",
       "      <th>CoinName</th>\n",
       "    </tr>\n",
       "  </thead>\n",
       "  <tbody>\n",
       "    <tr>\n",
       "      <th>42</th>\n",
       "      <td>42 Coin</td>\n",
       "    </tr>\n",
       "    <tr>\n",
       "      <th>404</th>\n",
       "      <td>404Coin</td>\n",
       "    </tr>\n",
       "    <tr>\n",
       "      <th>1337</th>\n",
       "      <td>EliteCoin</td>\n",
       "    </tr>\n",
       "    <tr>\n",
       "      <th>BTC</th>\n",
       "      <td>Bitcoin</td>\n",
       "    </tr>\n",
       "    <tr>\n",
       "      <th>ETH</th>\n",
       "      <td>Ethereum</td>\n",
       "    </tr>\n",
       "  </tbody>\n",
       "</table>\n",
       "</div>"
      ],
      "text/plain": [
       "       CoinName\n",
       "42      42 Coin\n",
       "404     404Coin\n",
       "1337  EliteCoin\n",
       "BTC     Bitcoin\n",
       "ETH    Ethereum"
      ]
     },
     "execution_count": 61,
     "metadata": {},
     "output_type": "execute_result"
    }
   ],
   "source": [
    "# Create a new DataFrame that holds only the cryptocurrencies names.\n",
    "names_df = pd.DataFrame(new_crypto_df[\"CoinName\"])\n",
    "names_df.head()"
   ]
  },
  {
   "cell_type": "code",
   "execution_count": 70,
   "metadata": {},
   "outputs": [
    {
     "data": {
      "text/html": [
       "<div>\n",
       "<style scoped>\n",
       "    .dataframe tbody tr th:only-of-type {\n",
       "        vertical-align: middle;\n",
       "    }\n",
       "\n",
       "    .dataframe tbody tr th {\n",
       "        vertical-align: top;\n",
       "    }\n",
       "\n",
       "    .dataframe thead th {\n",
       "        text-align: right;\n",
       "    }\n",
       "</style>\n",
       "<table border=\"1\" class=\"dataframe\">\n",
       "  <thead>\n",
       "    <tr style=\"text-align: right;\">\n",
       "      <th></th>\n",
       "      <th>Algorithm</th>\n",
       "      <th>ProofType</th>\n",
       "      <th>TotalCoinsMined</th>\n",
       "      <th>TotalCoinSupply</th>\n",
       "    </tr>\n",
       "  </thead>\n",
       "  <tbody>\n",
       "    <tr>\n",
       "      <th>42</th>\n",
       "      <td>Scrypt</td>\n",
       "      <td>PoW/PoS</td>\n",
       "      <td>4.199995e+01</td>\n",
       "      <td>42</td>\n",
       "    </tr>\n",
       "    <tr>\n",
       "      <th>404</th>\n",
       "      <td>Scrypt</td>\n",
       "      <td>PoW/PoS</td>\n",
       "      <td>1.055185e+09</td>\n",
       "      <td>532000000</td>\n",
       "    </tr>\n",
       "    <tr>\n",
       "      <th>1337</th>\n",
       "      <td>X13</td>\n",
       "      <td>PoW/PoS</td>\n",
       "      <td>2.927942e+10</td>\n",
       "      <td>314159265359</td>\n",
       "    </tr>\n",
       "    <tr>\n",
       "      <th>BTC</th>\n",
       "      <td>SHA-256</td>\n",
       "      <td>PoW</td>\n",
       "      <td>1.792718e+07</td>\n",
       "      <td>21000000</td>\n",
       "    </tr>\n",
       "    <tr>\n",
       "      <th>ETH</th>\n",
       "      <td>Ethash</td>\n",
       "      <td>PoW</td>\n",
       "      <td>1.076842e+08</td>\n",
       "      <td>0</td>\n",
       "    </tr>\n",
       "  </tbody>\n",
       "</table>\n",
       "</div>"
      ],
      "text/plain": [
       "     Algorithm ProofType  TotalCoinsMined TotalCoinSupply\n",
       "42      Scrypt   PoW/PoS     4.199995e+01              42\n",
       "404     Scrypt   PoW/PoS     1.055185e+09       532000000\n",
       "1337       X13   PoW/PoS     2.927942e+10    314159265359\n",
       "BTC    SHA-256       PoW     1.792718e+07        21000000\n",
       "ETH     Ethash       PoW     1.076842e+08               0"
      ]
     },
     "execution_count": 70,
     "metadata": {},
     "output_type": "execute_result"
    }
   ],
   "source": [
    "# Drop the 'CoinName' column since it's not going to be used on the clustering algorithm.\n",
    "crypto_df = new_crypto_df.drop([\"CoinName\"], axis = 1)\n",
    "crypto_df.head()"
   ]
  },
  {
   "cell_type": "code",
   "execution_count": 72,
   "metadata": {},
   "outputs": [
    {
     "data": {
      "text/html": [
       "<div>\n",
       "<style scoped>\n",
       "    .dataframe tbody tr th:only-of-type {\n",
       "        vertical-align: middle;\n",
       "    }\n",
       "\n",
       "    .dataframe tbody tr th {\n",
       "        vertical-align: top;\n",
       "    }\n",
       "\n",
       "    .dataframe thead th {\n",
       "        text-align: right;\n",
       "    }\n",
       "</style>\n",
       "<table border=\"1\" class=\"dataframe\">\n",
       "  <thead>\n",
       "    <tr style=\"text-align: right;\">\n",
       "      <th></th>\n",
       "      <th>TotalCoinsMined</th>\n",
       "      <th>TotalCoinSupply</th>\n",
       "      <th>Algorithm_1GB AES Pattern Search</th>\n",
       "      <th>Algorithm_536</th>\n",
       "      <th>Algorithm_Argon2d</th>\n",
       "      <th>Algorithm_BLAKE256</th>\n",
       "      <th>Algorithm_Blake</th>\n",
       "      <th>Algorithm_Blake2S</th>\n",
       "      <th>Algorithm_Blake2b</th>\n",
       "      <th>Algorithm_C11</th>\n",
       "      <th>...</th>\n",
       "      <th>ProofType_PoW/PoS</th>\n",
       "      <th>ProofType_PoW/PoS</th>\n",
       "      <th>ProofType_PoW/PoW</th>\n",
       "      <th>ProofType_PoW/nPoS</th>\n",
       "      <th>ProofType_Pos</th>\n",
       "      <th>ProofType_Proof of Authority</th>\n",
       "      <th>ProofType_Proof of Trust</th>\n",
       "      <th>ProofType_TPoS</th>\n",
       "      <th>ProofType_Zero-Knowledge Proof</th>\n",
       "      <th>ProofType_dPoW/PoW</th>\n",
       "    </tr>\n",
       "  </thead>\n",
       "  <tbody>\n",
       "    <tr>\n",
       "      <th>42</th>\n",
       "      <td>4.199995e+01</td>\n",
       "      <td>42</td>\n",
       "      <td>0</td>\n",
       "      <td>0</td>\n",
       "      <td>0</td>\n",
       "      <td>0</td>\n",
       "      <td>0</td>\n",
       "      <td>0</td>\n",
       "      <td>0</td>\n",
       "      <td>0</td>\n",
       "      <td>...</td>\n",
       "      <td>1</td>\n",
       "      <td>0</td>\n",
       "      <td>0</td>\n",
       "      <td>0</td>\n",
       "      <td>0</td>\n",
       "      <td>0</td>\n",
       "      <td>0</td>\n",
       "      <td>0</td>\n",
       "      <td>0</td>\n",
       "      <td>0</td>\n",
       "    </tr>\n",
       "    <tr>\n",
       "      <th>404</th>\n",
       "      <td>1.055185e+09</td>\n",
       "      <td>532000000</td>\n",
       "      <td>0</td>\n",
       "      <td>0</td>\n",
       "      <td>0</td>\n",
       "      <td>0</td>\n",
       "      <td>0</td>\n",
       "      <td>0</td>\n",
       "      <td>0</td>\n",
       "      <td>0</td>\n",
       "      <td>...</td>\n",
       "      <td>1</td>\n",
       "      <td>0</td>\n",
       "      <td>0</td>\n",
       "      <td>0</td>\n",
       "      <td>0</td>\n",
       "      <td>0</td>\n",
       "      <td>0</td>\n",
       "      <td>0</td>\n",
       "      <td>0</td>\n",
       "      <td>0</td>\n",
       "    </tr>\n",
       "    <tr>\n",
       "      <th>1337</th>\n",
       "      <td>2.927942e+10</td>\n",
       "      <td>314159265359</td>\n",
       "      <td>0</td>\n",
       "      <td>0</td>\n",
       "      <td>0</td>\n",
       "      <td>0</td>\n",
       "      <td>0</td>\n",
       "      <td>0</td>\n",
       "      <td>0</td>\n",
       "      <td>0</td>\n",
       "      <td>...</td>\n",
       "      <td>1</td>\n",
       "      <td>0</td>\n",
       "      <td>0</td>\n",
       "      <td>0</td>\n",
       "      <td>0</td>\n",
       "      <td>0</td>\n",
       "      <td>0</td>\n",
       "      <td>0</td>\n",
       "      <td>0</td>\n",
       "      <td>0</td>\n",
       "    </tr>\n",
       "    <tr>\n",
       "      <th>BTC</th>\n",
       "      <td>1.792718e+07</td>\n",
       "      <td>21000000</td>\n",
       "      <td>0</td>\n",
       "      <td>0</td>\n",
       "      <td>0</td>\n",
       "      <td>0</td>\n",
       "      <td>0</td>\n",
       "      <td>0</td>\n",
       "      <td>0</td>\n",
       "      <td>0</td>\n",
       "      <td>...</td>\n",
       "      <td>0</td>\n",
       "      <td>0</td>\n",
       "      <td>0</td>\n",
       "      <td>0</td>\n",
       "      <td>0</td>\n",
       "      <td>0</td>\n",
       "      <td>0</td>\n",
       "      <td>0</td>\n",
       "      <td>0</td>\n",
       "      <td>0</td>\n",
       "    </tr>\n",
       "    <tr>\n",
       "      <th>ETH</th>\n",
       "      <td>1.076842e+08</td>\n",
       "      <td>0</td>\n",
       "      <td>0</td>\n",
       "      <td>0</td>\n",
       "      <td>0</td>\n",
       "      <td>0</td>\n",
       "      <td>0</td>\n",
       "      <td>0</td>\n",
       "      <td>0</td>\n",
       "      <td>0</td>\n",
       "      <td>...</td>\n",
       "      <td>0</td>\n",
       "      <td>0</td>\n",
       "      <td>0</td>\n",
       "      <td>0</td>\n",
       "      <td>0</td>\n",
       "      <td>0</td>\n",
       "      <td>0</td>\n",
       "      <td>0</td>\n",
       "      <td>0</td>\n",
       "      <td>0</td>\n",
       "    </tr>\n",
       "  </tbody>\n",
       "</table>\n",
       "<p>5 rows × 98 columns</p>\n",
       "</div>"
      ],
      "text/plain": [
       "      TotalCoinsMined TotalCoinSupply  Algorithm_1GB AES Pattern Search  \\\n",
       "42       4.199995e+01              42                                 0   \n",
       "404      1.055185e+09       532000000                                 0   \n",
       "1337     2.927942e+10    314159265359                                 0   \n",
       "BTC      1.792718e+07        21000000                                 0   \n",
       "ETH      1.076842e+08               0                                 0   \n",
       "\n",
       "      Algorithm_536  Algorithm_Argon2d  Algorithm_BLAKE256  Algorithm_Blake  \\\n",
       "42                0                  0                   0                0   \n",
       "404               0                  0                   0                0   \n",
       "1337              0                  0                   0                0   \n",
       "BTC               0                  0                   0                0   \n",
       "ETH               0                  0                   0                0   \n",
       "\n",
       "      Algorithm_Blake2S  Algorithm_Blake2b  Algorithm_C11  ...  \\\n",
       "42                    0                  0              0  ...   \n",
       "404                   0                  0              0  ...   \n",
       "1337                  0                  0              0  ...   \n",
       "BTC                   0                  0              0  ...   \n",
       "ETH                   0                  0              0  ...   \n",
       "\n",
       "      ProofType_PoW/PoS  ProofType_PoW/PoS   ProofType_PoW/PoW  \\\n",
       "42                    1                   0                  0   \n",
       "404                   1                   0                  0   \n",
       "1337                  1                   0                  0   \n",
       "BTC                   0                   0                  0   \n",
       "ETH                   0                   0                  0   \n",
       "\n",
       "      ProofType_PoW/nPoS  ProofType_Pos  ProofType_Proof of Authority  \\\n",
       "42                     0              0                             0   \n",
       "404                    0              0                             0   \n",
       "1337                   0              0                             0   \n",
       "BTC                    0              0                             0   \n",
       "ETH                    0              0                             0   \n",
       "\n",
       "      ProofType_Proof of Trust  ProofType_TPoS  \\\n",
       "42                           0               0   \n",
       "404                          0               0   \n",
       "1337                         0               0   \n",
       "BTC                          0               0   \n",
       "ETH                          0               0   \n",
       "\n",
       "      ProofType_Zero-Knowledge Proof  ProofType_dPoW/PoW  \n",
       "42                                 0                   0  \n",
       "404                                0                   0  \n",
       "1337                               0                   0  \n",
       "BTC                                0                   0  \n",
       "ETH                                0                   0  \n",
       "\n",
       "[5 rows x 98 columns]"
      ]
     },
     "execution_count": 72,
     "metadata": {},
     "output_type": "execute_result"
    }
   ],
   "source": [
    "# Use get_dummies() to create variables for text features.\n",
    "X = pd.get_dummies(crypto_df, columns = [\"Algorithm\", \"ProofType\"])\n",
    "X.head()"
   ]
  },
  {
   "cell_type": "code",
   "execution_count": 73,
   "metadata": {},
   "outputs": [
    {
     "name": "stdout",
     "output_type": "stream",
     "text": [
      "[[-0.11710817 -0.1528703  -0.0433963  -0.0433963  -0.0433963  -0.06142951\n",
      "  -0.07530656 -0.0433963  -0.06142951 -0.06142951 -0.0433963  -0.0433963\n",
      "  -0.19245009 -0.06142951 -0.09740465 -0.0433963  -0.11547005 -0.07530656\n",
      "  -0.0433963  -0.0433963  -0.15191091 -0.0433963  -0.13118084 -0.0433963\n",
      "  -0.0433963  -0.08703883 -0.0433963  -0.0433963  -0.0433963  -0.0433963\n",
      "  -0.06142951 -0.0433963  -0.08703883 -0.08703883 -0.08703883 -0.0433963\n",
      "  -0.13118084 -0.13840913 -0.13840913 -0.0433963  -0.06142951 -0.0433963\n",
      "  -0.07530656 -0.18168574 -0.0433963  -0.0433963  -0.0433963  -0.07530656\n",
      "  -0.15826614 -0.31491833 -0.0433963  -0.08703883 -0.07530656 -0.06142951\n",
      "   1.38675049 -0.0433963  -0.0433963  -0.06142951 -0.0433963  -0.0433963\n",
      "  -0.0433963  -0.0433963  -0.0433963  -0.0433963  -0.0433963  -0.0433963\n",
      "  -0.39879994 -0.0433963  -0.18168574 -0.0433963  -0.08703883 -0.08703883\n",
      "  -0.10680283 -0.0433963  -0.13118084 -0.0433963  -0.0433963  -0.0433963\n",
      "  -0.0433963  -0.07530656 -0.43911856 -0.0433963  -0.06142951 -0.0433963\n",
      "  -0.0433963  -0.89632016 -0.0433963  -0.0433963   1.42222617 -0.0433963\n",
      "  -0.0433963  -0.0433963  -0.0433963  -0.0433963  -0.0433963  -0.0433963\n",
      "  -0.0433963  -0.0433963 ]\n",
      " [-0.09396955 -0.145009   -0.0433963  -0.0433963  -0.0433963  -0.06142951\n",
      "  -0.07530656 -0.0433963  -0.06142951 -0.06142951 -0.0433963  -0.0433963\n",
      "  -0.19245009 -0.06142951 -0.09740465 -0.0433963  -0.11547005 -0.07530656\n",
      "  -0.0433963  -0.0433963  -0.15191091 -0.0433963  -0.13118084 -0.0433963\n",
      "  -0.0433963  -0.08703883 -0.0433963  -0.0433963  -0.0433963  -0.0433963\n",
      "  -0.06142951 -0.0433963  -0.08703883 -0.08703883 -0.08703883 -0.0433963\n",
      "  -0.13118084 -0.13840913 -0.13840913 -0.0433963  -0.06142951 -0.0433963\n",
      "  -0.07530656 -0.18168574 -0.0433963  -0.0433963  -0.0433963  -0.07530656\n",
      "  -0.15826614 -0.31491833 -0.0433963  -0.08703883 -0.07530656 -0.06142951\n",
      "   1.38675049 -0.0433963  -0.0433963  -0.06142951 -0.0433963  -0.0433963\n",
      "  -0.0433963  -0.0433963  -0.0433963  -0.0433963  -0.0433963  -0.0433963\n",
      "  -0.39879994 -0.0433963  -0.18168574 -0.0433963  -0.08703883 -0.08703883\n",
      "  -0.10680283 -0.0433963  -0.13118084 -0.0433963  -0.0433963  -0.0433963\n",
      "  -0.0433963  -0.07530656 -0.43911856 -0.0433963  -0.06142951 -0.0433963\n",
      "  -0.0433963  -0.89632016 -0.0433963  -0.0433963   1.42222617 -0.0433963\n",
      "  -0.0433963  -0.0433963  -0.0433963  -0.0433963  -0.0433963  -0.0433963\n",
      "  -0.0433963  -0.0433963 ]\n",
      " [ 0.52494561  4.48942416 -0.0433963  -0.0433963  -0.0433963  -0.06142951\n",
      "  -0.07530656 -0.0433963  -0.06142951 -0.06142951 -0.0433963  -0.0433963\n",
      "  -0.19245009 -0.06142951 -0.09740465 -0.0433963  -0.11547005 -0.07530656\n",
      "  -0.0433963  -0.0433963  -0.15191091 -0.0433963  -0.13118084 -0.0433963\n",
      "  -0.0433963  -0.08703883 -0.0433963  -0.0433963  -0.0433963  -0.0433963\n",
      "  -0.06142951 -0.0433963  -0.08703883 -0.08703883 -0.08703883 -0.0433963\n",
      "  -0.13118084 -0.13840913 -0.13840913 -0.0433963  -0.06142951 -0.0433963\n",
      "  -0.07530656 -0.18168574 -0.0433963  -0.0433963  -0.0433963  -0.07530656\n",
      "  -0.15826614 -0.31491833 -0.0433963  -0.08703883 -0.07530656 -0.06142951\n",
      "  -0.72111026 -0.0433963  -0.0433963  -0.06142951 -0.0433963  -0.0433963\n",
      "  -0.0433963  -0.0433963  -0.0433963  -0.0433963  -0.0433963  -0.0433963\n",
      "  -0.39879994 -0.0433963   5.50400923 -0.0433963  -0.08703883 -0.08703883\n",
      "  -0.10680283 -0.0433963  -0.13118084 -0.0433963  -0.0433963  -0.0433963\n",
      "  -0.0433963  -0.07530656 -0.43911856 -0.0433963  -0.06142951 -0.0433963\n",
      "  -0.0433963  -0.89632016 -0.0433963  -0.0433963   1.42222617 -0.0433963\n",
      "  -0.0433963  -0.0433963  -0.0433963  -0.0433963  -0.0433963  -0.0433963\n",
      "  -0.0433963  -0.0433963 ]\n",
      " [-0.11671506 -0.15255998 -0.0433963  -0.0433963  -0.0433963  -0.06142951\n",
      "  -0.07530656 -0.0433963  -0.06142951 -0.06142951 -0.0433963  -0.0433963\n",
      "  -0.19245009 -0.06142951 -0.09740465 -0.0433963  -0.11547005 -0.07530656\n",
      "  -0.0433963  -0.0433963  -0.15191091 -0.0433963  -0.13118084 -0.0433963\n",
      "  -0.0433963  -0.08703883 -0.0433963  -0.0433963  -0.0433963  -0.0433963\n",
      "  -0.06142951 -0.0433963  -0.08703883 -0.08703883 -0.08703883 -0.0433963\n",
      "  -0.13118084 -0.13840913 -0.13840913 -0.0433963  -0.06142951 -0.0433963\n",
      "  -0.07530656 -0.18168574 -0.0433963  -0.0433963  -0.0433963  -0.07530656\n",
      "  -0.15826614  3.17542648 -0.0433963  -0.08703883 -0.07530656 -0.06142951\n",
      "  -0.72111026 -0.0433963  -0.0433963  -0.06142951 -0.0433963  -0.0433963\n",
      "  -0.0433963  -0.0433963  -0.0433963  -0.0433963  -0.0433963  -0.0433963\n",
      "  -0.39879994 -0.0433963  -0.18168574 -0.0433963  -0.08703883 -0.08703883\n",
      "  -0.10680283 -0.0433963  -0.13118084 -0.0433963  -0.0433963  -0.0433963\n",
      "  -0.0433963  -0.07530656 -0.43911856 -0.0433963  -0.06142951 -0.0433963\n",
      "  -0.0433963   1.11567277 -0.0433963  -0.0433963  -0.70312305 -0.0433963\n",
      "  -0.0433963  -0.0433963  -0.0433963  -0.0433963  -0.0433963  -0.0433963\n",
      "  -0.0433963  -0.0433963 ]\n",
      " [-0.11474682 -0.1528703  -0.0433963  -0.0433963  -0.0433963  -0.06142951\n",
      "  -0.07530656 -0.0433963  -0.06142951 -0.06142951 -0.0433963  -0.0433963\n",
      "  -0.19245009 -0.06142951 -0.09740465 -0.0433963  -0.11547005 -0.07530656\n",
      "  -0.0433963  -0.0433963  -0.15191091 -0.0433963   7.62306442 -0.0433963\n",
      "  -0.0433963  -0.08703883 -0.0433963  -0.0433963  -0.0433963  -0.0433963\n",
      "  -0.06142951 -0.0433963  -0.08703883 -0.08703883 -0.08703883 -0.0433963\n",
      "  -0.13118084 -0.13840913 -0.13840913 -0.0433963  -0.06142951 -0.0433963\n",
      "  -0.07530656 -0.18168574 -0.0433963  -0.0433963  -0.0433963  -0.07530656\n",
      "  -0.15826614 -0.31491833 -0.0433963  -0.08703883 -0.07530656 -0.06142951\n",
      "  -0.72111026 -0.0433963  -0.0433963  -0.06142951 -0.0433963  -0.0433963\n",
      "  -0.0433963  -0.0433963  -0.0433963  -0.0433963  -0.0433963  -0.0433963\n",
      "  -0.39879994 -0.0433963  -0.18168574 -0.0433963  -0.08703883 -0.08703883\n",
      "  -0.10680283 -0.0433963  -0.13118084 -0.0433963  -0.0433963  -0.0433963\n",
      "  -0.0433963  -0.07530656 -0.43911856 -0.0433963  -0.06142951 -0.0433963\n",
      "  -0.0433963   1.11567277 -0.0433963  -0.0433963  -0.70312305 -0.0433963\n",
      "  -0.0433963  -0.0433963  -0.0433963  -0.0433963  -0.0433963  -0.0433963\n",
      "  -0.0433963  -0.0433963 ]]\n"
     ]
    }
   ],
   "source": [
    "# Standardize the data with StandardScaler().\n",
    "X_scaled = StandardScaler().fit_transform(X)\n",
    "print(X_scaled[0:5])"
   ]
  },
  {
   "cell_type": "markdown",
   "metadata": {},
   "source": [
    "### Deliverable 2: Reducing Data Dimensions Using PCA"
   ]
  },
  {
   "cell_type": "code",
   "execution_count": 74,
   "metadata": {},
   "outputs": [
    {
     "data": {
      "text/plain": [
       "array([[-0.33690156,  1.04469578, -0.62947665],\n",
       "       [-0.32026876,  1.04479594, -0.62976815],\n",
       "       [ 2.30948465,  1.61413565, -0.65432638],\n",
       "       ...,\n",
       "       [ 0.32630486, -2.30670683,  0.42558661],\n",
       "       [-0.14287409, -2.06954564,  0.43544015],\n",
       "       [-0.30203845,  0.866912  , -0.32439234]])"
      ]
     },
     "execution_count": 74,
     "metadata": {},
     "output_type": "execute_result"
    }
   ],
   "source": [
    "# Using PCA to reduce dimension to three principal components.\n",
    "pca = PCA(n_components=3)\n",
    "X_pca = pca.fit_transform(X_scaled)\n",
    "X_pca"
   ]
  },
  {
   "cell_type": "code",
   "execution_count": 81,
   "metadata": {},
   "outputs": [
    {
     "data": {
      "text/html": [
       "<div>\n",
       "<style scoped>\n",
       "    .dataframe tbody tr th:only-of-type {\n",
       "        vertical-align: middle;\n",
       "    }\n",
       "\n",
       "    .dataframe tbody tr th {\n",
       "        vertical-align: top;\n",
       "    }\n",
       "\n",
       "    .dataframe thead th {\n",
       "        text-align: right;\n",
       "    }\n",
       "</style>\n",
       "<table border=\"1\" class=\"dataframe\">\n",
       "  <thead>\n",
       "    <tr style=\"text-align: right;\">\n",
       "      <th></th>\n",
       "      <th>PC 1</th>\n",
       "      <th>PC 2</th>\n",
       "      <th>PC 3</th>\n",
       "    </tr>\n",
       "  </thead>\n",
       "  <tbody>\n",
       "    <tr>\n",
       "      <th>42</th>\n",
       "      <td>-0.336902</td>\n",
       "      <td>1.044696</td>\n",
       "      <td>-0.629477</td>\n",
       "    </tr>\n",
       "    <tr>\n",
       "      <th>404</th>\n",
       "      <td>-0.320269</td>\n",
       "      <td>1.044796</td>\n",
       "      <td>-0.629768</td>\n",
       "    </tr>\n",
       "    <tr>\n",
       "      <th>1337</th>\n",
       "      <td>2.309485</td>\n",
       "      <td>1.614136</td>\n",
       "      <td>-0.654326</td>\n",
       "    </tr>\n",
       "    <tr>\n",
       "      <th>BTC</th>\n",
       "      <td>-0.138517</td>\n",
       "      <td>-1.304552</td>\n",
       "      <td>0.223040</td>\n",
       "    </tr>\n",
       "    <tr>\n",
       "      <th>ETH</th>\n",
       "      <td>-0.155362</td>\n",
       "      <td>-1.965754</td>\n",
       "      <td>0.418310</td>\n",
       "    </tr>\n",
       "  </tbody>\n",
       "</table>\n",
       "</div>"
      ],
      "text/plain": [
       "          PC 1      PC 2      PC 3\n",
       "42   -0.336902  1.044696 -0.629477\n",
       "404  -0.320269  1.044796 -0.629768\n",
       "1337  2.309485  1.614136 -0.654326\n",
       "BTC  -0.138517 -1.304552  0.223040\n",
       "ETH  -0.155362 -1.965754  0.418310"
      ]
     },
     "execution_count": 81,
     "metadata": {},
     "output_type": "execute_result"
    }
   ],
   "source": [
    "# Create a DataFrame with the three principal components.\n",
    "pcs_df = pd.DataFrame(\n",
    "    data=X_pca, columns=[\"PC 1\", \"PC 2\", \"PC 3\" ], index= X.index\n",
    ")\n",
    "pcs_df.head()"
   ]
  },
  {
   "cell_type": "markdown",
   "metadata": {},
   "source": [
    "### Deliverable 3: Clustering Crytocurrencies Using K-Means\n",
    "\n",
    "#### Finding the Best Value for `k` Using the Elbow Curve"
   ]
  },
  {
   "cell_type": "code",
   "execution_count": 83,
   "metadata": {},
   "outputs": [
    {
     "data": {},
     "metadata": {},
     "output_type": "display_data"
    },
    {
     "data": {
      "application/vnd.holoviews_exec.v0+json": "",
      "text/html": [
       "<div id='1001'>\n",
       "\n",
       "\n",
       "\n",
       "\n",
       "\n",
       "  <div class=\"bk-root\" id=\"7d35ffef-e39a-45d9-b4f8-2ae97f83f7a4\" data-root-id=\"1001\"></div>\n",
       "</div>\n",
       "<script type=\"application/javascript\">(function(root) {\n",
       "  function embed_document(root) {\n",
       "    var docs_json = {\"60d8c16d-953b-4b99-89a4-5b0850c34838\":{\"roots\":{\"references\":[{\"attributes\":{\"margin\":[5,5,5,5],\"name\":\"HSpacer01538\",\"sizing_mode\":\"stretch_width\"},\"id\":\"1065\",\"type\":\"Spacer\"},{\"attributes\":{},\"id\":\"1020\",\"type\":\"BasicTicker\"},{\"attributes\":{\"axis\":{\"id\":\"1019\"},\"dimension\":1,\"grid_line_color\":null,\"ticker\":null},\"id\":\"1022\",\"type\":\"Grid\"},{\"attributes\":{\"active_drag\":\"auto\",\"active_inspect\":\"auto\",\"active_multi\":null,\"active_scroll\":\"auto\",\"active_tap\":\"auto\",\"tools\":[{\"id\":\"1005\"},{\"id\":\"1023\"},{\"id\":\"1024\"},{\"id\":\"1025\"},{\"id\":\"1026\"},{\"id\":\"1027\"}]},\"id\":\"1029\",\"type\":\"Toolbar\"},{\"attributes\":{\"data_source\":{\"id\":\"1036\"},\"glyph\":{\"id\":\"1039\"},\"hover_glyph\":null,\"muted_glyph\":{\"id\":\"1041\"},\"nonselection_glyph\":{\"id\":\"1040\"},\"selection_glyph\":null,\"view\":{\"id\":\"1043\"}},\"id\":\"1042\",\"type\":\"GlyphRenderer\"},{\"attributes\":{\"data\":{\"inertia\":{\"__ndarray__\":\"jkFkkC5xrEA3Erb+a1yjQFRmn4awQZdA45pLMXqWfUCY674yro5xQJ30VLAY0GpAsfIOQiiRZECa1eInkvtgQO9ll8CdA1xAu7ZmquQ+VkA=\",\"dtype\":\"float64\",\"order\":\"little\",\"shape\":[10]},\"k\":[1,2,3,4,5,6,7,8,9,10]},\"selected\":{\"id\":\"1037\"},\"selection_policy\":{\"id\":\"1056\"}},\"id\":\"1036\",\"type\":\"ColumnDataSource\"},{\"attributes\":{\"line_color\":\"#30a2da\",\"line_width\":2,\"x\":{\"field\":\"k\"},\"y\":{\"field\":\"inertia\"}},\"id\":\"1039\",\"type\":\"Line\"},{\"attributes\":{\"bottom_units\":\"screen\",\"fill_alpha\":0.5,\"fill_color\":\"lightgrey\",\"left_units\":\"screen\",\"level\":\"overlay\",\"line_alpha\":1.0,\"line_color\":\"black\",\"line_dash\":[4,4],\"line_width\":2,\"right_units\":\"screen\",\"top_units\":\"screen\"},\"id\":\"1028\",\"type\":\"BoxAnnotation\"},{\"attributes\":{\"below\":[{\"id\":\"1015\"}],\"center\":[{\"id\":\"1018\"},{\"id\":\"1022\"}],\"left\":[{\"id\":\"1019\"}],\"margin\":[5,5,5,5],\"min_border_bottom\":10,\"min_border_left\":10,\"min_border_right\":10,\"min_border_top\":10,\"plot_height\":300,\"plot_width\":700,\"renderers\":[{\"id\":\"1042\"}],\"sizing_mode\":\"fixed\",\"title\":{\"id\":\"1007\"},\"toolbar\":{\"id\":\"1029\"},\"x_range\":{\"id\":\"1003\"},\"x_scale\":{\"id\":\"1011\"},\"y_range\":{\"id\":\"1004\"},\"y_scale\":{\"id\":\"1013\"}},\"id\":\"1006\",\"subtype\":\"Figure\",\"type\":\"Plot\"},{\"attributes\":{\"text\":\"Elbow Curve\",\"text_color\":{\"value\":\"black\"},\"text_font_size\":{\"value\":\"12pt\"}},\"id\":\"1007\",\"type\":\"Title\"},{\"attributes\":{\"line_alpha\":0.2,\"line_color\":\"#30a2da\",\"line_width\":2,\"x\":{\"field\":\"k\"},\"y\":{\"field\":\"inertia\"}},\"id\":\"1041\",\"type\":\"Line\"},{\"attributes\":{},\"id\":\"1023\",\"type\":\"SaveTool\"},{\"attributes\":{},\"id\":\"1037\",\"type\":\"Selection\"},{\"attributes\":{},\"id\":\"1024\",\"type\":\"PanTool\"},{\"attributes\":{\"end\":10.0,\"reset_end\":10.0,\"reset_start\":1.0,\"start\":1.0,\"tags\":[[[\"k\",\"k\",null]]]},\"id\":\"1003\",\"type\":\"Range1d\"},{\"attributes\":{},\"id\":\"1027\",\"type\":\"ResetTool\"},{\"attributes\":{},\"id\":\"1025\",\"type\":\"WheelZoomTool\"},{\"attributes\":{},\"id\":\"1056\",\"type\":\"UnionRenderers\"},{\"attributes\":{\"source\":{\"id\":\"1036\"}},\"id\":\"1043\",\"type\":\"CDSView\"},{\"attributes\":{},\"id\":\"1011\",\"type\":\"LinearScale\"},{\"attributes\":{},\"id\":\"1046\",\"type\":\"BasicTickFormatter\"},{\"attributes\":{\"overlay\":{\"id\":\"1028\"}},\"id\":\"1026\",\"type\":\"BoxZoomTool\"},{\"attributes\":{\"line_alpha\":0.1,\"line_color\":\"#30a2da\",\"line_width\":2,\"x\":{\"field\":\"k\"},\"y\":{\"field\":\"inertia\"}},\"id\":\"1040\",\"type\":\"Line\"},{\"attributes\":{\"axis_label\":\"k\",\"bounds\":\"auto\",\"formatter\":{\"id\":\"1046\"},\"major_label_orientation\":\"horizontal\",\"ticker\":{\"id\":\"1044\"}},\"id\":\"1015\",\"type\":\"LinearAxis\"},{\"attributes\":{\"children\":[{\"id\":\"1002\"},{\"id\":\"1006\"},{\"id\":\"1065\"}],\"margin\":[0,0,0,0],\"name\":\"Row01533\",\"tags\":[\"embedded\"]},\"id\":\"1001\",\"type\":\"Row\"},{\"attributes\":{},\"id\":\"1013\",\"type\":\"LinearScale\"},{\"attributes\":{\"end\":3995.7517692434994,\"reset_end\":3995.7517692434994,\"reset_start\":-266.1781172303802,\"start\":-266.1781172303802,\"tags\":[[[\"inertia\",\"inertia\",null]]]},\"id\":\"1004\",\"type\":\"Range1d\"},{\"attributes\":{\"margin\":[5,5,5,5],\"name\":\"HSpacer01537\",\"sizing_mode\":\"stretch_width\"},\"id\":\"1002\",\"type\":\"Spacer\"},{\"attributes\":{\"ticks\":[1,2,3,4,5,6,7,8,9,10]},\"id\":\"1044\",\"type\":\"FixedTicker\"},{\"attributes\":{\"axis_label\":\"inertia\",\"bounds\":\"auto\",\"formatter\":{\"id\":\"1050\"},\"major_label_orientation\":\"horizontal\",\"ticker\":{\"id\":\"1020\"}},\"id\":\"1019\",\"type\":\"LinearAxis\"},{\"attributes\":{\"axis\":{\"id\":\"1015\"},\"grid_line_color\":null,\"ticker\":null},\"id\":\"1018\",\"type\":\"Grid\"},{\"attributes\":{},\"id\":\"1050\",\"type\":\"BasicTickFormatter\"},{\"attributes\":{\"callback\":null,\"renderers\":[{\"id\":\"1042\"}],\"tags\":[\"hv_created\"],\"tooltips\":[[\"k\",\"@{k}\"],[\"inertia\",\"@{inertia}\"]]},\"id\":\"1005\",\"type\":\"HoverTool\"}],\"root_ids\":[\"1001\"]},\"title\":\"Bokeh Application\",\"version\":\"2.2.3\"}};\n",
       "    var render_items = [{\"docid\":\"60d8c16d-953b-4b99-89a4-5b0850c34838\",\"root_ids\":[\"1001\"],\"roots\":{\"1001\":\"7d35ffef-e39a-45d9-b4f8-2ae97f83f7a4\"}}];\n",
       "    root.Bokeh.embed.embed_items_notebook(docs_json, render_items);\n",
       "  }\n",
       "  if (root.Bokeh !== undefined && root.Bokeh.Panel !== undefined) {\n",
       "    embed_document(root);\n",
       "  } else {\n",
       "    var attempts = 0;\n",
       "    var timer = setInterval(function(root) {\n",
       "      if (root.Bokeh !== undefined && root.Bokeh.Panel !== undefined) {\n",
       "        clearInterval(timer);\n",
       "        embed_document(root);\n",
       "      } else if (document.readyState == \"complete\") {\n",
       "        attempts++;\n",
       "        if (attempts > 100) {\n",
       "          clearInterval(timer);\n",
       "          console.log(\"Bokeh: ERROR: Unable to run BokehJS code because BokehJS library is missing\");\n",
       "        }\n",
       "      }\n",
       "    }, 10, root)\n",
       "  }\n",
       "})(window);</script>"
      ],
      "text/plain": [
       ":Curve   [k]   (inertia)"
      ]
     },
     "execution_count": 83,
     "metadata": {
      "application/vnd.holoviews_exec.v0+json": {
       "id": "1001"
      }
     },
     "output_type": "execute_result"
    }
   ],
   "source": [
    "# Create an elbow curve to find the best value for K.\n",
    "\n",
    "inertia = []\n",
    "k = list(range(1, 11))\n",
    "\n",
    "# Calculate the inertia for the range of K values\n",
    "for i in k:\n",
    "    km = KMeans(n_clusters=i, random_state=0)\n",
    "    km.fit(pcs_df)\n",
    "    inertia.append(km.inertia_)\n",
    "\n",
    "# Create the elbow curve\n",
    "elbow_data = {\"k\": k, \"inertia\": inertia}\n",
    "df_elbow = pd.DataFrame(elbow_data)\n",
    "df_elbow.hvplot.line(x=\"k\", y=\"inertia\", xticks=k, title=\"Elbow Curve\") "
   ]
  },
  {
   "cell_type": "markdown",
   "metadata": {},
   "source": [
    "Running K-Means with `k=4`"
   ]
  },
  {
   "cell_type": "code",
   "execution_count": 86,
   "metadata": {},
   "outputs": [
    {
     "data": {
      "text/plain": [
       "array([0, 0, 0, 1, 1, 1, 0, 1, 1, 1, 0, 1, 0, 0, 1, 0, 1, 1, 0, 0, 1, 1,\n",
       "       1, 1, 1, 0, 1, 1, 1, 0, 1, 0, 1, 1, 0, 0, 1, 1, 1, 1, 1, 1, 0, 0,\n",
       "       1, 1, 1, 1, 1, 0, 0, 1, 0, 1, 1, 1, 1, 0, 1, 1, 0, 1, 0, 0, 0, 1,\n",
       "       1, 1, 0, 0, 0, 0, 0, 1, 1, 1, 0, 0, 1, 0, 1, 0, 0, 1, 1, 1, 1, 0,\n",
       "       0, 1, 0, 1, 1, 0, 0, 1, 0, 0, 1, 1, 0, 0, 1, 0, 0, 1, 0, 1, 0, 1,\n",
       "       0, 1, 0, 0, 1, 1, 0, 1, 1, 1, 0, 1, 1, 1, 1, 1, 0, 0, 1, 1, 1, 0,\n",
       "       1, 0, 1, 1, 0, 1, 0, 1, 0, 0, 1, 1, 0, 1, 1, 0, 0, 1, 0, 1, 0, 0,\n",
       "       0, 1, 1, 1, 1, 0, 0, 0, 0, 0, 1, 1, 0, 0, 0, 0, 0, 1, 0, 0, 0, 0,\n",
       "       0, 1, 0, 1, 0, 0, 1, 0, 1, 0, 0, 1, 0, 1, 0, 1, 0, 1, 0, 0, 0, 0,\n",
       "       1, 0, 0, 0, 0, 0, 1, 1, 0, 0, 1, 1, 0, 0, 0, 0, 0, 1, 0, 0, 0, 0,\n",
       "       0, 0, 0, 0, 1, 0, 0, 0, 0, 0, 0, 1, 1, 1, 0, 0, 0, 0, 1, 0, 1, 0,\n",
       "       0, 1, 0, 1, 1, 0, 1, 1, 0, 1, 0, 0, 0, 1, 0, 0, 1, 0, 0, 0, 0, 0,\n",
       "       0, 0, 1, 0, 1, 0, 0, 0, 0, 1, 0, 1, 0, 1, 1, 1, 1, 0, 1, 0, 0, 1,\n",
       "       0, 1, 1, 1, 0, 1, 0, 1, 1, 1, 0, 1, 0, 1, 0, 0, 0, 1, 0, 1, 1, 1,\n",
       "       1, 1, 0, 0, 1, 0, 0, 0, 1, 0, 1, 0, 1, 0, 1, 0, 0, 0, 0, 1, 0, 0,\n",
       "       1, 0, 0, 0, 1, 1, 1, 1, 0, 0, 0, 0, 1, 0, 1, 1, 1, 0, 0, 1, 1, 0,\n",
       "       0, 1, 0, 1, 1, 1, 0, 1, 1, 0, 0, 0, 1, 1, 1, 0, 0, 0, 1, 1, 0, 1,\n",
       "       1, 1, 1, 0, 3, 3, 1, 1, 1, 0, 3, 0, 0, 0, 0, 1, 1, 1, 1, 0, 0, 0,\n",
       "       1, 0, 1, 0, 0, 0, 0, 1, 0, 0, 1, 0, 0, 1, 1, 0, 1, 0, 1, 1, 1, 1,\n",
       "       0, 0, 1, 0, 1, 0, 0, 0, 0, 0, 0, 1, 1, 1, 0, 0, 0, 0, 0, 0, 1, 0,\n",
       "       1, 1, 1, 1, 0, 0, 0, 0, 1, 0, 0, 1, 0, 0, 1, 3, 1, 0, 1, 1, 0, 0,\n",
       "       1, 0, 1, 1, 1, 1, 1, 0, 1, 0, 1, 0, 0, 1, 0, 0, 0, 0, 0, 1, 1, 1,\n",
       "       0, 0, 0, 1, 0, 1, 0, 1, 0, 0, 0, 0, 1, 0, 0, 0, 1, 0, 1, 0, 1, 0,\n",
       "       0, 0, 1, 1, 0, 0, 0, 0, 0, 0, 1, 0, 1, 0, 1, 0, 0, 3, 0, 2, 0, 0,\n",
       "       0, 1, 1, 0])"
      ]
     },
     "execution_count": 86,
     "metadata": {},
     "output_type": "execute_result"
    }
   ],
   "source": [
    "# Initialize the K-Means model.\n",
    "model = KMeans(n_clusters=4, random_state=0)\n",
    "\n",
    "# Fit the model\n",
    "model.fit(pcs_df)\n",
    "\n",
    "# Predict clusters\n",
    "predictions = model.predict(pcs_df)\n",
    "predictions"
   ]
  },
  {
   "cell_type": "code",
   "execution_count": 89,
   "metadata": {},
   "outputs": [
    {
     "name": "stdout",
     "output_type": "stream",
     "text": [
      "(532, 9)\n"
     ]
    },
    {
     "data": {
      "text/html": [
       "<div>\n",
       "<style scoped>\n",
       "    .dataframe tbody tr th:only-of-type {\n",
       "        vertical-align: middle;\n",
       "    }\n",
       "\n",
       "    .dataframe tbody tr th {\n",
       "        vertical-align: top;\n",
       "    }\n",
       "\n",
       "    .dataframe thead th {\n",
       "        text-align: right;\n",
       "    }\n",
       "</style>\n",
       "<table border=\"1\" class=\"dataframe\">\n",
       "  <thead>\n",
       "    <tr style=\"text-align: right;\">\n",
       "      <th></th>\n",
       "      <th>Algorithm</th>\n",
       "      <th>ProofType</th>\n",
       "      <th>TotalCoinsMined</th>\n",
       "      <th>TotalCoinSupply</th>\n",
       "      <th>PC 1</th>\n",
       "      <th>PC 2</th>\n",
       "      <th>PC 3</th>\n",
       "      <th>CoinName</th>\n",
       "      <th>class</th>\n",
       "    </tr>\n",
       "  </thead>\n",
       "  <tbody>\n",
       "    <tr>\n",
       "      <th>42</th>\n",
       "      <td>Scrypt</td>\n",
       "      <td>PoW/PoS</td>\n",
       "      <td>4.199995e+01</td>\n",
       "      <td>42</td>\n",
       "      <td>-0.336902</td>\n",
       "      <td>1.044696</td>\n",
       "      <td>-0.629477</td>\n",
       "      <td>42 Coin</td>\n",
       "      <td>0</td>\n",
       "    </tr>\n",
       "    <tr>\n",
       "      <th>404</th>\n",
       "      <td>Scrypt</td>\n",
       "      <td>PoW/PoS</td>\n",
       "      <td>1.055185e+09</td>\n",
       "      <td>532000000</td>\n",
       "      <td>-0.320269</td>\n",
       "      <td>1.044796</td>\n",
       "      <td>-0.629768</td>\n",
       "      <td>404Coin</td>\n",
       "      <td>0</td>\n",
       "    </tr>\n",
       "    <tr>\n",
       "      <th>1337</th>\n",
       "      <td>X13</td>\n",
       "      <td>PoW/PoS</td>\n",
       "      <td>2.927942e+10</td>\n",
       "      <td>314159265359</td>\n",
       "      <td>2.309485</td>\n",
       "      <td>1.614136</td>\n",
       "      <td>-0.654326</td>\n",
       "      <td>EliteCoin</td>\n",
       "      <td>0</td>\n",
       "    </tr>\n",
       "    <tr>\n",
       "      <th>BTC</th>\n",
       "      <td>SHA-256</td>\n",
       "      <td>PoW</td>\n",
       "      <td>1.792718e+07</td>\n",
       "      <td>21000000</td>\n",
       "      <td>-0.138517</td>\n",
       "      <td>-1.304552</td>\n",
       "      <td>0.223040</td>\n",
       "      <td>Bitcoin</td>\n",
       "      <td>1</td>\n",
       "    </tr>\n",
       "    <tr>\n",
       "      <th>ETH</th>\n",
       "      <td>Ethash</td>\n",
       "      <td>PoW</td>\n",
       "      <td>1.076842e+08</td>\n",
       "      <td>0</td>\n",
       "      <td>-0.155362</td>\n",
       "      <td>-1.965754</td>\n",
       "      <td>0.418310</td>\n",
       "      <td>Ethereum</td>\n",
       "      <td>1</td>\n",
       "    </tr>\n",
       "    <tr>\n",
       "      <th>LTC</th>\n",
       "      <td>Scrypt</td>\n",
       "      <td>PoW</td>\n",
       "      <td>6.303924e+07</td>\n",
       "      <td>84000000</td>\n",
       "      <td>-0.170130</td>\n",
       "      <td>-1.087818</td>\n",
       "      <td>-0.044509</td>\n",
       "      <td>Litecoin</td>\n",
       "      <td>1</td>\n",
       "    </tr>\n",
       "    <tr>\n",
       "      <th>DASH</th>\n",
       "      <td>X11</td>\n",
       "      <td>PoW/PoS</td>\n",
       "      <td>9.031294e+06</td>\n",
       "      <td>22000000</td>\n",
       "      <td>-0.390538</td>\n",
       "      <td>1.141413</td>\n",
       "      <td>-0.456789</td>\n",
       "      <td>Dash</td>\n",
       "      <td>0</td>\n",
       "    </tr>\n",
       "    <tr>\n",
       "      <th>XMR</th>\n",
       "      <td>CryptoNight-V7</td>\n",
       "      <td>PoW</td>\n",
       "      <td>1.720114e+07</td>\n",
       "      <td>0</td>\n",
       "      <td>-0.156476</td>\n",
       "      <td>-2.256307</td>\n",
       "      <td>0.458176</td>\n",
       "      <td>Monero</td>\n",
       "      <td>1</td>\n",
       "    </tr>\n",
       "    <tr>\n",
       "      <th>ETC</th>\n",
       "      <td>Ethash</td>\n",
       "      <td>PoW</td>\n",
       "      <td>1.133597e+08</td>\n",
       "      <td>210000000</td>\n",
       "      <td>-0.153806</td>\n",
       "      <td>-1.965856</td>\n",
       "      <td>0.418293</td>\n",
       "      <td>Ethereum Classic</td>\n",
       "      <td>1</td>\n",
       "    </tr>\n",
       "    <tr>\n",
       "      <th>ZEC</th>\n",
       "      <td>Equihash</td>\n",
       "      <td>PoW</td>\n",
       "      <td>7.383056e+06</td>\n",
       "      <td>21000000</td>\n",
       "      <td>-0.142873</td>\n",
       "      <td>-2.069546</td>\n",
       "      <td>0.435440</td>\n",
       "      <td>ZCash</td>\n",
       "      <td>1</td>\n",
       "    </tr>\n",
       "  </tbody>\n",
       "</table>\n",
       "</div>"
      ],
      "text/plain": [
       "           Algorithm ProofType  TotalCoinsMined TotalCoinSupply      PC 1  \\\n",
       "42            Scrypt   PoW/PoS     4.199995e+01              42 -0.336902   \n",
       "404           Scrypt   PoW/PoS     1.055185e+09       532000000 -0.320269   \n",
       "1337             X13   PoW/PoS     2.927942e+10    314159265359  2.309485   \n",
       "BTC          SHA-256       PoW     1.792718e+07        21000000 -0.138517   \n",
       "ETH           Ethash       PoW     1.076842e+08               0 -0.155362   \n",
       "LTC           Scrypt       PoW     6.303924e+07        84000000 -0.170130   \n",
       "DASH             X11   PoW/PoS     9.031294e+06        22000000 -0.390538   \n",
       "XMR   CryptoNight-V7       PoW     1.720114e+07               0 -0.156476   \n",
       "ETC           Ethash       PoW     1.133597e+08       210000000 -0.153806   \n",
       "ZEC         Equihash       PoW     7.383056e+06        21000000 -0.142873   \n",
       "\n",
       "          PC 2      PC 3          CoinName  class  \n",
       "42    1.044696 -0.629477           42 Coin      0  \n",
       "404   1.044796 -0.629768           404Coin      0  \n",
       "1337  1.614136 -0.654326         EliteCoin      0  \n",
       "BTC  -1.304552  0.223040           Bitcoin      1  \n",
       "ETH  -1.965754  0.418310          Ethereum      1  \n",
       "LTC  -1.087818 -0.044509          Litecoin      1  \n",
       "DASH  1.141413 -0.456789              Dash      0  \n",
       "XMR  -2.256307  0.458176            Monero      1  \n",
       "ETC  -1.965856  0.418293  Ethereum Classic      1  \n",
       "ZEC  -2.069546  0.435440             ZCash      1  "
      ]
     },
     "execution_count": 89,
     "metadata": {},
     "output_type": "execute_result"
    }
   ],
   "source": [
    "# Create a new DataFrame including predicted clusters and cryptocurrencies features.\n",
    "# Concatentate the crypto_df and pcs_df DataFrames on the same columns.\n",
    "clustered_df = pd.concat([crypto_df, pcs_df], axis=1)\n",
    "\n",
    "#  Add a new column, \"CoinName\" to the clustered_df DataFrame that holds the names of the cryptocurrencies. \n",
    "clustered_df[\"CoinName\"] = names_df[\"CoinName\"] \n",
    "\n",
    "#  Add a new column, \"Class\" to the clustered_df DataFrame that holds the predictions.\n",
    "clustered_df[\"class\"] = model.labels_\n",
    "\n",
    "# Print the shape of the clustered_df\n",
    "print(clustered_df.shape)\n",
    "clustered_df.head(10)"
   ]
  },
  {
   "cell_type": "markdown",
   "metadata": {},
   "source": [
    "### Deliverable 4: Visualizing Cryptocurrencies Results\n",
    "\n",
    "#### 3D-Scatter with Clusters"
   ]
  },
  {
   "cell_type": "code",
   "execution_count": 100,
   "metadata": {},
   "outputs": [
    {
     "data": {
      "application/vnd.plotly.v1+json": {
       "config": {
        "plotlyServerURL": "https://plot.ly"
       },
       "data": [
        {
         "customdata": [
          [
           "Scrypt"
          ],
          [
           "Scrypt"
          ],
          [
           "X13"
          ],
          [
           "X11"
          ],
          [
           "SHA-512"
          ],
          [
           "SHA-256"
          ],
          [
           "SHA-256"
          ],
          [
           "X15"
          ],
          [
           "Scrypt"
          ],
          [
           "Scrypt"
          ],
          [
           "Scrypt"
          ],
          [
           "Scrypt"
          ],
          [
           "Scrypt"
          ],
          [
           "Scrypt"
          ],
          [
           "Groestl"
          ],
          [
           "PoS"
          ],
          [
           "Scrypt"
          ],
          [
           "Scrypt"
          ],
          [
           "X11"
          ],
          [
           "X11"
          ],
          [
           "SHA3"
          ],
          [
           "Scrypt"
          ],
          [
           "SHA-256"
          ],
          [
           "Scrypt"
          ],
          [
           "X13"
          ],
          [
           "X13"
          ],
          [
           "NeoScrypt"
          ],
          [
           "Scrypt"
          ],
          [
           "Scrypt"
          ],
          [
           "Scrypt"
          ],
          [
           "X11"
          ],
          [
           "X11"
          ],
          [
           "Multiple"
          ],
          [
           "PHI1612"
          ],
          [
           "X11"
          ],
          [
           "Scrypt"
          ],
          [
           "Scrypt"
          ],
          [
           "Scrypt"
          ],
          [
           "X11"
          ],
          [
           "Multiple"
          ],
          [
           "X13"
          ],
          [
           "Scrypt"
          ],
          [
           "Shabal256"
          ],
          [
           "Counterparty"
          ],
          [
           "SHA-256"
          ],
          [
           "Groestl"
          ],
          [
           "Scrypt"
          ],
          [
           "X13"
          ],
          [
           "Scrypt"
          ],
          [
           "Scrypt"
          ],
          [
           "X13"
          ],
          [
           "X11"
          ],
          [
           "Scrypt"
          ],
          [
           "X11"
          ],
          [
           "SHA3"
          ],
          [
           "QUAIT"
          ],
          [
           "X11"
          ],
          [
           "Scrypt"
          ],
          [
           "X13"
          ],
          [
           "SHA-256"
          ],
          [
           "X15"
          ],
          [
           "BLAKE256"
          ],
          [
           "SHA-256"
          ],
          [
           "X11"
          ],
          [
           "SHA-256"
          ],
          [
           "NIST5"
          ],
          [
           "Scrypt"
          ],
          [
           "Scrypt"
          ],
          [
           "X11"
          ],
          [
           "Scrypt"
          ],
          [
           "SHA-256"
          ],
          [
           "Scrypt"
          ],
          [
           "PoS"
          ],
          [
           "X11"
          ],
          [
           "SHA-256"
          ],
          [
           "SHA-256"
          ],
          [
           "NIST5"
          ],
          [
           "X11"
          ],
          [
           "POS 3.0"
          ],
          [
           "Scrypt"
          ],
          [
           "Scrypt"
          ],
          [
           "Scrypt"
          ],
          [
           "X13"
          ],
          [
           "X11"
          ],
          [
           "X11"
          ],
          [
           "Scrypt"
          ],
          [
           "SHA-256"
          ],
          [
           "X11"
          ],
          [
           "Scrypt"
          ],
          [
           "Scrypt"
          ],
          [
           "Scrypt"
          ],
          [
           "Scrypt"
          ],
          [
           "SHA-256D"
          ],
          [
           "PoS"
          ],
          [
           "Scrypt"
          ],
          [
           "X11"
          ],
          [
           "PoS"
          ],
          [
           "X13"
          ],
          [
           "X14"
          ],
          [
           "PoS"
          ],
          [
           "SHA-256D"
          ],
          [
           "DPoS"
          ],
          [
           "X11"
          ],
          [
           "X13"
          ],
          [
           "X11"
          ],
          [
           "PoS"
          ],
          [
           "Scrypt"
          ],
          [
           "Scrypt"
          ],
          [
           "PoS"
          ],
          [
           "X11"
          ],
          [
           "SHA-256"
          ],
          [
           "Scrypt"
          ],
          [
           "X11"
          ],
          [
           "Scrypt"
          ],
          [
           "Scrypt"
          ],
          [
           "X11"
          ],
          [
           "Scrypt"
          ],
          [
           "Scrypt"
          ],
          [
           "Scrypt"
          ],
          [
           "Scrypt"
          ],
          [
           "Quark"
          ],
          [
           "QuBit"
          ],
          [
           "Scrypt"
          ],
          [
           "SHA-256"
          ],
          [
           "X11"
          ],
          [
           "Scrypt"
          ],
          [
           "Scrypt"
          ],
          [
           "Scrypt"
          ],
          [
           "Scrypt"
          ],
          [
           "X13"
          ],
          [
           "Scrypt"
          ],
          [
           "Scrypt"
          ],
          [
           "X11"
          ],
          [
           "Blake2S"
          ],
          [
           "X11"
          ],
          [
           "PoS"
          ],
          [
           "X11"
          ],
          [
           "PoS"
          ],
          [
           "X11"
          ],
          [
           "Scrypt"
          ],
          [
           "Scrypt"
          ],
          [
           "Scrypt"
          ],
          [
           "SHA-256"
          ],
          [
           "X11"
          ],
          [
           "Scrypt"
          ],
          [
           "PoS"
          ],
          [
           "Scrypt"
          ],
          [
           "X15"
          ],
          [
           "SHA-256"
          ],
          [
           "POS 3.0"
          ],
          [
           "536"
          ],
          [
           "NIST5"
          ],
          [
           "NIST5"
          ],
          [
           "Skein"
          ],
          [
           "X13"
          ],
          [
           "Scrypt"
          ],
          [
           "X13"
          ],
          [
           "SkunkHash v2 Raptor"
          ],
          [
           "Skein"
          ],
          [
           "X11"
          ],
          [
           "Scrypt"
          ],
          [
           "VeChainThor Authority"
          ],
          [
           "PoS"
          ],
          [
           "Scrypt"
          ],
          [
           "Scrypt"
          ],
          [
           "SHA-512"
          ],
          [
           "Ouroboros"
          ],
          [
           "X11"
          ],
          [
           "NeoScrypt"
          ],
          [
           "Scrypt"
          ],
          [
           "Lyra2REv2"
          ],
          [
           "Scrypt"
          ],
          [
           "SHA-256"
          ],
          [
           "NIST5"
          ],
          [
           "PHI1612"
          ],
          [
           "Scrypt"
          ],
          [
           "Quark"
          ],
          [
           "POS 2.0"
          ],
          [
           "Scrypt"
          ],
          [
           "SHA-256"
          ],
          [
           "X11"
          ],
          [
           "DPoS"
          ],
          [
           "NIST5"
          ],
          [
           "X13"
          ],
          [
           "Scrypt"
          ],
          [
           "NIST5"
          ],
          [
           "Quark"
          ],
          [
           "Scrypt"
          ],
          [
           "Scrypt"
          ],
          [
           "X11"
          ],
          [
           "Quark"
          ],
          [
           "Scrypt"
          ],
          [
           "Scrypt"
          ],
          [
           "X11"
          ],
          [
           "POS 3.0"
          ],
          [
           "Ethash"
          ],
          [
           "Scrypt"
          ],
          [
           "Scrypt"
          ],
          [
           "X13"
          ],
          [
           "C11"
          ],
          [
           "X11"
          ],
          [
           "XEVAN"
          ],
          [
           "Scrypt"
          ],
          [
           "VBFT"
          ],
          [
           "NIST5"
          ],
          [
           "Scrypt"
          ],
          [
           "Scrypt"
          ],
          [
           "Scrypt"
          ],
          [
           "Green Protocol"
          ],
          [
           "PoS"
          ],
          [
           "Scrypt"
          ],
          [
           "Semux BFT consensus"
          ],
          [
           "Quark"
          ],
          [
           "PoS"
          ],
          [
           "X16R"
          ],
          [
           "Scrypt"
          ],
          [
           "XEVAN"
          ],
          [
           "Scrypt"
          ],
          [
           "Scrypt"
          ],
          [
           "Scrypt"
          ],
          [
           "SHA-256D"
          ],
          [
           "Scrypt"
          ],
          [
           "X15"
          ],
          [
           "Scrypt"
          ],
          [
           "Quark"
          ],
          [
           "SHA-256"
          ],
          [
           "DPoS"
          ],
          [
           "X16R"
          ],
          [
           "Quark"
          ],
          [
           "Quark"
          ],
          [
           "Scrypt"
          ],
          [
           "Lyra2REv2"
          ],
          [
           "Quark"
          ],
          [
           "Scrypt"
          ],
          [
           "X11"
          ],
          [
           "X11"
          ],
          [
           "Scrypt"
          ],
          [
           "PoS"
          ],
          [
           "Keccak"
          ],
          [
           "X11"
          ],
          [
           "Scrypt"
          ],
          [
           "SHA-512"
          ],
          [
           "XEVAN"
          ],
          [
           "XEVAN"
          ],
          [
           "X11"
          ],
          [
           "Quark"
          ],
          [
           "Scrypt"
          ],
          [
           "Quark"
          ],
          [
           "Quark"
          ],
          [
           "Scrypt"
          ],
          [
           "X11"
          ],
          [
           "Scrypt"
          ],
          [
           "XEVAN"
          ],
          [
           "SHA-256D"
          ],
          [
           "X11"
          ],
          [
           "X11"
          ],
          [
           "DPoS"
          ],
          [
           "Scrypt"
          ],
          [
           "X11"
          ],
          [
           "Scrypt"
          ],
          [
           "Scrypt"
          ],
          [
           "SHA-256"
          ],
          [
           "Scrypt"
          ],
          [
           "X11"
          ],
          [
           "Scrypt"
          ],
          [
           "SHA-256"
          ],
          [
           "X11"
          ],
          [
           "Scrypt"
          ],
          [
           "Scrypt"
          ],
          [
           "X11"
          ],
          [
           "Scrypt"
          ],
          [
           "PoS"
          ],
          [
           "X11"
          ],
          [
           "SHA-256"
          ],
          [
           "DPoS"
          ],
          [
           "Scrypt"
          ],
          [
           "Scrypt"
          ],
          [
           "NeoScrypt"
          ],
          [
           "X13"
          ],
          [
           "DPoS"
          ],
          [
           "DPoS"
          ],
          [
           "SHA-256"
          ],
          [
           "PoS"
          ],
          [
           "PoS"
          ],
          [
           "SHA-256"
          ],
          [
           "Scrypt"
          ],
          [
           "Scrypt"
          ]
         ],
         "hovertemplate": "<b>%{hovertext}</b><br><br>class=%{marker.color}<br>PC 1=%{x}<br>PC 2=%{y}<br>PC 3=%{z}<br>Algorithm=%{customdata[0]}<extra></extra>",
         "hovertext": [
          "42 Coin",
          "404Coin",
          "EliteCoin",
          "Dash",
          "Bitshares",
          "BitcoinDark",
          "PayCoin",
          "KoboCoin",
          "Aurora Coin",
          "BlueCoin",
          "EnergyCoin",
          "BitBar",
          "CryptoBullion",
          "CasinoCoin",
          "Diamond",
          "Exclusive Coin",
          "FlutterCoin",
          "HoboNickels",
          "HyperStake",
          "IOCoin",
          "MaxCoin",
          "MintCoin",
          "MazaCoin",
          "Nautilus Coin",
          "NavCoin",
          "OpalCoin",
          "Orbitcoin",
          "PotCoin",
          "PhoenixCoin",
          "Reddcoin",
          "SuperCoin",
          "SyncCoin",
          "TeslaCoin",
          "TittieCoin",
          "TorCoin",
          "UnitaryStatus Dollar",
          "UltraCoin",
          "VeriCoin",
          "X11 Coin",
          "Crypti",
          "StealthCoin",
          "ZCC Coin",
          "BurstCoin",
          "StorjCoin",
          "Neutron",
          "FairCoin",
          "RubyCoin",
          "Kore",
          "Dnotes",
          "8BIT Coin",
          "Sativa Coin",
          "Ucoin",
          "Vtorrent",
          "IslaCoin",
          "Nexus",
          "Droidz",
          "Squall Coin",
          "Diggits",
          "Paycon",
          "Emercoin",
          "EverGreenCoin",
          "Decred",
          "EDRCoin",
          "Hitcoin",
          "DubaiCoin",
          "PWR Coin",
          "BillaryCoin",
          "GPU Coin",
          "EuropeCoin",
          "ZeitCoin",
          "SwingCoin",
          "SafeExchangeCoin",
          "Nebuchadnezzar",
          "Ratecoin",
          "Revenu",
          "Clockcoin",
          "VIP Tokens",
          "BitSend",
          "Let it Ride",
          "PutinCoin",
          "iBankCoin",
          "Frankywillcoin",
          "MudraCoin",
          "Lutetium Coin",
          "GoldBlocks",
          "CarterCoin",
          "BitTokens",
          "MustangCoin",
          "ZoneCoin",
          "RootCoin",
          "BitCurrency",
          "Swiscoin",
          "BuzzCoin",
          "Opair",
          "PesoBit",
          "Halloween Coin",
          "CoffeeCoin",
          "RoyalCoin",
          "GanjaCoin V2",
          "TeamUP",
          "LanaCoin",
          "ARK",
          "InsaneCoin",
          "EmberCoin",
          "XenixCoin",
          "FreeCoin",
          "PLNCoin",
          "AquariusCoin",
          "Creatio",
          "Eternity",
          "Eurocoin",
          "BitcoinFast",
          "Stakenet",
          "BitConnect Coin",
          "MoneyCoin",
          "Enigma",
          "Russiacoin",
          "PandaCoin",
          "GameUnits",
          "GAKHcoin",
          "Allsafe",
          "LiteCreed",
          "Klingon Empire Darsek",
          "Internet of People",
          "KushCoin",
          "Printerium",
          "Impeach",
          "Zilbercoin",
          "FirstCoin",
          "FindCoin",
          "OpenChat",
          "RenosCoin",
          "VirtacoinPlus",
          "TajCoin",
          "Impact",
          "Atmos",
          "HappyCoin",
          "MacronCoin",
          "Condensate",
          "Independent Money System",
          "ArgusCoin",
          "LomoCoin",
          "ProCurrency",
          "GoldReserve",
          "GrowthCoin",
          "Phreak",
          "Degas Coin",
          "HTML5 Coin",
          "Ultimate Secure Cash",
          "QTUM",
          "Espers",
          "Denarius",
          "Virta Unique Coin",
          "Bitcoin Planet",
          "BritCoin",
          "Linda",
          "DeepOnion",
          "Signatum",
          "Cream",
          "Monoeci",
          "Draftcoin",
          "Vechain",
          "Stakecoin",
          "CoinonatX",
          "Ethereum Dark",
          "Obsidian",
          "Cardano",
          "Regalcoin",
          "TrezarCoin",
          "TerraNovaCoin",
          "Rupee",
          "WomenCoin",
          "Theresa May Coin",
          "NamoCoin",
          "LUXCoin",
          "Xios",
          "Bitcloud 2.0",
          "KekCoin",
          "BlackholeCoin",
          "Infinity Economics",
          "Magnet",
          "Lamden Tau",
          "Electra",
          "Bitcoin Diamond",
          "Cash & Back Coin",
          "Bulwark",
          "Kalkulus",
          "GermanCoin",
          "LiteCoin Ultra",
          "PhantomX",
          "Digiwage",
          "Trollcoin",
          "Litecoin Plus",
          "Monkey Project",
          "TokenPay",
          "1717 Masonic Commemorative Token",
          "My Big Coin",
          "Unified Society USDEX",
          "Tokyo Coin",
          "Stipend",
          "Pushi",
          "Ellerium",
          "Velox",
          "Ontology",
          "Bitspace",
          "Briacoin",
          "Ignition",
          "MedicCoin",
          "Bitcoin Green",
          "Deviant Coin",
          "Abjcoin",
          "Semux",
          "Carebit",
          "Zealium",
          "Proton",
          "iDealCash",
          "Bitcoin Incognito",
          "HollyWoodCoin",
          "Swisscoin",
          "Xt3ch",
          "TheVig",
          "EmaratCoin",
          "Dekado",
          "Lynx",
          "Poseidon Quark",
          "BitcoinWSpectrum",
          "Muse",
          "Trivechain",
          "Dystem",
          "Giant",
          "Peony Coin",
          "Absolute Coin",
          "Vitae",
          "TPCash",
          "ARENON",
          "EUNO",
          "MMOCoin",
          "Ketan",
          "XDNA",
          "PAXEX",
          "ThunderStake",
          "Kcash",
          "Bettex coin",
          "BitMoney",
          "Junson Ming Chan Coin",
          "HerbCoin",
          "Oduwa",
          "Galilel",
          "Crypto Sports",
          "Credit",
          "Dash Platinum",
          "Nasdacoin",
          "Beetle Coin",
          "Titan Coin",
          "Award",
          "Insane Coin",
          "ALAX",
          "LiteDoge",
          "TruckCoin",
          "OrangeCoin",
          "BitstarCoin",
          "NeosCoin",
          "HyperCoin",
          "PinkCoin",
          "AudioCoin",
          "IncaKoin",
          "Piggy Coin",
          "Genstake",
          "XiaoMiCoin",
          "CapriCoin",
          " ClubCoin",
          "Radium",
          "Creditbit ",
          "OKCash",
          "Lisk",
          "HiCoin",
          "WhiteCoin",
          "FriendshipCoin",
          "Triangles Coin",
          "EOS",
          "Oxycoin",
          "TigerCash",
          "Particl",
          "Nxt",
          "ZEPHYR",
          "Gapcoin",
          "BitcoinPlus"
         ],
         "legendgroup": "0",
         "marker": {
          "color": [
           0,
           0,
           0,
           0,
           0,
           0,
           0,
           0,
           0,
           0,
           0,
           0,
           0,
           0,
           0,
           0,
           0,
           0,
           0,
           0,
           0,
           0,
           0,
           0,
           0,
           0,
           0,
           0,
           0,
           0,
           0,
           0,
           0,
           0,
           0,
           0,
           0,
           0,
           0,
           0,
           0,
           0,
           0,
           0,
           0,
           0,
           0,
           0,
           0,
           0,
           0,
           0,
           0,
           0,
           0,
           0,
           0,
           0,
           0,
           0,
           0,
           0,
           0,
           0,
           0,
           0,
           0,
           0,
           0,
           0,
           0,
           0,
           0,
           0,
           0,
           0,
           0,
           0,
           0,
           0,
           0,
           0,
           0,
           0,
           0,
           0,
           0,
           0,
           0,
           0,
           0,
           0,
           0,
           0,
           0,
           0,
           0,
           0,
           0,
           0,
           0,
           0,
           0,
           0,
           0,
           0,
           0,
           0,
           0,
           0,
           0,
           0,
           0,
           0,
           0,
           0,
           0,
           0,
           0,
           0,
           0,
           0,
           0,
           0,
           0,
           0,
           0,
           0,
           0,
           0,
           0,
           0,
           0,
           0,
           0,
           0,
           0,
           0,
           0,
           0,
           0,
           0,
           0,
           0,
           0,
           0,
           0,
           0,
           0,
           0,
           0,
           0,
           0,
           0,
           0,
           0,
           0,
           0,
           0,
           0,
           0,
           0,
           0,
           0,
           0,
           0,
           0,
           0,
           0,
           0,
           0,
           0,
           0,
           0,
           0,
           0,
           0,
           0,
           0,
           0,
           0,
           0,
           0,
           0,
           0,
           0,
           0,
           0,
           0,
           0,
           0,
           0,
           0,
           0,
           0,
           0,
           0,
           0,
           0,
           0,
           0,
           0,
           0,
           0,
           0,
           0,
           0,
           0,
           0,
           0,
           0,
           0,
           0,
           0,
           0,
           0,
           0,
           0,
           0,
           0,
           0,
           0,
           0,
           0,
           0,
           0,
           0,
           0,
           0,
           0,
           0,
           0,
           0,
           0,
           0,
           0,
           0,
           0,
           0,
           0,
           0,
           0,
           0,
           0,
           0,
           0,
           0,
           0,
           0,
           0,
           0,
           0,
           0,
           0,
           0,
           0,
           0,
           0,
           0,
           0,
           0,
           0,
           0,
           0,
           0,
           0,
           0,
           0,
           0,
           0,
           0,
           0,
           0,
           0,
           0,
           0,
           0,
           0,
           0,
           0,
           0,
           0,
           0,
           0,
           0,
           0,
           0
          ],
          "coloraxis": "coloraxis",
          "symbol": "circle"
         },
         "mode": "markers",
         "name": "0",
         "scene": "scene",
         "showlegend": true,
         "type": "scatter3d",
         "x": [
          -0.3369015604838956,
          -0.3202687597733348,
          2.309484647265299,
          -0.390538131457347,
          -0.27302771029030937,
          -0.3041209071927683,
          -0.2692030981744727,
          -0.24329890226485276,
          -0.3365617374132123,
          -0.3291525480904044,
          -0.33540080680369294,
          -0.33689750369837923,
          -0.3368818125611908,
          0.7488522506155803,
          -0.36160252219151956,
          -0.37684006377112134,
          -0.27573940645681055,
          -0.3349637475357512,
          -0.33547988150032787,
          -0.39043301494209726,
          -0.4500431848829871,
          -0.04236704073414203,
          -0.2674916433835101,
          -0.30173527346458595,
          -0.26997553983619144,
          -0.27059664161368,
          -0.34231083533704243,
          -0.33121380291508146,
          -0.3353061117153457,
          0.020602645022899095,
          -0.35533110208605023,
          -0.3908039337542685,
          -0.2601371412334824,
          -0.325501068892503,
          -0.3907157269802911,
          -0.3121771237684592,
          -0.33558127402148,
          -0.2918658578858972,
          -0.3906802678877803,
          -0.26060408439669064,
          -0.27037789496621006,
          -0.32802014207387403,
          0.2544919498209159,
          -0.3674138711620621,
          -0.3033340076911144,
          -0.36102511601071385,
          -0.30171557396340726,
          -0.2706718898179659,
          -0.29637893816369787,
          -0.33688366092901684,
          -0.27062416108476384,
          -0.35577514770202995,
          -0.3366185078881817,
          -0.390785495519564,
          -0.5055669323760665,
          -0.42424194811806903,
          -0.3278366749611707,
          -0.3001199192857583,
          -0.2701466349931915,
          -0.2966905223588094,
          -0.2457361222006203,
          -0.06787183525202184,
          -0.3040918729025845,
          -0.06881783951792347,
          -0.30415545817573475,
          -0.22803473694697501,
          -0.336494601050163,
          -0.29998915351258704,
          -0.3879595954440157,
          0.8494089407812502,
          -0.303955866133301,
          0.01936981551769706,
          -0.37652389387316254,
          -0.38863230316567005,
          -0.3027015800712212,
          -0.30037385434869235,
          -0.34917738412158267,
          -0.38952288849246025,
          -0.3594019983504097,
          -0.31283252843712,
          -0.3365326300979813,
          -0.33497439095349835,
          -0.23445069232808718,
          -0.3432879743842097,
          -0.3902603195990774,
          -0.3357382560964053,
          -0.30413644030255904,
          -0.3907747052681546,
          -0.33672146394105384,
          -0.33687790428973324,
          -0.29997882950098237,
          -0.25695785213828864,
          0.04143943103068755,
          -0.3754828096148041,
          -0.33649274784390215,
          -0.3769611827254599,
          -0.3748126557492008,
          -0.23587882060781662,
          -0.3969841138437871,
          -0.3745619497419826,
          -0.2725312205314765,
          3.7632893736998594,
          -0.3903679638218539,
          0.8595278913107857,
          -0.3907296950137484,
          -0.37594574277121995,
          -0.33642041810504386,
          -0.33657446832058296,
          -0.37652389387316254,
          -0.39030533723740457,
          -0.3039993580084114,
          -0.33642115458912064,
          -0.370372432582275,
          -0.33656828468782307,
          -0.3321639521844778,
          -0.3907586368781067,
          -0.335780351843045,
          0.34040266047462725,
          -0.3367672114024549,
          -0.33683766039116836,
          -0.369030056980601,
          -0.3375570865906056,
          -0.3330709659237961,
          -0.3041128959752621,
          -0.3906687471224968,
          -0.3366158614936109,
          -0.3367425879960831,
          -0.3016222311974477,
          -0.2958960935696881,
          -0.23564708362632716,
          -0.31762985789522113,
          -0.3013638297918641,
          -0.3899357676809253,
          -0.4189033878828937,
          -0.3886763802122724,
          -0.37477353655523904,
          -0.389833834637572,
          -0.36918331255476944,
          -0.3857819044619719,
          -0.3366859757217248,
          -0.3366851645746538,
          -0.32981878987637764,
          0.26253886092858386,
          -0.39031148271842925,
          -0.2842945561036334,
          -0.3765581235823375,
          -0.3358980397766018,
          0.8866513692653785,
          -0.26789577485648924,
          -0.3581825004412451,
          0.5904959247937388,
          -0.35071032803325863,
          -0.349215183569389,
          -0.4167520481275361,
          -0.27030980869741594,
          0.12723533345702207,
          -0.2703804589310291,
          -0.36381557879314536,
          -0.4162578147955204,
          -0.3905833928005581,
          -0.30169631434792665,
          4.421468566552716,
          -0.3764246249584498,
          -0.33632181177218123,
          -0.3368206201390351,
          -0.33098969510336,
          0.6437721483287351,
          -0.39052431978201196,
          -0.3373188396722166,
          -0.33677631033031413,
          -0.3221223779506599,
          0.430979982193726,
          -0.30246208211738285,
          -0.3355038712139724,
          -0.3958903203293306,
          -0.3367267356327942,
          -0.40232908026065184,
          -0.36822984140443543,
          -0.33659736776773763,
          -0.0959925096001602,
          -0.38931908115187264,
          3.768136871775358,
          0.2077967266118129,
          -0.2670571695572518,
          -0.33406209226238986,
          -0.31561980554373054,
          -0.3689161621067692,
          0.07682802447035944,
          -0.33573738534833747,
          -0.3898992206158834,
          -0.3680823503668285,
          -0.3233250149367334,
          -0.33684271231427937,
          -0.3557471267966703,
          -0.35968341604901755,
          -0.28719719071817434,
          -0.3060609314758612,
          -0.3323958158097847,
          -0.22745716095100788,
          -0.3646821410506879,
          -0.390600601621511,
          -0.28624301796338475,
          -0.30085775499730677,
          -0.33175904470687884,
          -0.3503099879098291,
          -0.3368700186935223,
          -0.3368517615269949,
          -0.29524904962765847,
          -0.3615731038100408,
          -0.37601979501579,
          -0.3365687680583833,
          3.9534388315606486,
          -0.4009994800240778,
          -0.37620813097861083,
          -0.32938248867264414,
          -0.2835314402778229,
          -0.22342786935522152,
          -0.3013910654209733,
          -0.1403301866328316,
          -0.3016426678986292,
          -0.3377327320798819,
          -0.33604371610112205,
          -0.21022654111859665,
          2.222111414801671,
          -0.3646315086702804,
          -0.26802331026909026,
          1.0335762677396143,
          -0.36357468147665395,
          -0.369029491503614,
          -0.4040103030060659,
          -0.18258012678415458,
          -0.3569052534510369,
          -0.36775127526173773,
          -0.32975898786029806,
          -0.3553252742100421,
          -0.3900748667004823,
          -0.29889297086315086,
          -0.37530948177672757,
          -0.34019875314361553,
          -0.3551868819210605,
          -0.19659525977884054,
          -0.2935321733592742,
          -0.2513816535039198,
          0.5964686240584324,
          -0.14607395602754328,
          -0.4033061697682317,
          -0.3365727384906234,
          -0.4037614893974143,
          -0.3691462627638513,
          0.5683540892724173,
          -0.3558013455528704,
          -0.33605655516801325,
          -0.2807083379836786,
          -0.2925312197073371,
          -0.3876437019305398,
          -0.3903017064300216,
          3.7803569652542723,
          0.09759630508044397,
          -0.38784575681634476,
          -0.33544309086428936,
          -0.33626667701728274,
          -0.2692356661901673,
          -0.33678410852531027,
          -0.3819442729120975,
          -0.25063642320190166,
          -0.08417226761104425,
          -0.37770000178201674,
          -0.3360637094150201,
          -0.3291402403874774,
          -0.386876363100437,
          -0.33450562163267994,
          -0.3767990376714759,
          -0.3817677104484313,
          -0.3026385841543041,
          3.763680503811113,
          -0.109264544885324,
          -0.33170534383419237,
          -0.34193733643852664,
          -0.27077890793402015,
          3.7735308324169377,
          3.7747727469075656,
          -0.2501661366628968,
          -0.37673501881161026,
          -0.41574396965482563,
          2.496964407620335,
          -0.3349503082695008,
          -0.3020384480001592
         ],
         "y": [
          1.0446957832450265,
          1.044795942448313,
          1.6141356452159994,
          1.1414134292141944,
          1.543422539160991,
          0.8279352946183395,
          0.6501603064041164,
          1.8711571598645649,
          1.0446937529918259,
          1.0449137193795917,
          1.0447379910285157,
          1.0446955518536565,
          1.0446956476420914,
          0.5069651579782101,
          0.878933487871223,
          1.5182199504919967,
          0.618626044158624,
          1.0446673594601215,
          0.9642135161224065,
          1.1414163855501505,
          2.0319904869752374,
          0.8742157871707635,
          0.8273089328208927,
          0.8669100377001633,
          1.7586833877092956,
          1.7586659196119871,
          0.5656716966115722,
          1.0445655153324676,
          1.0446729333400335,
          1.0547503644652452,
          0.9636552130142223,
          1.1414211556579297,
          0.1482635448125781,
          1.699737718021523,
          1.1414167268102535,
          1.0442854947146158,
          1.0446638125132717,
          0.5303096058392286,
          1.1414208337094198,
          0.1483195153175683,
          1.7586720717240283,
          1.0442545377062562,
          0.8670149363432565,
          1.684638657274689,
          0.8279256382979502,
          0.8789527537682039,
          0.8669217725997356,
          1.75865551094494,
          0.8667263471884806,
          1.044696286687789,
          1.75865823534534,
          0.963628903912605,
          1.0446899233528668,
          1.1414216749127275,
          2.311826050944264,
          1.833059951534983,
          0.6903531338081246,
          0.866897546397018,
          1.7586440242714305,
          0.8274684423001591,
          1.871312302339554,
          0.9325941533634284,
          0.827936111189511,
          1.1321299696288443,
          0.8279422697372822,
          1.4978586020174962,
          1.0446782054974606,
          0.8668175731163348,
          1.1412357961027215,
          0.8308844681911943,
          0.8279274977565952,
          0.5126061426381795,
          1.5182150219741317,
          1.1414304048539312,
          0.8278365053290981,
          0.8276930900954099,
          1.4943893484797568,
          1.1413611317886985,
          1.7189192774331454,
          1.0439906499175795,
          1.0446755235515557,
          1.0446808807183072,
          1.5807807013111461,
          0.9635399117832697,
          1.1414018936615111,
          1.0446663077898442,
          0.8279355487892658,
          1.1414199052921263,
          1.0446863367486774,
          1.0446964485896522,
          0.8669706174466963,
          0.27145716848847207,
          1.9085039188516595,
          1.5182069862012926,
          1.0447072808727313,
          1.1407739302037156,
          1.5182493289442083,
          1.580877014416288,
          2.034456549689347,
          1.518076021023697,
          1.9083074188520204,
          1.9213405062231297,
          1.1414126868329926,
          1.7898625867429065,
          1.1414205815029543,
          1.5182105512142372,
          1.0446826828095788,
          1.0446759592806536,
          1.5182150219741317,
          1.1413937172699022,
          0.8279400951725532,
          1.0446864904019684,
          0.6795214023019612,
          1.044685807609777,
          1.044379400144176,
          1.14141897514574,
          1.0446278082598326,
          0.8625121653965677,
          1.0446905783691134,
          1.0446952891147394,
          1.4742299288131615,
          0.5608181606010825,
          1.0444580013990483,
          0.8279362109586802,
          1.1414184944945438,
          1.0446899977810518,
          1.0446850976869078,
          0.8668863911629252,
          0.45718905352679134,
          1.580875222427309,
          1.0445467579214724,
          0.8669078754965955,
          1.1413764699862634,
          1.7485732850591769,
          1.1414049791688448,
          1.5182018565654007,
          1.1413793367890726,
          1.518158879857424,
          1.141216882827324,
          1.0446871882506021,
          1.0446821058184566,
          1.044203951866744,
          0.6132966117434658,
          1.1414073650297325,
          0.86602966802062,
          1.5182071489862528,
          1.0446514485259992,
          1.840985472556377,
          0.6500674477637239,
          1.7189076215586399,
          1.8340178349495035,
          1.494401517785749,
          1.4943675544975992,
          1.7990512056532582,
          1.7586532557111303,
          1.0231978477815242,
          1.7586589404017818,
          1.680892399777197,
          1.7990651056552374,
          1.1414207891163872,
          0.8669102862733961,
          3.24755175670598,
          1.5181890670311253,
          1.0446787447685386,
          1.0446951573449033,
          1.544217344064184,
          1.5745118292413702,
          1.141410362509481,
          0.5655382865837986,
          1.0446884336527051,
          0.7199574241679217,
          1.0490162222399548,
          0.8279280477007596,
          1.494006864272323,
          1.878069565919001,
          1.0446861884856589,
          1.651929168615187,
          1.5568237238456186,
          1.0446941193624963,
          0.648821114337764,
          1.1413634085927118,
          1.921217702855808,
          1.4893851917004695,
          1.7586203487649896,
          1.0446305252589494,
          1.316612579876543,
          1.4742296768855319,
          1.0217801738827865,
          1.0446248704862175,
          1.1414120493435667,
          1.4741840243287903,
          1.0444556881955656,
          1.0446946742223295,
          0.9636290009530835,
          1.7189172364911518,
          -0.011080972148087051,
          0.3355632273046844,
          1.0446621855800176,
          1.580562772059006,
          0.7315448748158911,
          1.1414095991904287,
          1.4875294666738872,
          0.8668602105140002,
          1.4300684569827329,
          1.494385135904975,
          1.0446945972774486,
          1.0446937286890254,
          0.8667581245937462,
          1.5258807955172458,
          1.518182209405895,
          1.0446844119555212,
          1.6546774998960083,
          1.6519665627865687,
          1.5181824408143056,
          0.6957174380298422,
          1.042657363034205,
          1.036484116295024,
          0.8669129324217208,
          1.0431757248871627,
          0.866893417722236,
          1.9115914345999998,
          1.0446618630983928,
          1.6935033725735045,
          0.42625144084328714,
          1.47391483124663,
          0.650132840891706,
          1.745122387884583,
          0.8734934527304625,
          1.4742257985375593,
          1.6520165317629514,
          0.8586077978152957,
          0.8977230777348276,
          1.4742071562057582,
          1.044205633760878,
          0.9636173702761102,
          1.1414071094077805,
          0.8668214887696338,
          1.5181178808740143,
          0.9870470683518561,
          0.9635901661276458,
          1.0362032719783296,
          1.6228741739019759,
          1.309753236506847,
          1.3159092443906106,
          0.9695404387891184,
          1.6520025789492554,
          1.0446905195585394,
          1.6520139345401783,
          1.4742277869772153,
          1.018466494619694,
          0.9636283744234724,
          1.044661502007702,
          1.4873810729236507,
          1.9094766523216355,
          1.1412198033336183,
          1.141414550280514,
          1.9212158703675046,
          1.0327297169454235,
          1.1415043532169749,
          1.0445985958396433,
          1.0446761463732448,
          0.6501535166951448,
          1.044699086536603,
          1.1413248138038155,
          1.0398661223150898,
          0.8340051189120095,
          1.1410986663224643,
          1.044708981860799,
          1.0446376535735415,
          1.1413878825909682,
          1.0446526027680985,
          1.518214885056346,
          0.18685475603690538,
          0.8279196285424458,
          1.9213273768539922,
          0.8654179323929858,
          1.0446346146386487,
          0.5656432282300193,
          1.758660710562644,
          1.921714919550877,
          1.9217498476157402,
          0.6500133169797243,
          1.5182169383667545,
          1.321538235047983,
          0.8261041436149833,
          1.0445779035464915,
          0.8669120009404043
         ],
         "z": [
          -0.6294766457582913,
          -0.6297681517163455,
          -0.6543263806742862,
          -0.45678870849842207,
          -0.00394675495934773,
          -0.3619455967933318,
          -0.05686301378016005,
          -0.6331725571970369,
          -0.6294822334536517,
          -0.6296279171904647,
          -0.6295059425465013,
          -0.6294766937620238,
          -0.6294769688817542,
          -0.463307236400401,
          -0.37247285375793165,
          -0.07710596533688292,
          -0.5505474224536244,
          -0.6295069882395815,
          -0.1521000745462769,
          -0.45679076051805023,
          -0.7024261286911712,
          -0.32946154701506597,
          -0.36251109916270735,
          -0.3243973113118094,
          -0.6235708613967106,
          -0.6235587366317724,
          -0.32086030263507614,
          -0.6295614765708688,
          -0.6295016773074712,
          -0.6364556218537916,
          -0.15171255128991204,
          -0.45678489209766904,
          0.08450292275070605,
          -0.34300720602504764,
          -0.4567859902191876,
          -0.6298594834931522,
          -0.6294961809872387,
          -0.5619299442701116,
          -0.4567869631662121,
          0.08450579953667568,
          -0.6235630068685964,
          -0.6295876374226622,
          -0.38935172652253786,
          -0.1467119252993266,
          -0.3619580884076379,
          -0.3724843987746773,
          -0.32439870527712256,
          -0.6235565190520701,
          -0.32447169083312233,
          -0.6294769951849584,
          -0.6235575755546902,
          -0.15170263518794327,
          -0.6294809236207455,
          -0.4567852520998744,
          -0.615047022497206,
          -0.6811357335330253,
          -0.03445433565662424,
          -0.3244236160715143,
          -0.6235644020879253,
          -0.36202963476438565,
          -0.633145173736084,
          -0.49084294014630714,
          -0.361946163582796,
          -0.46141416004962715,
          -0.36194563974822863,
          -0.5829160530057875,
          -0.6294819699636824,
          -0.32441861682294587,
          -0.45681646138935833,
          -0.3406940425324482,
          -0.36194769567670326,
          -0.4514281944888614,
          -0.07711088969221715,
          -0.4568226064475654,
          -0.3619607816106008,
          -0.36198736433584844,
          -0.580545566406505,
          -0.4568012282938979,
          -0.17838349536487727,
          -0.6298217347291741,
          -0.6294810820170459,
          -0.62950802818332,
          -0.31848705876803596,
          -0.15190666224892302,
          -0.45679238496463326,
          -0.6294937403391972,
          -0.36194535595146293,
          -0.4567852755827979,
          -0.6294788513904304,
          -0.6294771075625119,
          -0.32443260892887277,
          -0.40204578421317977,
          -0.7638956887139462,
          -0.07712784425702436,
          -0.6294846263485459,
          -0.45696154294111585,
          -0.07714304771339836,
          -0.31847150093774085,
          -0.7952097594283724,
          -0.07713165911534285,
          -0.7585459971587258,
          0.024697749827051575,
          -0.4567915313186214,
          -0.6455673011137858,
          -0.4567861010096021,
          -0.07712030442367913,
          -0.6294836339724847,
          -0.6294804108442026,
          -0.07711088969221715,
          -0.45679088229914705,
          -0.3619480943731637,
          -0.6294839652131728,
          -0.09774838648490941,
          -0.6294814049598312,
          -0.6295285384233921,
          -0.4567854644881791,
          -0.6294895497335621,
          -0.3349052682066415,
          -0.6294784574239536,
          -0.6294776863205466,
          -0.20819883200347747,
          -0.36938660372965937,
          -0.6295202313108597,
          -0.36194581556926564,
          -0.4567869476322188,
          -0.6294809752820243,
          -0.6294783807928691,
          -0.3243970962325051,
          -0.42885848129349685,
          -0.31847527459041297,
          -0.6297904701271845,
          -0.32440342408607936,
          -0.45679560137164243,
          -0.7007070866180511,
          -0.4568195624962795,
          -0.07713942626111418,
          -0.45679759124550046,
          -0.07723048134156621,
          -0.4568517361623048,
          -0.6294795309361503,
          -0.6294790858713962,
          -0.6295525253321752,
          -0.06256518905892566,
          -0.45679201004882575,
          -0.32461401582218846,
          -0.07710959762201545,
          -0.629489685352499,
          -0.6496378521125216,
          -0.05687683192902423,
          -0.17840315298695625,
          -0.7614001423181638,
          -0.5805206320949594,
          -0.5805429569321121,
          -0.7221648077147805,
          -0.6235624644297048,
          -0.6354179443771765,
          -0.6235617778360545,
          -0.1794877745739479,
          -0.7221744558323558,
          -0.4567886043045773,
          -0.3243979953692774,
          1.5803051457968558,
          -0.07711023230742808,
          -0.6294849530125155,
          -0.6294779638075176,
          -0.003034180366243416,
          -0.26058850328929295,
          -0.45678866619191905,
          -0.3209330341240537,
          -0.6294781092788748,
          -0.07113280648772416,
          -0.6429071070868931,
          -0.36197311325093257,
          -0.5807432439258097,
          -0.6475376745451384,
          -0.6294787484797231,
          -0.5133020672260065,
          -0.0837085460323842,
          -0.6294816614431905,
          -0.059683630554158915,
          -0.4568048949653182,
          0.02462651467807133,
          -0.5895525084685894,
          -0.6236147309785943,
          -0.629518975065609,
          -0.27543972278525347,
          -0.20820074345930611,
          -0.6344339240526443,
          -0.6294900141835225,
          -0.4567994341157538,
          -0.208210782026834,
          -0.6296855313819343,
          -0.6294775450149094,
          -0.15170311980883697,
          -0.1783785319826695,
          0.138429968163012,
          -0.32663622751194094,
          -0.6295501305946781,
          -0.3185861506254131,
          -0.2737951923813342,
          -0.4567873018368018,
          -0.46498787404395847,
          -0.32440771523732687,
          -0.07607464530592749,
          -0.5805259518514404,
          -0.6294770743425524,
          -0.6294773059758749,
          -0.3244937478186323,
          -0.09521890011779988,
          -0.07711648815741447,
          -0.6294812707519739,
          0.17988623384873087,
          -0.513328022859873,
          -0.07711331066636148,
          -0.017358566188919837,
          -0.6301989667280531,
          -0.04265678118955288,
          -0.32440341809893075,
          -0.6326776544422458,
          -0.32439738352473707,
          -0.7577352035181386,
          -0.6294881516532069,
          -0.32806957615880356,
          -0.5749976223303102,
          -0.20824508269919803,
          -0.05688056974634049,
          -0.07146574523272105,
          -0.32245356452317375,
          -0.20819846872698217,
          -0.5132814032647343,
          -0.32567131986969916,
          -0.3762168382575556,
          -0.20821849278832696,
          -0.6295536927501643,
          -0.15170923383371385,
          -0.45679600526147374,
          -0.32443758605644646,
          -0.07712274337379944,
          -0.42254852606060145,
          -0.15170912807701561,
          -0.6310926724625507,
          0.25903641741849637,
          -0.15990422034795226,
          -0.17507035926642334,
          -0.1557975399337126,
          -0.51329210142978,
          -0.6294817547167322,
          -0.5132853942220555,
          -0.20819666519502797,
          -0.6424820217604923,
          -0.15170214248546374,
          -0.62948790101688,
          -0.4650684688498906,
          -0.7583119085991122,
          -0.45682038217491666,
          -0.4567928247544645,
          0.02441915451657066,
          -0.6357751380580391,
          -0.4568426398615092,
          -0.6294926399236083,
          -0.6294856547467613,
          -0.05686184772735797,
          -0.6294789385854409,
          -0.45692665203301974,
          -0.6305056085132166,
          -0.3662288173334078,
          -0.4569783131212322,
          -0.6294920659830555,
          -0.6296032030946286,
          -0.4568485874995713,
          -0.62951343605433,
          -0.07710620474995689,
          0.09874470377800733,
          -0.3619693557577903,
          0.024692292842555523,
          -0.3275312050955481,
          -0.629559367320675,
          -0.32086407540075634,
          -0.6235551710550349,
          0.02449002416393576,
          0.024465780276994288,
          -0.05717303549996425,
          -0.07710747731106694,
          0.2190310632802949,
          0.0387061628066865,
          -0.6294991404258877,
          -0.32439233994387795
         ]
        },
        {
         "customdata": [
          [
           "SHA-256"
          ],
          [
           "Ethash"
          ],
          [
           "Scrypt"
          ],
          [
           "CryptoNight-V7"
          ],
          [
           "Ethash"
          ],
          [
           "Equihash"
          ],
          [
           "Multiple"
          ],
          [
           "Scrypt"
          ],
          [
           "X11"
          ],
          [
           "Scrypt"
          ],
          [
           "Multiple"
          ],
          [
           "Scrypt"
          ],
          [
           "SHA-256"
          ],
          [
           "Scrypt"
          ],
          [
           "Scrypt"
          ],
          [
           "Quark"
          ],
          [
           "Groestl"
          ],
          [
           "Scrypt"
          ],
          [
           "Scrypt"
          ],
          [
           "Scrypt"
          ],
          [
           "X11"
          ],
          [
           "Multiple"
          ],
          [
           "SHA-256"
          ],
          [
           "Scrypt"
          ],
          [
           "Scrypt"
          ],
          [
           "Scrypt"
          ],
          [
           "Scrypt"
          ],
          [
           "Scrypt"
          ],
          [
           "NeoScrypt"
          ],
          [
           "Scrypt"
          ],
          [
           "Scrypt"
          ],
          [
           "Scrypt"
          ],
          [
           "Scrypt"
          ],
          [
           "SHA-256"
          ],
          [
           "Scrypt"
          ],
          [
           "Scrypt"
          ],
          [
           "Scrypt"
          ],
          [
           "Scrypt"
          ],
          [
           "HybridScryptHash256"
          ],
          [
           "Scrypt"
          ],
          [
           "Scrypt"
          ],
          [
           "SHA-256"
          ],
          [
           "Scrypt"
          ],
          [
           "Scrypt"
          ],
          [
           "Scrypt"
          ],
          [
           "Scrypt"
          ],
          [
           "SHA-256"
          ],
          [
           "SHA-256"
          ],
          [
           "SHA-256"
          ],
          [
           "SHA-256"
          ],
          [
           "SHA-256"
          ],
          [
           "X11"
          ],
          [
           "Scrypt"
          ],
          [
           "Lyra2REv2"
          ],
          [
           "Scrypt"
          ],
          [
           "SHA-256"
          ],
          [
           "CryptoNight"
          ],
          [
           "CryptoNight"
          ],
          [
           "Scrypt"
          ],
          [
           "Scrypt"
          ],
          [
           "Scrypt"
          ],
          [
           "Scrypt"
          ],
          [
           "Scrypt"
          ],
          [
           "Scrypt"
          ],
          [
           "Stanford Folding"
          ],
          [
           "Multiple"
          ],
          [
           "QuBit"
          ],
          [
           "Scrypt"
          ],
          [
           "Scrypt"
          ],
          [
           "M7 POW"
          ],
          [
           "Scrypt"
          ],
          [
           "SHA-256"
          ],
          [
           "Scrypt"
          ],
          [
           "X11"
          ],
          [
           "Lyra2RE"
          ],
          [
           "SHA-256"
          ],
          [
           "X11"
          ],
          [
           "Scrypt"
          ],
          [
           "Scrypt"
          ],
          [
           "Ethash"
          ],
          [
           "Blake2b"
          ],
          [
           "X11"
          ],
          [
           "SHA-256"
          ],
          [
           "Scrypt"
          ],
          [
           "1GB AES Pattern Search"
          ],
          [
           "Scrypt"
          ],
          [
           "SHA-256"
          ],
          [
           "X11"
          ],
          [
           "Dagger"
          ],
          [
           "Scrypt"
          ],
          [
           "X11GOST"
          ],
          [
           "Scrypt"
          ],
          [
           "X11"
          ],
          [
           "Scrypt"
          ],
          [
           "X11"
          ],
          [
           "Equihash"
          ],
          [
           "CryptoNight"
          ],
          [
           "SHA-256"
          ],
          [
           "Multiple"
          ],
          [
           "Scrypt"
          ],
          [
           "SHA-256"
          ],
          [
           "Scrypt"
          ],
          [
           "Lyra2Z"
          ],
          [
           "Ethash"
          ],
          [
           "Equihash"
          ],
          [
           "Scrypt"
          ],
          [
           "X11"
          ],
          [
           "X11"
          ],
          [
           "CryptoNight"
          ],
          [
           "Scrypt"
          ],
          [
           "CryptoNight"
          ],
          [
           "Lyra2RE"
          ],
          [
           "X11"
          ],
          [
           "CryptoNight-V7"
          ],
          [
           "Scrypt"
          ],
          [
           "X11"
          ],
          [
           "Equihash"
          ],
          [
           "Scrypt"
          ],
          [
           "Lyra2RE"
          ],
          [
           "Dagger-Hashimoto"
          ],
          [
           "Scrypt"
          ],
          [
           "NIST5"
          ],
          [
           "Scrypt"
          ],
          [
           "SHA-256"
          ],
          [
           "Scrypt"
          ],
          [
           "CryptoNight-V7"
          ],
          [
           "Argon2d"
          ],
          [
           "Blake2b"
          ],
          [
           "Cloverhash"
          ],
          [
           "CryptoNight"
          ],
          [
           "X11"
          ],
          [
           "Scrypt"
          ],
          [
           "Scrypt"
          ],
          [
           "X11"
          ],
          [
           "X11"
          ],
          [
           "CryptoNight"
          ],
          [
           "Time Travel"
          ],
          [
           "Scrypt"
          ],
          [
           "Keccak"
          ],
          [
           "X11"
          ],
          [
           "SHA-256"
          ],
          [
           "Scrypt"
          ],
          [
           "Scrypt"
          ],
          [
           "Scrypt"
          ],
          [
           "Scrypt"
          ],
          [
           "Scrypt"
          ],
          [
           "Scrypt"
          ],
          [
           "CryptoNight"
          ],
          [
           "Equihash"
          ],
          [
           "X11"
          ],
          [
           "NeoScrypt"
          ],
          [
           "Equihash"
          ],
          [
           "Dagger"
          ],
          [
           "Scrypt"
          ],
          [
           "X11"
          ],
          [
           "NeoScrypt"
          ],
          [
           "Ethash"
          ],
          [
           "NeoScrypt"
          ],
          [
           "Multiple"
          ],
          [
           "CryptoNight"
          ],
          [
           "CryptoNight"
          ],
          [
           "Ethash"
          ],
          [
           "X11"
          ],
          [
           "CryptoNight-V7"
          ],
          [
           "Scrypt"
          ],
          [
           "BLAKE256"
          ],
          [
           "X11"
          ],
          [
           "NeoScrypt"
          ],
          [
           "NeoScrypt"
          ],
          [
           "Scrypt"
          ],
          [
           "X11"
          ],
          [
           "SHA-256"
          ],
          [
           "C11"
          ],
          [
           "CryptoNight"
          ],
          [
           "SkunkHash"
          ],
          [
           "CryptoNight"
          ],
          [
           "Scrypt"
          ],
          [
           "Dagger"
          ],
          [
           "Lyra2REv2"
          ],
          [
           "Scrypt"
          ],
          [
           "Scrypt"
          ],
          [
           "X11"
          ],
          [
           "Ethash"
          ],
          [
           "CryptoNight"
          ],
          [
           "Scrypt"
          ],
          [
           "IMesh"
          ],
          [
           "Equihash"
          ],
          [
           "Lyra2Z"
          ],
          [
           "X11"
          ],
          [
           "CryptoNight"
          ],
          [
           "NIST5"
          ],
          [
           "Lyra2RE"
          ],
          [
           "Tribus"
          ],
          [
           "Lyra2Z"
          ],
          [
           "CryptoNight"
          ],
          [
           "CryptoNight Heavy"
          ],
          [
           "CryptoNight"
          ],
          [
           "Jump Consistent Hash"
          ],
          [
           "CryptoNight"
          ],
          [
           "X16R"
          ],
          [
           "HMQ1725"
          ],
          [
           "X11"
          ],
          [
           "Scrypt"
          ],
          [
           "CryptoNight-V7"
          ],
          [
           "Cryptonight-GPU"
          ],
          [
           "XEVAN"
          ],
          [
           "CryptoNight Heavy"
          ],
          [
           "SHA-256"
          ],
          [
           "X11"
          ],
          [
           "X16R"
          ],
          [
           "Equihash"
          ],
          [
           "Lyra2Z"
          ],
          [
           "SHA-256"
          ],
          [
           "CryptoNight"
          ],
          [
           "Blake"
          ],
          [
           "Blake"
          ],
          [
           "Equihash"
          ],
          [
           "Exosis"
          ],
          [
           "Scrypt"
          ],
          [
           "Equihash"
          ],
          [
           "Equihash"
          ],
          [
           "QuBit"
          ],
          [
           "SHA-256"
          ],
          [
           "X13"
          ],
          [
           "SHA-256"
          ],
          [
           "Scrypt"
          ],
          [
           "NeoScrypt"
          ],
          [
           "Blake"
          ],
          [
           "Scrypt"
          ],
          [
           "SHA-256"
          ],
          [
           "Scrypt"
          ],
          [
           "Groestl"
          ],
          [
           "Scrypt"
          ],
          [
           "Scrypt"
          ],
          [
           "Multiple"
          ],
          [
           "Equihash+Scrypt"
          ],
          [
           "Ethash"
          ],
          [
           "CryptoNight"
          ],
          [
           "Equihash"
          ]
         ],
         "hovertemplate": "<b>%{hovertext}</b><br><br>class=%{marker.color}<br>PC 1=%{x}<br>PC 2=%{y}<br>PC 3=%{z}<br>Algorithm=%{customdata[0]}<extra></extra>",
         "hovertext": [
          "Bitcoin",
          "Ethereum",
          "Litecoin",
          "Monero",
          "Ethereum Classic",
          "ZCash",
          "DigiByte",
          "ProsperCoin",
          "Spreadcoin",
          "Argentum",
          "MyriadCoin",
          "MoonCoin",
          "ZetaCoin",
          "SexCoin",
          "Quatloo",
          "QuarkCoin",
          "Riecoin",
          "Digitalcoin ",
          "Catcoin",
          "CannaCoin",
          "CryptCoin",
          "Verge",
          "DevCoin",
          "EarthCoin",
          "E-Gulden",
          "Einsteinium",
          "Emerald",
          "Franko",
          "FeatherCoin",
          "GrandCoin",
          "GlobalCoin",
          "GoldCoin",
          "Infinite Coin",
          "IXcoin",
          "KrugerCoin",
          "LuckyCoin",
          "Litebar ",
          "MegaCoin",
          "MediterraneanCoin",
          "MinCoin",
          "NobleCoin",
          "Namecoin",
          "NyanCoin",
          "RonPaulCoin",
          "StableCoin",
          "SmartCoin",
          "SysCoin",
          "TigerCoin",
          "TerraCoin",
          "UnbreakableCoin",
          "Unobtanium",
          "UroCoin",
          "ViaCoin",
          "Vertcoin",
          "WorldCoin",
          "JouleCoin",
          "ByteCoin",
          "DigitalNote ",
          "MonaCoin",
          "Gulden",
          "PesetaCoin",
          "Wild Beast Coin",
          "Flo",
          "ArtByte",
          "Folding Coin",
          "Unitus",
          "CypherPunkCoin",
          "OmniCron",
          "GreenCoin",
          "Cryptonite",
          "MasterCoin",
          "SoonCoin",
          "1Credit",
          "MarsCoin ",
          "Crypto",
          "Anarchists Prime",
          "BowsCoin",
          "Song Coin",
          "BitZeny",
          "Expanse",
          "Siacoin",
          "MindCoin",
          "I0coin",
          "Revolution VR",
          "HOdlcoin",
          "Gamecredits",
          "CarpeDiemCoin",
          "Adzcoin",
          "SoilCoin",
          "YoCoin",
          "SibCoin",
          "Francs",
          "BolivarCoin",
          "Omni",
          "PizzaCoin",
          "Komodo",
          "Karbo",
          "ZayedCoin",
          "Circuits of Value",
          "DopeCoin",
          "DollarCoin",
          "Shilling",
          "ZCoin",
          "Elementrem",
          "ZClassic",
          "KiloCoin",
          "ArtexCoin",
          "Kurrent",
          "Cannabis Industry Coin",
          "OsmiumCoin",
          "Bikercoins",
          "HexxCoin",
          "PacCoin",
          "Citadel",
          "BeaverCoin",
          "VaultCoin",
          "Zero",
          "Canada eCoin",
          "Zoin",
          "DubaiCoin",
          "EB3coin",
          "Coinonat",
          "BenjiRolls",
          "ILCoin",
          "EquiTrader",
          "Quantum Resistant Ledger",
          "Dynamic",
          "Nano",
          "ChanCoin",
          "Dinastycoin",
          "DigitalPrice",
          "Unify",
          "SocialCoin",
          "ArcticCoin",
          "DAS",
          "LeviarCoin",
          "Bitcore",
          "gCn Coin",
          "SmartCash",
          "Onix",
          "Bitcoin Cash",
          "Sojourn Coin",
          "NewYorkCoin",
          "FrazCoin",
          "Kronecoin",
          "AdCoin",
          "Linx",
          "Sumokoin",
          "BitcoinZ",
          "Elements",
          "VIVO Coin",
          "Bitcoin Gold",
          "Pirl",
          "eBoost",
          "Pura",
          "Innova",
          "Ellaism",
          "GoByte",
          "SHIELD",
          "UltraNote",
          "BitCoal",
          "DaxxCoin",
          "AC3",
          "Lethean",
          "PopularCoin",
          "Photon",
          "Sucre",
          "SparksPay",
          "GunCoin",
          "IrishCoin",
          "Pioneer Coin",
          "UnitedBitcoin",
          "Interzone",
          "TurtleCoin",
          "MUNcoin",
          "Niobio Cash",
          "ShareChain",
          "Travelflex",
          "KREDS",
          "BitFlip",
          "LottoCoin",
          "Crypto Improvement Fund",
          "Callisto Network",
          "BitTube",
          "Poseidon",
          "Aidos Kuneen",
          "Bitrolium",
          "Alpenschillling",
          "FuturoCoin",
          "Monero Classic",
          "Jumpcoin",
          "Infinex",
          "KEYCO",
          "GINcoin",
          "PlatinCoin",
          "Loki",
          "Newton Coin",
          "MassGrid",
          "PluraCoin",
          "Motion",
          "PlusOneCoin",
          "Axe",
          "HexCoin",
          "Webchain",
          "Ryo",
          "Urals Coin",
          "Qwertycoin",
          "Project Pai",
          "Azart",
          "Xchange",
          "CrypticCoin",
          "Actinium",
          "Bitcoin SV",
          "FREDEnergy",
          "Universal Molecule",
          "Lithium",
          "PirateCash",
          "Exosis",
          "Block-Logic",
          "Beam",
          "Bithereum",
          "SLICE",
          "BLAST",
          "Bitcoin Rhodium",
          "GlobalToken",
          "SolarCoin",
          "UFO Coin",
          "BlakeCoin",
          "Crypto Escudo",
          "Crown Coin",
          "SmileyCoin",
          "Groestlcoin",
          "Bata",
          "Pakcoin",
          "JoinCoin",
          "Vollar",
          "Reality Clash",
          "Beldex",
          "Horizen"
         ],
         "legendgroup": "1",
         "marker": {
          "color": [
           1,
           1,
           1,
           1,
           1,
           1,
           1,
           1,
           1,
           1,
           1,
           1,
           1,
           1,
           1,
           1,
           1,
           1,
           1,
           1,
           1,
           1,
           1,
           1,
           1,
           1,
           1,
           1,
           1,
           1,
           1,
           1,
           1,
           1,
           1,
           1,
           1,
           1,
           1,
           1,
           1,
           1,
           1,
           1,
           1,
           1,
           1,
           1,
           1,
           1,
           1,
           1,
           1,
           1,
           1,
           1,
           1,
           1,
           1,
           1,
           1,
           1,
           1,
           1,
           1,
           1,
           1,
           1,
           1,
           1,
           1,
           1,
           1,
           1,
           1,
           1,
           1,
           1,
           1,
           1,
           1,
           1,
           1,
           1,
           1,
           1,
           1,
           1,
           1,
           1,
           1,
           1,
           1,
           1,
           1,
           1,
           1,
           1,
           1,
           1,
           1,
           1,
           1,
           1,
           1,
           1,
           1,
           1,
           1,
           1,
           1,
           1,
           1,
           1,
           1,
           1,
           1,
           1,
           1,
           1,
           1,
           1,
           1,
           1,
           1,
           1,
           1,
           1,
           1,
           1,
           1,
           1,
           1,
           1,
           1,
           1,
           1,
           1,
           1,
           1,
           1,
           1,
           1,
           1,
           1,
           1,
           1,
           1,
           1,
           1,
           1,
           1,
           1,
           1,
           1,
           1,
           1,
           1,
           1,
           1,
           1,
           1,
           1,
           1,
           1,
           1,
           1,
           1,
           1,
           1,
           1,
           1,
           1,
           1,
           1,
           1,
           1,
           1,
           1,
           1,
           1,
           1,
           1,
           1,
           1,
           1,
           1,
           1,
           1,
           1,
           1,
           1,
           1,
           1,
           1,
           1,
           1,
           1,
           1,
           1,
           1,
           1,
           1,
           1,
           1,
           1,
           1,
           1,
           1,
           1,
           1,
           1,
           1,
           1,
           1,
           1,
           1,
           1,
           1,
           1,
           1,
           1,
           1,
           1,
           1,
           1,
           1,
           1,
           1,
           1,
           1,
           1,
           1,
           1,
           1,
           1,
           1,
           1,
           1
          ],
          "coloraxis": "coloraxis",
          "symbol": "diamond"
         },
         "mode": "markers",
         "name": "1",
         "scene": "scene",
         "showlegend": true,
         "type": "scatter3d",
         "x": [
          -0.13851713121463347,
          -0.15536168443183326,
          -0.1701304073198407,
          -0.15647597085813125,
          -0.15380637026254837,
          -0.14287303173409788,
          0.156439219727273,
          -0.1712746584965293,
          -0.22511850243723572,
          -0.17089185619385483,
          -0.09652845290008216,
          2.5459491661517473,
          -0.13560712823478432,
          -0.168152006180614,
          -0.1706962174443291,
          -0.23379774963557118,
          -0.19506718134945716,
          -0.17074492005460742,
          -0.17125695562286047,
          -0.17134326191452182,
          -0.22520768872584276,
          0.18014532173667222,
          0.23867353411573375,
          0.07695514437326989,
          -0.1710899993013051,
          -0.16670293066182512,
          -0.17102939591006808,
          -0.17140016552217524,
          -0.17204635379868782,
          -0.15065848214500474,
          -0.17019736542269523,
          -0.1704743256582126,
          1.5744709224444495,
          -0.13847856840944428,
          -0.1677684083542142,
          -0.17111639484901783,
          -0.1714705923388478,
          -0.17073112828993134,
          -0.17436245632189964,
          -0.17135206417023605,
          -0.036489256438278335,
          -0.1385560428098731,
          -0.16502698540110336,
          -0.17133153797479517,
          -0.16942914002813608,
          -0.17081917127599702,
          -0.12573037163207149,
          -0.1380207428672892,
          -0.13830744565987044,
          -0.1382904477758616,
          -0.13888014450078315,
          -0.22538128406919106,
          -0.17104852404647156,
          -0.1908129168865715,
          -0.16815670673720065,
          -0.13808792027124966,
          3.8545584317942607,
          0.45943488018485296,
          -0.16991807732695183,
          -0.15454346859974535,
          -0.1686391220433923,
          -0.17147279734951018,
          -0.16850440028538097,
          -0.15475192431653234,
          -0.13018964070134179,
          -0.13047605244131516,
          -0.17299803312329867,
          -0.1713460973654307,
          -0.04450363423543233,
          -0.10344125715629535,
          -0.171481674962789,
          -0.13858377162404012,
          0.479561461401757,
          -0.22476953395613336,
          -0.14937495816582141,
          -0.13832407926651655,
          -0.22505393713207522,
          -0.16960867864382909,
          -0.1688023238257032,
          -0.15642726542053076,
          0.3597733349487764,
          -0.22508927345925997,
          -0.13847968879282802,
          -0.16744655564546868,
          -0.1417082698166546,
          -0.17004751945190447,
          0.2792773663970747,
          -0.22425144491071883,
          -0.1533574870722471,
          -0.17029448442826806,
          -0.11969356775347711,
          -0.17127194868783674,
          -0.22505257846388485,
          -0.17148173335605024,
          -0.22520228666423941,
          -0.22611694925654416,
          0.30460826307519656,
          -0.13873932148440296,
          -0.11058307290125889,
          -0.16865334757671463,
          -0.13869802338282125,
          -0.1711457141700303,
          -0.160809482907942,
          -0.15616987132874324,
          -0.1428946109150101,
          -0.0983330147909217,
          -0.21180896599453597,
          -0.2230341798960088,
          0.3046026401974431,
          -0.17146350256872725,
          0.30473312835008143,
          -0.1499144728749404,
          0.48881989519908786,
          -0.15524278347130538,
          -0.17143184507155795,
          -0.21794878079152147,
          -0.14290696524497704,
          -0.16956835265946507,
          -0.14963334305642176,
          -0.14385195561262215,
          -0.14240526450563018,
          -0.18495910057284776,
          -0.17099497944423783,
          -0.10512270940837463,
          -0.1708173452433554,
          -0.15510079228484672,
          -0.16699448216766474,
          -0.03982833324065006,
          -0.14619511599731821,
          0.3406619545234888,
          -0.2242598190234528,
          -0.17113606288370903,
          -0.1708998416478498,
          -0.22465381941444235,
          -0.22523027194136613,
          0.30499694553438916,
          -0.15453274906105638,
          3.232302890547286,
          -0.11472530711545717,
          -0.21611807193515967,
          -0.1385162968959962,
          -0.09718262018712034,
          1.5724769422518705,
          -0.17123373880260356,
          -0.17068632376248435,
          -0.1703878181205899,
          -0.17037477193977904,
          0.30518024390949916,
          0.06905351917199776,
          -0.17969658962149204,
          -0.17672696768111865,
          -0.14275328502195747,
          -0.15211871993317885,
          -0.16956656495134018,
          -0.220782408815833,
          -0.17657264517629856,
          -0.15453786373930192,
          -0.1766726785894746,
          -0.12072478783598803,
          1.14110176409609,
          0.30458543759487977,
          -0.07955586706065049,
          -0.2205243780906879,
          -0.1442316749350492,
          -0.08776669269755026,
          1.1011061835103828,
          -0.22520431583330372,
          -0.1767245323361384,
          -0.16977446014319628,
          -0.17048603910106425,
          -0.22512985301800964,
          -0.1384957306237565,
          -0.19924018400005455,
          8.029157861559176,
          -0.14830234390668118,
          0.30845317436446856,
          0.021223420621791608,
          -0.15162282175777686,
          -0.1763959711427403,
          -0.17105876584633653,
          0.1354849287823119,
          -0.21928088936523285,
          -0.10765687517167137,
          0.31249497636770784,
          -0.17129536684990548,
          -0.15625114842480986,
          -0.14174612915492063,
          -0.15859679874779337,
          -0.2243005201028479,
          0.30476763846708305,
          -0.1850184655136172,
          -0.14975997780157072,
          -0.14464599398883296,
          -0.16089371471608338,
          0.3086891375863834,
          0.5749658769129424,
          2.110137989166275,
          -0.15521615309241354,
          0.3183490401503686,
          -0.19894584950896313,
          -0.1540614741621091,
          -0.2251865069416776,
          -0.17131990537341807,
          -0.1441115589872067,
          -0.13466174347462745,
          -0.11959885224748279,
          3.093157950763602,
          -0.0984137866585021,
          -0.2251579215814037,
          -0.19837455249938538,
          -0.03768164710848004,
          -0.1602925011368149,
          -0.13851633439571168,
          0.38439041591816675,
          -0.14732798849085402,
          -0.1477193484252322,
          -0.27275776473966934,
          -0.11235107883297196,
          -0.1702141143241139,
          -0.1408167182142538,
          -0.14258639372923212,
          -0.17221036017594274,
          -0.13779373178461263,
          -0.10534439322275177,
          -0.13666362332867593,
          0.5234057141904003,
          -0.10201999983132447,
          -0.09826958158874043,
          -0.15490224695736501,
          -0.1383068172123737,
          0.5431177041495495,
          -0.19462894389638635,
          -0.17139661392108382,
          -0.16935585471938866,
          -0.1312096513046598,
          -0.1417174773679471,
          -0.15620297230897287,
          0.3263048637983793,
          -0.1428740868328062
         ],
         "y": [
          -1.3045524926643712,
          -1.9657544492820276,
          -1.087817909798565,
          -2.2563067459528074,
          -1.9658558233231345,
          -2.069545611299298,
          -1.8128454172868385,
          -1.0878065562615657,
          -0.9910788460561498,
          -1.087825504472174,
          -1.8068304064199658,
          -1.276727305925203,
          -1.3045734728561607,
          -1.0878769794696563,
          -1.0878448793309683,
          -0.48050945246650506,
          -1.253583810563934,
          -1.087810430218427,
          -1.0878060583793652,
          -1.0878030541947332,
          -0.9910799723047267,
          -1.80910707023855,
          -1.3084413580347518,
          -1.0901396407651043,
          -1.0878013628377057,
          -1.0878706332073522,
          -1.0878072597340915,
          -1.0878033387228352,
          -1.5669152831424749,
          -1.0881939113182537,
          -1.0878101185348108,
          -1.0878194597132484,
          -1.1013013541026133,
          -1.3045514081097054,
          -1.087876847255361,
          -1.0878014141660217,
          -1.0877984880406284,
          -1.087805781443462,
          -2.3986129888758807,
          -1.087801131918819,
          -1.0943667380924524,
          -1.3045535870285465,
          -1.087849209823071,
          -1.0878081559611599,
          -1.0879128980568062,
          -1.0878146150720425,
          -1.304791995990885,
          -1.3045565071010996,
          -1.304561107017379,
          -1.3045868880980536,
          -1.304548363314965,
          -0.9910724160268425,
          -1.0878015784319808,
          -1.2347734275594546,
          -1.0878877679034482,
          -1.3045570060933764,
          -2.3339818338879725,
          -2.308905336080096,
          -1.0878265327019963,
          -1.088482420629307,
          -1.0878328995248012,
          -1.087799433191356,
          -1.0878246976431696,
          -1.0880183829961996,
          -2.0276425384902126,
          -1.8064031015684323,
          -1.571645222396935,
          -1.087796383501977,
          -1.091136988027471,
          -2.140489239672662,
          -1.0877982949199334,
          -1.304554366884026,
          -1.1330624366920192,
          -0.9910780149253005,
          -2.308859797853338,
          -1.3045697013385191,
          -0.991077721227384,
          -1.0878904721195088,
          -1.0878952692448867,
          -1.9657961009034401,
          -2.3611122758410725,
          -0.9910752598899819,
          -1.3045514396197841,
          -1.0878294979212815,
          -2.1849042042154907,
          -1.0878155786293533,
          -1.3077321789536542,
          -0.9910986865203072,
          -2.2498205100497604,
          -1.0878808136329816,
          -2.2415156507023015,
          -1.0878057890200177,
          -0.9910804471352195,
          -1.0877982944683866,
          -0.9910846575843059,
          -1.5824940885601986,
          -2.306356348909484,
          -1.3045509578655483,
          -1.8066728598732815,
          -1.0878565278874144,
          -1.304550419897265,
          -1.0878091490523183,
          -2.3217101847033486,
          -1.9657952878412979,
          -2.069546218200207,
          -1.092650905539293,
          -0.991036218047875,
          -0.9911639600093566,
          -2.3063641083780815,
          -1.0877992314076899,
          -2.3063632026002874,
          -2.308836419429767,
          -1.0400889446460222,
          -2.256399903860266,
          -1.0877987872681383,
          -0.9915544114225096,
          -2.0695438015384515,
          -1.0878131588424331,
          -2.3088361141596128,
          -2.0745194900051276,
          -1.0897442305888214,
          -0.6381092468215535,
          -1.0878087244942045,
          -1.3053263586052664,
          -1.0878289371375494,
          -2.256340628056854,
          -2.259261642198585,
          -2.3725859670076814,
          -2.1920934732535122,
          -2.306717510950393,
          -0.9911099785150657,
          -1.087801467564332,
          -1.087833330386744,
          -0.9910934183332997,
          -0.9910812293703692,
          -2.306375822774266,
          -2.1564239160504166,
          -1.1302745404695658,
          -1.146959845570759,
          -0.9915720268741149,
          -1.304552469199688,
          -1.0929640663543334,
          -1.0387501263099341,
          -1.0878047143909992,
          -1.087833544599283,
          -1.0878362057937285,
          -1.087835838878089,
          -2.306394776886744,
          -2.078082426066841,
          -0.991031416481292,
          -1.5668333942342192,
          -2.069542243498248,
          -2.2498729522286767,
          -1.0878131085642648,
          -0.9911849360078193,
          -1.5668414925485792,
          -1.9659247682093166,
          -1.5668351843310508,
          -1.8065849330988408,
          -2.3415611242887744,
          -2.3063587184364818,
          -1.9705327571022329,
          -0.9913158850320043,
          -2.2566530544152092,
          -1.0888985849618318,
          -1.2338532323800662,
          -0.9910811212980288,
          -1.5668291795623843,
          -1.5669647164611562,
          -1.087814091121379,
          -0.991081238373747,
          -1.3045513144672802,
          -1.4009506833112773,
          -2.780131214971964,
          -2.316305405793857,
          -2.306473488936153,
          -1.0892884559001834,
          -2.2498200957692096,
          -1.2350700463765747,
          -1.0878136139841477,
          -1.0918843970434362,
          -0.9912463611987183,
          -1.9689044757178895,
          -2.3068186596350126,
          -1.0878071386709953,
          -2.2640312147655157,
          -2.0695477783363723,
          -2.321840475276271,
          -0.9911111232073548,
          -2.3063576712277105,
          -0.6380920844768974,
          -2.30884332432004,
          -2.104521442779324,
          -2.321705021444332,
          -2.3066492848653515,
          -2.2223478441100712,
          -2.3827195474542324,
          -2.361442470822052,
          -2.3066540177687225,
          -1.2589806580959908,
          -2.198289119326583,
          -0.9910814496699971,
          -1.0878085925713137,
          -2.2571683069284396,
          -1.9088328573617674,
          -0.6450334058130932,
          -2.2788959016884096,
          -1.3048612624150935,
          -0.9910834098442217,
          -1.2590184387462613,
          -2.071824485158569,
          -2.3217389033863705,
          -1.3045524702543438,
          -2.309689137121886,
          -2.2976905228405236,
          -2.2976463223853845,
          -0.11487419829319725,
          -1.9083739334217331,
          -1.087845141081199,
          -2.069654869798621,
          -2.0695443813068883,
          -1.571692172578233,
          -1.3045618617947445,
          -0.37383389635591513,
          -1.3046019453120106,
          -1.1360446269009217,
          -1.5674777694131528,
          -2.301075354071523,
          -1.0880226107260382,
          -1.3045610893426882,
          -1.1022517022829241,
          -1.2535859970383771,
          -1.0877989297031685,
          -1.0878638469216173,
          -1.8064256684592752,
          -2.213849111404932,
          -1.9657950318761037,
          -2.306706831009197,
          -2.0695456409732884
         ],
         "z": [
          0.2230399322948705,
          0.4183098424193849,
          -0.044508602687138556,
          0.45817613857316036,
          0.418292581576231,
          0.4354401317665324,
          0.36012822827811736,
          -0.04449019563460992,
          0.12820035300695945,
          -0.04449498587090223,
          0.3638811747378047,
          -0.07357928463527735,
          0.2229924077620228,
          -0.044536867752071774,
          -0.044496559117299585,
          0.07162930647328065,
          0.21249951944798365,
          -0.044498842085686656,
          -0.04449054121916583,
          -0.044489346754252944,
          0.12820196927475455,
          0.3593881470930086,
          0.21698544305773115,
          -0.048495084872729154,
          -0.04449380043726415,
          -0.04456204936133297,
          -0.044494297254325056,
          -0.04448835471161751,
          0.26405503189319546,
          -0.044805335981910846,
          -0.04450816897501888,
          -0.0445026222285049,
          -0.07291870940007214,
          0.22303917949562727,
          -0.04454339407124452,
          -0.04449334754559749,
          -0.044487596618161575,
          -0.04449949599143796,
          0.5593664460801782,
          -0.04448937081377792,
          -0.046186914563740966,
          0.2230406919029785,
          -0.04459244490273267,
          -0.0444890852685979,
          -0.04451193633461706,
          -0.044497203320430084,
          0.2228444056525759,
          0.22303186488840146,
          0.22303714904695554,
          0.2230391878888964,
          0.22304572430844688,
          0.12820423514956775,
          -0.04449448531975324,
          0.2087611809945919,
          -0.04453581395025587,
          0.22303305076572238,
          0.36813103548205595,
          0.4235242306470761,
          -0.04451143007183161,
          -0.04471331337585158,
          -0.04453257491180716,
          -0.044487473844128884,
          -0.04453560326302711,
          -0.04475166644286168,
          0.522621592520447,
          0.3644191069938188,
          0.21561446396670966,
          -0.04448990082914656,
          -0.046342392324878266,
          0.4136679379583044,
          -0.04448742584429921,
          0.2230412332077468,
          -0.05145722351105797,
          0.1281943516766755,
          0.510348607978434,
          0.22303820741610247,
          0.12819915498888373,
          -0.044510911956056005,
          -0.044524172653026786,
          0.4183316987534595,
          0.4830864344343216,
          0.12819953287332833,
          0.2230392013670594,
          -0.04455313455723368,
          0.3974915685508446,
          -0.04451022077285439,
          0.2162318711851947,
          0.12818741954340906,
          0.4767123875013401,
          -0.04450013734365931,
          0.4701977015529595,
          -0.0444903109197184,
          0.12819937800939532,
          -0.04448742489341143,
          0.12820230052033388,
          0.5317926388484513,
          0.425923425032251,
          0.2230435670412055,
          0.364105631622575,
          -0.04453020017016393,
          0.22304281713586768,
          -0.0444921513329572,
          0.509767906223399,
          0.4183272542004434,
          0.4354405530219631,
          -0.045291568434684765,
          0.1279704776954478,
          0.12817264041761162,
          0.4259242210434725,
          -0.044487649908063566,
          0.4259219232780158,
          0.5103556595978952,
          0.12050063104395213,
          0.4581636064424747,
          -0.04448822762270536,
          0.12812152831332202,
          0.4354405446519632,
          -0.04451857659639024,
          0.5103508578003119,
          0.3599425235164307,
          -0.04480553260902547,
          0.004464467307829018,
          -0.04449474948797966,
          0.22254268167777497,
          -0.044495941340431805,
          0.45815584370647017,
          0.4221854552570364,
          0.4909084399903253,
          0.45296155759913237,
          0.42534375509302086,
          0.1281885811920294,
          -0.04449300871586421,
          -0.044494143738927974,
          0.128193777188173,
          0.12820246627763576,
          0.4259185823930762,
          0.3418806415673028,
          -0.0984568629769403,
          0.1615574229772462,
          0.12809202893656282,
          0.22303991600781828,
          -0.04528283277796799,
          -0.0785319465111565,
          -0.04449105682947662,
          -0.04449775043000857,
          -0.04450257949824689,
          -0.04450283417772363,
          0.4259171807301195,
          0.43261182640586765,
          0.1274247014029917,
          0.2641271267013946,
          0.4354377941452457,
          0.47669608481399506,
          -0.044518611494922915,
          0.12813629381417374,
          0.26412523705902097,
          0.41831122835253925,
          0.26412636635561926,
          0.36426992352705534,
          0.41489609349264855,
          0.4259240265819119,
          0.4174538670954746,
          0.12814373387747247,
          0.4579994665494222,
          -0.04580976713266689,
          0.0801688203573672,
          0.12820201572584836,
          0.2641267048447076,
          0.26402091267699873,
          -0.04450290798131411,
          0.12820076174367415,
          0.2230394624959268,
          0.31119378631716377,
          0.3375148171937509,
          0.4873048666037889,
          0.4258687048537147,
          -0.047625475257716966,
          0.4766828914502914,
          0.20854312636463132,
          -0.04449322482540145,
          -0.04933154079735193,
          0.12811633996439087,
          0.41778408696090163,
          0.42583122752990515,
          -0.04448979137893719,
          0.4993929025301736,
          0.4354211899800294,
          0.5097420922822794,
          0.12818937573333994,
          0.42592083784591867,
          0.004463926053011061,
          0.5103536592830629,
          0.3523626058174896,
          0.5097688705383976,
          0.42588056843495864,
          0.4044339189101386,
          0.40215537126242445,
          0.5626152205348421,
          0.4257169481156882,
          0.2625472866760401,
          0.47368618243475535,
          0.12820174293475298,
          -0.04448924340022608,
          0.45804394348974076,
          0.31583102054577505,
          0.11998676546954647,
          0.36677429869742145,
          0.22238675987606477,
          0.12820143445261314,
          0.262540995546424,
          0.43385947330559615,
          0.5097617193820737,
          0.22303991673986467,
          0.42486942136225775,
          0.4650208431702344,
          0.4650234989725919,
          0.15552731519313073,
          0.4473655726656696,
          -0.04450472271841878,
          0.4354150745953384,
          0.4354351529435879,
          0.21560532609216723,
          0.22302849313201392,
          -0.03856615184304031,
          0.22301291998675699,
          -0.05193256993187204,
          0.26291660263124045,
          0.46449329855869803,
          -0.04474873193719598,
          0.223037136778792,
          -0.05531813690831428,
          0.2124922745511988,
          -0.0444888130705725,
          -0.04451760920617447,
          0.3644336025378373,
          0.44531959125419646,
          0.41832779322361047,
          0.4255866076916049,
          0.4354401523635178
         ]
        },
        {
         "customdata": [
          [
           "Proof-of-BibleHash"
          ],
          [
           "SHA-256 + Hive"
          ],
          [
           "Proof-of-Authority"
          ],
          [
           "ECC 256K1"
          ],
          [
           "Leased POS"
          ]
         ],
         "hovertemplate": "<b>%{hovertext}</b><br><br>class=%{marker.color}<br>PC 1=%{x}<br>PC 2=%{y}<br>PC 3=%{z}<br>Algorithm=%{customdata[0]}<extra></extra>",
         "hovertext": [
          "BiblePay",
          "LitecoinCash",
          "Poa Network",
          "Acute Angle Cloud",
          "Waves"
         ],
         "legendgroup": "3",
         "marker": {
          "color": [
           3,
           3,
           3,
           3,
           3
          ],
          "coloraxis": "coloraxis",
          "symbol": "square"
         },
         "mode": "markers",
         "name": "3",
         "scene": "scene",
         "showlegend": true,
         "type": "scatter3d",
         "x": [
          -0.18096720758561366,
          -0.3930979936235239,
          -0.42078041271246075,
          -0.22878057544731878,
          -0.5209177979096636
         ],
         "y": [
          3.1192674035393027,
          3.7459996364484707,
          2.9114031436303187,
          3.0723991078598134,
          4.066446742130996
         ],
         "z": [
          15.556656329950954,
          9.948115030690662,
          17.251127562067854,
          13.804626098184386,
          12.435323050239788
         ]
        },
        {
         "customdata": [
          [
           "TRC10"
          ]
         ],
         "hovertemplate": "<b>%{hovertext}</b><br><br>class=%{marker.color}<br>PC 1=%{x}<br>PC 2=%{y}<br>PC 3=%{z}<br>Algorithm=%{customdata[0]}<extra></extra>",
         "hovertext": [
          "BitTorrent"
         ],
         "legendgroup": "2",
         "marker": {
          "color": [
           2
          ],
          "coloraxis": "coloraxis",
          "symbol": "x"
         },
         "mode": "markers",
         "name": "2",
         "scene": "scene",
         "showlegend": true,
         "type": "scatter3d",
         "x": [
          34.02268136359312
         ],
         "y": [
          1.5563538148080112
         ],
         "z": [
          -0.4795920063588734
         ]
        }
       ],
       "layout": {
        "coloraxis": {
         "colorbar": {
          "title": {
           "text": "class"
          }
         },
         "colorscale": [
          [
           0,
           "#0d0887"
          ],
          [
           0.1111111111111111,
           "#46039f"
          ],
          [
           0.2222222222222222,
           "#7201a8"
          ],
          [
           0.3333333333333333,
           "#9c179e"
          ],
          [
           0.4444444444444444,
           "#bd3786"
          ],
          [
           0.5555555555555556,
           "#d8576b"
          ],
          [
           0.6666666666666666,
           "#ed7953"
          ],
          [
           0.7777777777777778,
           "#fb9f3a"
          ],
          [
           0.8888888888888888,
           "#fdca26"
          ],
          [
           1,
           "#f0f921"
          ]
         ]
        },
        "legend": {
         "title": {
          "text": "class"
         },
         "tracegroupgap": 0,
         "x": 0,
         "y": 1
        },
        "margin": {
         "t": 60
        },
        "scene": {
         "domain": {
          "x": [
           0,
           1
          ],
          "y": [
           0,
           1
          ]
         },
         "xaxis": {
          "title": {
           "text": "PC 1"
          }
         },
         "yaxis": {
          "title": {
           "text": "PC 2"
          }
         },
         "zaxis": {
          "title": {
           "text": "PC 3"
          }
         }
        },
        "template": {
         "data": {
          "bar": [
           {
            "error_x": {
             "color": "#2a3f5f"
            },
            "error_y": {
             "color": "#2a3f5f"
            },
            "marker": {
             "line": {
              "color": "#E5ECF6",
              "width": 0.5
             }
            },
            "type": "bar"
           }
          ],
          "barpolar": [
           {
            "marker": {
             "line": {
              "color": "#E5ECF6",
              "width": 0.5
             }
            },
            "type": "barpolar"
           }
          ],
          "carpet": [
           {
            "aaxis": {
             "endlinecolor": "#2a3f5f",
             "gridcolor": "white",
             "linecolor": "white",
             "minorgridcolor": "white",
             "startlinecolor": "#2a3f5f"
            },
            "baxis": {
             "endlinecolor": "#2a3f5f",
             "gridcolor": "white",
             "linecolor": "white",
             "minorgridcolor": "white",
             "startlinecolor": "#2a3f5f"
            },
            "type": "carpet"
           }
          ],
          "choropleth": [
           {
            "colorbar": {
             "outlinewidth": 0,
             "ticks": ""
            },
            "type": "choropleth"
           }
          ],
          "contour": [
           {
            "colorbar": {
             "outlinewidth": 0,
             "ticks": ""
            },
            "colorscale": [
             [
              0,
              "#0d0887"
             ],
             [
              0.1111111111111111,
              "#46039f"
             ],
             [
              0.2222222222222222,
              "#7201a8"
             ],
             [
              0.3333333333333333,
              "#9c179e"
             ],
             [
              0.4444444444444444,
              "#bd3786"
             ],
             [
              0.5555555555555556,
              "#d8576b"
             ],
             [
              0.6666666666666666,
              "#ed7953"
             ],
             [
              0.7777777777777778,
              "#fb9f3a"
             ],
             [
              0.8888888888888888,
              "#fdca26"
             ],
             [
              1,
              "#f0f921"
             ]
            ],
            "type": "contour"
           }
          ],
          "contourcarpet": [
           {
            "colorbar": {
             "outlinewidth": 0,
             "ticks": ""
            },
            "type": "contourcarpet"
           }
          ],
          "heatmap": [
           {
            "colorbar": {
             "outlinewidth": 0,
             "ticks": ""
            },
            "colorscale": [
             [
              0,
              "#0d0887"
             ],
             [
              0.1111111111111111,
              "#46039f"
             ],
             [
              0.2222222222222222,
              "#7201a8"
             ],
             [
              0.3333333333333333,
              "#9c179e"
             ],
             [
              0.4444444444444444,
              "#bd3786"
             ],
             [
              0.5555555555555556,
              "#d8576b"
             ],
             [
              0.6666666666666666,
              "#ed7953"
             ],
             [
              0.7777777777777778,
              "#fb9f3a"
             ],
             [
              0.8888888888888888,
              "#fdca26"
             ],
             [
              1,
              "#f0f921"
             ]
            ],
            "type": "heatmap"
           }
          ],
          "heatmapgl": [
           {
            "colorbar": {
             "outlinewidth": 0,
             "ticks": ""
            },
            "colorscale": [
             [
              0,
              "#0d0887"
             ],
             [
              0.1111111111111111,
              "#46039f"
             ],
             [
              0.2222222222222222,
              "#7201a8"
             ],
             [
              0.3333333333333333,
              "#9c179e"
             ],
             [
              0.4444444444444444,
              "#bd3786"
             ],
             [
              0.5555555555555556,
              "#d8576b"
             ],
             [
              0.6666666666666666,
              "#ed7953"
             ],
             [
              0.7777777777777778,
              "#fb9f3a"
             ],
             [
              0.8888888888888888,
              "#fdca26"
             ],
             [
              1,
              "#f0f921"
             ]
            ],
            "type": "heatmapgl"
           }
          ],
          "histogram": [
           {
            "marker": {
             "colorbar": {
              "outlinewidth": 0,
              "ticks": ""
             }
            },
            "type": "histogram"
           }
          ],
          "histogram2d": [
           {
            "colorbar": {
             "outlinewidth": 0,
             "ticks": ""
            },
            "colorscale": [
             [
              0,
              "#0d0887"
             ],
             [
              0.1111111111111111,
              "#46039f"
             ],
             [
              0.2222222222222222,
              "#7201a8"
             ],
             [
              0.3333333333333333,
              "#9c179e"
             ],
             [
              0.4444444444444444,
              "#bd3786"
             ],
             [
              0.5555555555555556,
              "#d8576b"
             ],
             [
              0.6666666666666666,
              "#ed7953"
             ],
             [
              0.7777777777777778,
              "#fb9f3a"
             ],
             [
              0.8888888888888888,
              "#fdca26"
             ],
             [
              1,
              "#f0f921"
             ]
            ],
            "type": "histogram2d"
           }
          ],
          "histogram2dcontour": [
           {
            "colorbar": {
             "outlinewidth": 0,
             "ticks": ""
            },
            "colorscale": [
             [
              0,
              "#0d0887"
             ],
             [
              0.1111111111111111,
              "#46039f"
             ],
             [
              0.2222222222222222,
              "#7201a8"
             ],
             [
              0.3333333333333333,
              "#9c179e"
             ],
             [
              0.4444444444444444,
              "#bd3786"
             ],
             [
              0.5555555555555556,
              "#d8576b"
             ],
             [
              0.6666666666666666,
              "#ed7953"
             ],
             [
              0.7777777777777778,
              "#fb9f3a"
             ],
             [
              0.8888888888888888,
              "#fdca26"
             ],
             [
              1,
              "#f0f921"
             ]
            ],
            "type": "histogram2dcontour"
           }
          ],
          "mesh3d": [
           {
            "colorbar": {
             "outlinewidth": 0,
             "ticks": ""
            },
            "type": "mesh3d"
           }
          ],
          "parcoords": [
           {
            "line": {
             "colorbar": {
              "outlinewidth": 0,
              "ticks": ""
             }
            },
            "type": "parcoords"
           }
          ],
          "pie": [
           {
            "automargin": true,
            "type": "pie"
           }
          ],
          "scatter": [
           {
            "marker": {
             "colorbar": {
              "outlinewidth": 0,
              "ticks": ""
             }
            },
            "type": "scatter"
           }
          ],
          "scatter3d": [
           {
            "line": {
             "colorbar": {
              "outlinewidth": 0,
              "ticks": ""
             }
            },
            "marker": {
             "colorbar": {
              "outlinewidth": 0,
              "ticks": ""
             }
            },
            "type": "scatter3d"
           }
          ],
          "scattercarpet": [
           {
            "marker": {
             "colorbar": {
              "outlinewidth": 0,
              "ticks": ""
             }
            },
            "type": "scattercarpet"
           }
          ],
          "scattergeo": [
           {
            "marker": {
             "colorbar": {
              "outlinewidth": 0,
              "ticks": ""
             }
            },
            "type": "scattergeo"
           }
          ],
          "scattergl": [
           {
            "marker": {
             "colorbar": {
              "outlinewidth": 0,
              "ticks": ""
             }
            },
            "type": "scattergl"
           }
          ],
          "scattermapbox": [
           {
            "marker": {
             "colorbar": {
              "outlinewidth": 0,
              "ticks": ""
             }
            },
            "type": "scattermapbox"
           }
          ],
          "scatterpolar": [
           {
            "marker": {
             "colorbar": {
              "outlinewidth": 0,
              "ticks": ""
             }
            },
            "type": "scatterpolar"
           }
          ],
          "scatterpolargl": [
           {
            "marker": {
             "colorbar": {
              "outlinewidth": 0,
              "ticks": ""
             }
            },
            "type": "scatterpolargl"
           }
          ],
          "scatterternary": [
           {
            "marker": {
             "colorbar": {
              "outlinewidth": 0,
              "ticks": ""
             }
            },
            "type": "scatterternary"
           }
          ],
          "surface": [
           {
            "colorbar": {
             "outlinewidth": 0,
             "ticks": ""
            },
            "colorscale": [
             [
              0,
              "#0d0887"
             ],
             [
              0.1111111111111111,
              "#46039f"
             ],
             [
              0.2222222222222222,
              "#7201a8"
             ],
             [
              0.3333333333333333,
              "#9c179e"
             ],
             [
              0.4444444444444444,
              "#bd3786"
             ],
             [
              0.5555555555555556,
              "#d8576b"
             ],
             [
              0.6666666666666666,
              "#ed7953"
             ],
             [
              0.7777777777777778,
              "#fb9f3a"
             ],
             [
              0.8888888888888888,
              "#fdca26"
             ],
             [
              1,
              "#f0f921"
             ]
            ],
            "type": "surface"
           }
          ],
          "table": [
           {
            "cells": {
             "fill": {
              "color": "#EBF0F8"
             },
             "line": {
              "color": "white"
             }
            },
            "header": {
             "fill": {
              "color": "#C8D4E3"
             },
             "line": {
              "color": "white"
             }
            },
            "type": "table"
           }
          ]
         },
         "layout": {
          "annotationdefaults": {
           "arrowcolor": "#2a3f5f",
           "arrowhead": 0,
           "arrowwidth": 1
          },
          "autotypenumbers": "strict",
          "coloraxis": {
           "colorbar": {
            "outlinewidth": 0,
            "ticks": ""
           }
          },
          "colorscale": {
           "diverging": [
            [
             0,
             "#8e0152"
            ],
            [
             0.1,
             "#c51b7d"
            ],
            [
             0.2,
             "#de77ae"
            ],
            [
             0.3,
             "#f1b6da"
            ],
            [
             0.4,
             "#fde0ef"
            ],
            [
             0.5,
             "#f7f7f7"
            ],
            [
             0.6,
             "#e6f5d0"
            ],
            [
             0.7,
             "#b8e186"
            ],
            [
             0.8,
             "#7fbc41"
            ],
            [
             0.9,
             "#4d9221"
            ],
            [
             1,
             "#276419"
            ]
           ],
           "sequential": [
            [
             0,
             "#0d0887"
            ],
            [
             0.1111111111111111,
             "#46039f"
            ],
            [
             0.2222222222222222,
             "#7201a8"
            ],
            [
             0.3333333333333333,
             "#9c179e"
            ],
            [
             0.4444444444444444,
             "#bd3786"
            ],
            [
             0.5555555555555556,
             "#d8576b"
            ],
            [
             0.6666666666666666,
             "#ed7953"
            ],
            [
             0.7777777777777778,
             "#fb9f3a"
            ],
            [
             0.8888888888888888,
             "#fdca26"
            ],
            [
             1,
             "#f0f921"
            ]
           ],
           "sequentialminus": [
            [
             0,
             "#0d0887"
            ],
            [
             0.1111111111111111,
             "#46039f"
            ],
            [
             0.2222222222222222,
             "#7201a8"
            ],
            [
             0.3333333333333333,
             "#9c179e"
            ],
            [
             0.4444444444444444,
             "#bd3786"
            ],
            [
             0.5555555555555556,
             "#d8576b"
            ],
            [
             0.6666666666666666,
             "#ed7953"
            ],
            [
             0.7777777777777778,
             "#fb9f3a"
            ],
            [
             0.8888888888888888,
             "#fdca26"
            ],
            [
             1,
             "#f0f921"
            ]
           ]
          },
          "colorway": [
           "#636efa",
           "#EF553B",
           "#00cc96",
           "#ab63fa",
           "#FFA15A",
           "#19d3f3",
           "#FF6692",
           "#B6E880",
           "#FF97FF",
           "#FECB52"
          ],
          "font": {
           "color": "#2a3f5f"
          },
          "geo": {
           "bgcolor": "white",
           "lakecolor": "white",
           "landcolor": "#E5ECF6",
           "showlakes": true,
           "showland": true,
           "subunitcolor": "white"
          },
          "hoverlabel": {
           "align": "left"
          },
          "hovermode": "closest",
          "mapbox": {
           "style": "light"
          },
          "paper_bgcolor": "white",
          "plot_bgcolor": "#E5ECF6",
          "polar": {
           "angularaxis": {
            "gridcolor": "white",
            "linecolor": "white",
            "ticks": ""
           },
           "bgcolor": "#E5ECF6",
           "radialaxis": {
            "gridcolor": "white",
            "linecolor": "white",
            "ticks": ""
           }
          },
          "scene": {
           "xaxis": {
            "backgroundcolor": "#E5ECF6",
            "gridcolor": "white",
            "gridwidth": 2,
            "linecolor": "white",
            "showbackground": true,
            "ticks": "",
            "zerolinecolor": "white"
           },
           "yaxis": {
            "backgroundcolor": "#E5ECF6",
            "gridcolor": "white",
            "gridwidth": 2,
            "linecolor": "white",
            "showbackground": true,
            "ticks": "",
            "zerolinecolor": "white"
           },
           "zaxis": {
            "backgroundcolor": "#E5ECF6",
            "gridcolor": "white",
            "gridwidth": 2,
            "linecolor": "white",
            "showbackground": true,
            "ticks": "",
            "zerolinecolor": "white"
           }
          },
          "shapedefaults": {
           "line": {
            "color": "#2a3f5f"
           }
          },
          "ternary": {
           "aaxis": {
            "gridcolor": "white",
            "linecolor": "white",
            "ticks": ""
           },
           "baxis": {
            "gridcolor": "white",
            "linecolor": "white",
            "ticks": ""
           },
           "bgcolor": "#E5ECF6",
           "caxis": {
            "gridcolor": "white",
            "linecolor": "white",
            "ticks": ""
           }
          },
          "title": {
           "x": 0.05
          },
          "xaxis": {
           "automargin": true,
           "gridcolor": "white",
           "linecolor": "white",
           "ticks": "",
           "title": {
            "standoff": 15
           },
           "zerolinecolor": "white",
           "zerolinewidth": 2
          },
          "yaxis": {
           "automargin": true,
           "gridcolor": "white",
           "linecolor": "white",
           "ticks": "",
           "title": {
            "standoff": 15
           },
           "zerolinecolor": "white",
           "zerolinewidth": 2
          }
         }
        },
        "width": 800
       }
      },
      "text/html": [
       "<div>                            <div id=\"763e972e-a3bd-433a-b6ab-f71a7ffb6da2\" class=\"plotly-graph-div\" style=\"height:525px; width:800px;\"></div>            <script type=\"text/javascript\">                require([\"plotly\"], function(Plotly) {                    window.PLOTLYENV=window.PLOTLYENV || {};                                    if (document.getElementById(\"763e972e-a3bd-433a-b6ab-f71a7ffb6da2\")) {                    Plotly.newPlot(                        \"763e972e-a3bd-433a-b6ab-f71a7ffb6da2\",                        [{\"customdata\": [[\"Scrypt\"], [\"Scrypt\"], [\"X13\"], [\"X11\"], [\"SHA-512\"], [\"SHA-256\"], [\"SHA-256\"], [\"X15\"], [\"Scrypt\"], [\"Scrypt\"], [\"Scrypt\"], [\"Scrypt\"], [\"Scrypt\"], [\"Scrypt\"], [\"Groestl\"], [\"PoS\"], [\"Scrypt\"], [\"Scrypt\"], [\"X11\"], [\"X11\"], [\"SHA3\"], [\"Scrypt\"], [\"SHA-256\"], [\"Scrypt\"], [\"X13\"], [\"X13\"], [\"NeoScrypt\"], [\"Scrypt\"], [\"Scrypt\"], [\"Scrypt\"], [\"X11\"], [\"X11\"], [\"Multiple\"], [\"PHI1612\"], [\"X11\"], [\"Scrypt\"], [\"Scrypt\"], [\"Scrypt\"], [\"X11\"], [\"Multiple\"], [\"X13\"], [\"Scrypt\"], [\"Shabal256\"], [\"Counterparty\"], [\"SHA-256\"], [\"Groestl\"], [\"Scrypt\"], [\"X13\"], [\"Scrypt\"], [\"Scrypt\"], [\"X13\"], [\"X11\"], [\"Scrypt\"], [\"X11\"], [\"SHA3\"], [\"QUAIT\"], [\"X11\"], [\"Scrypt\"], [\"X13\"], [\"SHA-256\"], [\"X15\"], [\"BLAKE256\"], [\"SHA-256\"], [\"X11\"], [\"SHA-256\"], [\"NIST5\"], [\"Scrypt\"], [\"Scrypt\"], [\"X11\"], [\"Scrypt\"], [\"SHA-256\"], [\"Scrypt\"], [\"PoS\"], [\"X11\"], [\"SHA-256\"], [\"SHA-256\"], [\"NIST5\"], [\"X11\"], [\"POS 3.0\"], [\"Scrypt\"], [\"Scrypt\"], [\"Scrypt\"], [\"X13\"], [\"X11\"], [\"X11\"], [\"Scrypt\"], [\"SHA-256\"], [\"X11\"], [\"Scrypt\"], [\"Scrypt\"], [\"Scrypt\"], [\"Scrypt\"], [\"SHA-256D\"], [\"PoS\"], [\"Scrypt\"], [\"X11\"], [\"PoS\"], [\"X13\"], [\"X14\"], [\"PoS\"], [\"SHA-256D\"], [\"DPoS\"], [\"X11\"], [\"X13\"], [\"X11\"], [\"PoS\"], [\"Scrypt\"], [\"Scrypt\"], [\"PoS\"], [\"X11\"], [\"SHA-256\"], [\"Scrypt\"], [\"X11\"], [\"Scrypt\"], [\"Scrypt\"], [\"X11\"], [\"Scrypt\"], [\"Scrypt\"], [\"Scrypt\"], [\"Scrypt\"], [\"Quark\"], [\"QuBit\"], [\"Scrypt\"], [\"SHA-256\"], [\"X11\"], [\"Scrypt\"], [\"Scrypt\"], [\"Scrypt\"], [\"Scrypt\"], [\"X13\"], [\"Scrypt\"], [\"Scrypt\"], [\"X11\"], [\"Blake2S\"], [\"X11\"], [\"PoS\"], [\"X11\"], [\"PoS\"], [\"X11\"], [\"Scrypt\"], [\"Scrypt\"], [\"Scrypt\"], [\"SHA-256\"], [\"X11\"], [\"Scrypt\"], [\"PoS\"], [\"Scrypt\"], [\"X15\"], [\"SHA-256\"], [\"POS 3.0\"], [\"536\"], [\"NIST5\"], [\"NIST5\"], [\"Skein\"], [\"X13\"], [\"Scrypt\"], [\"X13\"], [\"SkunkHash v2 Raptor\"], [\"Skein\"], [\"X11\"], [\"Scrypt\"], [\"VeChainThor Authority\"], [\"PoS\"], [\"Scrypt\"], [\"Scrypt\"], [\"SHA-512\"], [\"Ouroboros\"], [\"X11\"], [\"NeoScrypt\"], [\"Scrypt\"], [\"Lyra2REv2\"], [\"Scrypt\"], [\"SHA-256\"], [\"NIST5\"], [\"PHI1612\"], [\"Scrypt\"], [\"Quark\"], [\"POS 2.0\"], [\"Scrypt\"], [\"SHA-256\"], [\"X11\"], [\"DPoS\"], [\"NIST5\"], [\"X13\"], [\"Scrypt\"], [\"NIST5\"], [\"Quark\"], [\"Scrypt\"], [\"Scrypt\"], [\"X11\"], [\"Quark\"], [\"Scrypt\"], [\"Scrypt\"], [\"X11\"], [\"POS 3.0\"], [\"Ethash\"], [\"Scrypt\"], [\"Scrypt\"], [\"X13\"], [\"C11\"], [\"X11\"], [\"XEVAN\"], [\"Scrypt\"], [\"VBFT\"], [\"NIST5\"], [\"Scrypt\"], [\"Scrypt\"], [\"Scrypt\"], [\"Green Protocol\"], [\"PoS\"], [\"Scrypt\"], [\"Semux BFT consensus\"], [\"Quark\"], [\"PoS\"], [\"X16R\"], [\"Scrypt\"], [\"XEVAN\"], [\"Scrypt\"], [\"Scrypt\"], [\"Scrypt\"], [\"SHA-256D\"], [\"Scrypt\"], [\"X15\"], [\"Scrypt\"], [\"Quark\"], [\"SHA-256\"], [\"DPoS\"], [\"X16R\"], [\"Quark\"], [\"Quark\"], [\"Scrypt\"], [\"Lyra2REv2\"], [\"Quark\"], [\"Scrypt\"], [\"X11\"], [\"X11\"], [\"Scrypt\"], [\"PoS\"], [\"Keccak\"], [\"X11\"], [\"Scrypt\"], [\"SHA-512\"], [\"XEVAN\"], [\"XEVAN\"], [\"X11\"], [\"Quark\"], [\"Scrypt\"], [\"Quark\"], [\"Quark\"], [\"Scrypt\"], [\"X11\"], [\"Scrypt\"], [\"XEVAN\"], [\"SHA-256D\"], [\"X11\"], [\"X11\"], [\"DPoS\"], [\"Scrypt\"], [\"X11\"], [\"Scrypt\"], [\"Scrypt\"], [\"SHA-256\"], [\"Scrypt\"], [\"X11\"], [\"Scrypt\"], [\"SHA-256\"], [\"X11\"], [\"Scrypt\"], [\"Scrypt\"], [\"X11\"], [\"Scrypt\"], [\"PoS\"], [\"X11\"], [\"SHA-256\"], [\"DPoS\"], [\"Scrypt\"], [\"Scrypt\"], [\"NeoScrypt\"], [\"X13\"], [\"DPoS\"], [\"DPoS\"], [\"SHA-256\"], [\"PoS\"], [\"PoS\"], [\"SHA-256\"], [\"Scrypt\"], [\"Scrypt\"]], \"hovertemplate\": \"<b>%{hovertext}</b><br><br>class=%{marker.color}<br>PC 1=%{x}<br>PC 2=%{y}<br>PC 3=%{z}<br>Algorithm=%{customdata[0]}<extra></extra>\", \"hovertext\": [\"42 Coin\", \"404Coin\", \"EliteCoin\", \"Dash\", \"Bitshares\", \"BitcoinDark\", \"PayCoin\", \"KoboCoin\", \"Aurora Coin\", \"BlueCoin\", \"EnergyCoin\", \"BitBar\", \"CryptoBullion\", \"CasinoCoin\", \"Diamond\", \"Exclusive Coin\", \"FlutterCoin\", \"HoboNickels\", \"HyperStake\", \"IOCoin\", \"MaxCoin\", \"MintCoin\", \"MazaCoin\", \"Nautilus Coin\", \"NavCoin\", \"OpalCoin\", \"Orbitcoin\", \"PotCoin\", \"PhoenixCoin\", \"Reddcoin\", \"SuperCoin\", \"SyncCoin\", \"TeslaCoin\", \"TittieCoin\", \"TorCoin\", \"UnitaryStatus Dollar\", \"UltraCoin\", \"VeriCoin\", \"X11 Coin\", \"Crypti\", \"StealthCoin\", \"ZCC Coin\", \"BurstCoin\", \"StorjCoin\", \"Neutron\", \"FairCoin\", \"RubyCoin\", \"Kore\", \"Dnotes\", \"8BIT Coin\", \"Sativa Coin\", \"Ucoin\", \"Vtorrent\", \"IslaCoin\", \"Nexus\", \"Droidz\", \"Squall Coin\", \"Diggits\", \"Paycon\", \"Emercoin\", \"EverGreenCoin\", \"Decred\", \"EDRCoin\", \"Hitcoin\", \"DubaiCoin\", \"PWR Coin\", \"BillaryCoin\", \"GPU Coin\", \"EuropeCoin\", \"ZeitCoin\", \"SwingCoin\", \"SafeExchangeCoin\", \"Nebuchadnezzar\", \"Ratecoin\", \"Revenu\", \"Clockcoin\", \"VIP Tokens\", \"BitSend\", \"Let it Ride\", \"PutinCoin\", \"iBankCoin\", \"Frankywillcoin\", \"MudraCoin\", \"Lutetium Coin\", \"GoldBlocks\", \"CarterCoin\", \"BitTokens\", \"MustangCoin\", \"ZoneCoin\", \"RootCoin\", \"BitCurrency\", \"Swiscoin\", \"BuzzCoin\", \"Opair\", \"PesoBit\", \"Halloween Coin\", \"CoffeeCoin\", \"RoyalCoin\", \"GanjaCoin V2\", \"TeamUP\", \"LanaCoin\", \"ARK\", \"InsaneCoin\", \"EmberCoin\", \"XenixCoin\", \"FreeCoin\", \"PLNCoin\", \"AquariusCoin\", \"Creatio\", \"Eternity\", \"Eurocoin\", \"BitcoinFast\", \"Stakenet\", \"BitConnect Coin\", \"MoneyCoin\", \"Enigma\", \"Russiacoin\", \"PandaCoin\", \"GameUnits\", \"GAKHcoin\", \"Allsafe\", \"LiteCreed\", \"Klingon Empire Darsek\", \"Internet of People\", \"KushCoin\", \"Printerium\", \"Impeach\", \"Zilbercoin\", \"FirstCoin\", \"FindCoin\", \"OpenChat\", \"RenosCoin\", \"VirtacoinPlus\", \"TajCoin\", \"Impact\", \"Atmos\", \"HappyCoin\", \"MacronCoin\", \"Condensate\", \"Independent Money System\", \"ArgusCoin\", \"LomoCoin\", \"ProCurrency\", \"GoldReserve\", \"GrowthCoin\", \"Phreak\", \"Degas Coin\", \"HTML5 Coin\", \"Ultimate Secure Cash\", \"QTUM\", \"Espers\", \"Denarius\", \"Virta Unique Coin\", \"Bitcoin Planet\", \"BritCoin\", \"Linda\", \"DeepOnion\", \"Signatum\", \"Cream\", \"Monoeci\", \"Draftcoin\", \"Vechain\", \"Stakecoin\", \"CoinonatX\", \"Ethereum Dark\", \"Obsidian\", \"Cardano\", \"Regalcoin\", \"TrezarCoin\", \"TerraNovaCoin\", \"Rupee\", \"WomenCoin\", \"Theresa May Coin\", \"NamoCoin\", \"LUXCoin\", \"Xios\", \"Bitcloud 2.0\", \"KekCoin\", \"BlackholeCoin\", \"Infinity Economics\", \"Magnet\", \"Lamden Tau\", \"Electra\", \"Bitcoin Diamond\", \"Cash & Back Coin\", \"Bulwark\", \"Kalkulus\", \"GermanCoin\", \"LiteCoin Ultra\", \"PhantomX\", \"Digiwage\", \"Trollcoin\", \"Litecoin Plus\", \"Monkey Project\", \"TokenPay\", \"1717 Masonic Commemorative Token\", \"My Big Coin\", \"Unified Society USDEX\", \"Tokyo Coin\", \"Stipend\", \"Pushi\", \"Ellerium\", \"Velox\", \"Ontology\", \"Bitspace\", \"Briacoin\", \"Ignition\", \"MedicCoin\", \"Bitcoin Green\", \"Deviant Coin\", \"Abjcoin\", \"Semux\", \"Carebit\", \"Zealium\", \"Proton\", \"iDealCash\", \"Bitcoin Incognito\", \"HollyWoodCoin\", \"Swisscoin\", \"Xt3ch\", \"TheVig\", \"EmaratCoin\", \"Dekado\", \"Lynx\", \"Poseidon Quark\", \"BitcoinWSpectrum\", \"Muse\", \"Trivechain\", \"Dystem\", \"Giant\", \"Peony Coin\", \"Absolute Coin\", \"Vitae\", \"TPCash\", \"ARENON\", \"EUNO\", \"MMOCoin\", \"Ketan\", \"XDNA\", \"PAXEX\", \"ThunderStake\", \"Kcash\", \"Bettex coin\", \"BitMoney\", \"Junson Ming Chan Coin\", \"HerbCoin\", \"Oduwa\", \"Galilel\", \"Crypto Sports\", \"Credit\", \"Dash Platinum\", \"Nasdacoin\", \"Beetle Coin\", \"Titan Coin\", \"Award\", \"Insane Coin\", \"ALAX\", \"LiteDoge\", \"TruckCoin\", \"OrangeCoin\", \"BitstarCoin\", \"NeosCoin\", \"HyperCoin\", \"PinkCoin\", \"AudioCoin\", \"IncaKoin\", \"Piggy Coin\", \"Genstake\", \"XiaoMiCoin\", \"CapriCoin\", \" ClubCoin\", \"Radium\", \"Creditbit \", \"OKCash\", \"Lisk\", \"HiCoin\", \"WhiteCoin\", \"FriendshipCoin\", \"Triangles Coin\", \"EOS\", \"Oxycoin\", \"TigerCash\", \"Particl\", \"Nxt\", \"ZEPHYR\", \"Gapcoin\", \"BitcoinPlus\"], \"legendgroup\": \"0\", \"marker\": {\"color\": [0, 0, 0, 0, 0, 0, 0, 0, 0, 0, 0, 0, 0, 0, 0, 0, 0, 0, 0, 0, 0, 0, 0, 0, 0, 0, 0, 0, 0, 0, 0, 0, 0, 0, 0, 0, 0, 0, 0, 0, 0, 0, 0, 0, 0, 0, 0, 0, 0, 0, 0, 0, 0, 0, 0, 0, 0, 0, 0, 0, 0, 0, 0, 0, 0, 0, 0, 0, 0, 0, 0, 0, 0, 0, 0, 0, 0, 0, 0, 0, 0, 0, 0, 0, 0, 0, 0, 0, 0, 0, 0, 0, 0, 0, 0, 0, 0, 0, 0, 0, 0, 0, 0, 0, 0, 0, 0, 0, 0, 0, 0, 0, 0, 0, 0, 0, 0, 0, 0, 0, 0, 0, 0, 0, 0, 0, 0, 0, 0, 0, 0, 0, 0, 0, 0, 0, 0, 0, 0, 0, 0, 0, 0, 0, 0, 0, 0, 0, 0, 0, 0, 0, 0, 0, 0, 0, 0, 0, 0, 0, 0, 0, 0, 0, 0, 0, 0, 0, 0, 0, 0, 0, 0, 0, 0, 0, 0, 0, 0, 0, 0, 0, 0, 0, 0, 0, 0, 0, 0, 0, 0, 0, 0, 0, 0, 0, 0, 0, 0, 0, 0, 0, 0, 0, 0, 0, 0, 0, 0, 0, 0, 0, 0, 0, 0, 0, 0, 0, 0, 0, 0, 0, 0, 0, 0, 0, 0, 0, 0, 0, 0, 0, 0, 0, 0, 0, 0, 0, 0, 0, 0, 0, 0, 0, 0, 0, 0, 0, 0, 0, 0, 0, 0, 0, 0, 0, 0, 0, 0, 0, 0, 0, 0, 0, 0, 0, 0, 0, 0, 0, 0, 0, 0, 0, 0, 0, 0, 0, 0, 0, 0, 0, 0, 0, 0, 0, 0], \"coloraxis\": \"coloraxis\", \"symbol\": \"circle\"}, \"mode\": \"markers\", \"name\": \"0\", \"scene\": \"scene\", \"showlegend\": true, \"type\": \"scatter3d\", \"x\": [-0.3369015604838956, -0.3202687597733348, 2.309484647265299, -0.390538131457347, -0.27302771029030937, -0.3041209071927683, -0.2692030981744727, -0.24329890226485276, -0.3365617374132123, -0.3291525480904044, -0.33540080680369294, -0.33689750369837923, -0.3368818125611908, 0.7488522506155803, -0.36160252219151956, -0.37684006377112134, -0.27573940645681055, -0.3349637475357512, -0.33547988150032787, -0.39043301494209726, -0.4500431848829871, -0.04236704073414203, -0.2674916433835101, -0.30173527346458595, -0.26997553983619144, -0.27059664161368, -0.34231083533704243, -0.33121380291508146, -0.3353061117153457, 0.020602645022899095, -0.35533110208605023, -0.3908039337542685, -0.2601371412334824, -0.325501068892503, -0.3907157269802911, -0.3121771237684592, -0.33558127402148, -0.2918658578858972, -0.3906802678877803, -0.26060408439669064, -0.27037789496621006, -0.32802014207387403, 0.2544919498209159, -0.3674138711620621, -0.3033340076911144, -0.36102511601071385, -0.30171557396340726, -0.2706718898179659, -0.29637893816369787, -0.33688366092901684, -0.27062416108476384, -0.35577514770202995, -0.3366185078881817, -0.390785495519564, -0.5055669323760665, -0.42424194811806903, -0.3278366749611707, -0.3001199192857583, -0.2701466349931915, -0.2966905223588094, -0.2457361222006203, -0.06787183525202184, -0.3040918729025845, -0.06881783951792347, -0.30415545817573475, -0.22803473694697501, -0.336494601050163, -0.29998915351258704, -0.3879595954440157, 0.8494089407812502, -0.303955866133301, 0.01936981551769706, -0.37652389387316254, -0.38863230316567005, -0.3027015800712212, -0.30037385434869235, -0.34917738412158267, -0.38952288849246025, -0.3594019983504097, -0.31283252843712, -0.3365326300979813, -0.33497439095349835, -0.23445069232808718, -0.3432879743842097, -0.3902603195990774, -0.3357382560964053, -0.30413644030255904, -0.3907747052681546, -0.33672146394105384, -0.33687790428973324, -0.29997882950098237, -0.25695785213828864, 0.04143943103068755, -0.3754828096148041, -0.33649274784390215, -0.3769611827254599, -0.3748126557492008, -0.23587882060781662, -0.3969841138437871, -0.3745619497419826, -0.2725312205314765, 3.7632893736998594, -0.3903679638218539, 0.8595278913107857, -0.3907296950137484, -0.37594574277121995, -0.33642041810504386, -0.33657446832058296, -0.37652389387316254, -0.39030533723740457, -0.3039993580084114, -0.33642115458912064, -0.370372432582275, -0.33656828468782307, -0.3321639521844778, -0.3907586368781067, -0.335780351843045, 0.34040266047462725, -0.3367672114024549, -0.33683766039116836, -0.369030056980601, -0.3375570865906056, -0.3330709659237961, -0.3041128959752621, -0.3906687471224968, -0.3366158614936109, -0.3367425879960831, -0.3016222311974477, -0.2958960935696881, -0.23564708362632716, -0.31762985789522113, -0.3013638297918641, -0.3899357676809253, -0.4189033878828937, -0.3886763802122724, -0.37477353655523904, -0.389833834637572, -0.36918331255476944, -0.3857819044619719, -0.3366859757217248, -0.3366851645746538, -0.32981878987637764, 0.26253886092858386, -0.39031148271842925, -0.2842945561036334, -0.3765581235823375, -0.3358980397766018, 0.8866513692653785, -0.26789577485648924, -0.3581825004412451, 0.5904959247937388, -0.35071032803325863, -0.349215183569389, -0.4167520481275361, -0.27030980869741594, 0.12723533345702207, -0.2703804589310291, -0.36381557879314536, -0.4162578147955204, -0.3905833928005581, -0.30169631434792665, 4.421468566552716, -0.3764246249584498, -0.33632181177218123, -0.3368206201390351, -0.33098969510336, 0.6437721483287351, -0.39052431978201196, -0.3373188396722166, -0.33677631033031413, -0.3221223779506599, 0.430979982193726, -0.30246208211738285, -0.3355038712139724, -0.3958903203293306, -0.3367267356327942, -0.40232908026065184, -0.36822984140443543, -0.33659736776773763, -0.0959925096001602, -0.38931908115187264, 3.768136871775358, 0.2077967266118129, -0.2670571695572518, -0.33406209226238986, -0.31561980554373054, -0.3689161621067692, 0.07682802447035944, -0.33573738534833747, -0.3898992206158834, -0.3680823503668285, -0.3233250149367334, -0.33684271231427937, -0.3557471267966703, -0.35968341604901755, -0.28719719071817434, -0.3060609314758612, -0.3323958158097847, -0.22745716095100788, -0.3646821410506879, -0.390600601621511, -0.28624301796338475, -0.30085775499730677, -0.33175904470687884, -0.3503099879098291, -0.3368700186935223, -0.3368517615269949, -0.29524904962765847, -0.3615731038100408, -0.37601979501579, -0.3365687680583833, 3.9534388315606486, -0.4009994800240778, -0.37620813097861083, -0.32938248867264414, -0.2835314402778229, -0.22342786935522152, -0.3013910654209733, -0.1403301866328316, -0.3016426678986292, -0.3377327320798819, -0.33604371610112205, -0.21022654111859665, 2.222111414801671, -0.3646315086702804, -0.26802331026909026, 1.0335762677396143, -0.36357468147665395, -0.369029491503614, -0.4040103030060659, -0.18258012678415458, -0.3569052534510369, -0.36775127526173773, -0.32975898786029806, -0.3553252742100421, -0.3900748667004823, -0.29889297086315086, -0.37530948177672757, -0.34019875314361553, -0.3551868819210605, -0.19659525977884054, -0.2935321733592742, -0.2513816535039198, 0.5964686240584324, -0.14607395602754328, -0.4033061697682317, -0.3365727384906234, -0.4037614893974143, -0.3691462627638513, 0.5683540892724173, -0.3558013455528704, -0.33605655516801325, -0.2807083379836786, -0.2925312197073371, -0.3876437019305398, -0.3903017064300216, 3.7803569652542723, 0.09759630508044397, -0.38784575681634476, -0.33544309086428936, -0.33626667701728274, -0.2692356661901673, -0.33678410852531027, -0.3819442729120975, -0.25063642320190166, -0.08417226761104425, -0.37770000178201674, -0.3360637094150201, -0.3291402403874774, -0.386876363100437, -0.33450562163267994, -0.3767990376714759, -0.3817677104484313, -0.3026385841543041, 3.763680503811113, -0.109264544885324, -0.33170534383419237, -0.34193733643852664, -0.27077890793402015, 3.7735308324169377, 3.7747727469075656, -0.2501661366628968, -0.37673501881161026, -0.41574396965482563, 2.496964407620335, -0.3349503082695008, -0.3020384480001592], \"y\": [1.0446957832450265, 1.044795942448313, 1.6141356452159994, 1.1414134292141944, 1.543422539160991, 0.8279352946183395, 0.6501603064041164, 1.8711571598645649, 1.0446937529918259, 1.0449137193795917, 1.0447379910285157, 1.0446955518536565, 1.0446956476420914, 0.5069651579782101, 0.878933487871223, 1.5182199504919967, 0.618626044158624, 1.0446673594601215, 0.9642135161224065, 1.1414163855501505, 2.0319904869752374, 0.8742157871707635, 0.8273089328208927, 0.8669100377001633, 1.7586833877092956, 1.7586659196119871, 0.5656716966115722, 1.0445655153324676, 1.0446729333400335, 1.0547503644652452, 0.9636552130142223, 1.1414211556579297, 0.1482635448125781, 1.699737718021523, 1.1414167268102535, 1.0442854947146158, 1.0446638125132717, 0.5303096058392286, 1.1414208337094198, 0.1483195153175683, 1.7586720717240283, 1.0442545377062562, 0.8670149363432565, 1.684638657274689, 0.8279256382979502, 0.8789527537682039, 0.8669217725997356, 1.75865551094494, 0.8667263471884806, 1.044696286687789, 1.75865823534534, 0.963628903912605, 1.0446899233528668, 1.1414216749127275, 2.311826050944264, 1.833059951534983, 0.6903531338081246, 0.866897546397018, 1.7586440242714305, 0.8274684423001591, 1.871312302339554, 0.9325941533634284, 0.827936111189511, 1.1321299696288443, 0.8279422697372822, 1.4978586020174962, 1.0446782054974606, 0.8668175731163348, 1.1412357961027215, 0.8308844681911943, 0.8279274977565952, 0.5126061426381795, 1.5182150219741317, 1.1414304048539312, 0.8278365053290981, 0.8276930900954099, 1.4943893484797568, 1.1413611317886985, 1.7189192774331454, 1.0439906499175795, 1.0446755235515557, 1.0446808807183072, 1.5807807013111461, 0.9635399117832697, 1.1414018936615111, 1.0446663077898442, 0.8279355487892658, 1.1414199052921263, 1.0446863367486774, 1.0446964485896522, 0.8669706174466963, 0.27145716848847207, 1.9085039188516595, 1.5182069862012926, 1.0447072808727313, 1.1407739302037156, 1.5182493289442083, 1.580877014416288, 2.034456549689347, 1.518076021023697, 1.9083074188520204, 1.9213405062231297, 1.1414126868329926, 1.7898625867429065, 1.1414205815029543, 1.5182105512142372, 1.0446826828095788, 1.0446759592806536, 1.5182150219741317, 1.1413937172699022, 0.8279400951725532, 1.0446864904019684, 0.6795214023019612, 1.044685807609777, 1.044379400144176, 1.14141897514574, 1.0446278082598326, 0.8625121653965677, 1.0446905783691134, 1.0446952891147394, 1.4742299288131615, 0.5608181606010825, 1.0444580013990483, 0.8279362109586802, 1.1414184944945438, 1.0446899977810518, 1.0446850976869078, 0.8668863911629252, 0.45718905352679134, 1.580875222427309, 1.0445467579214724, 0.8669078754965955, 1.1413764699862634, 1.7485732850591769, 1.1414049791688448, 1.5182018565654007, 1.1413793367890726, 1.518158879857424, 1.141216882827324, 1.0446871882506021, 1.0446821058184566, 1.044203951866744, 0.6132966117434658, 1.1414073650297325, 0.86602966802062, 1.5182071489862528, 1.0446514485259992, 1.840985472556377, 0.6500674477637239, 1.7189076215586399, 1.8340178349495035, 1.494401517785749, 1.4943675544975992, 1.7990512056532582, 1.7586532557111303, 1.0231978477815242, 1.7586589404017818, 1.680892399777197, 1.7990651056552374, 1.1414207891163872, 0.8669102862733961, 3.24755175670598, 1.5181890670311253, 1.0446787447685386, 1.0446951573449033, 1.544217344064184, 1.5745118292413702, 1.141410362509481, 0.5655382865837986, 1.0446884336527051, 0.7199574241679217, 1.0490162222399548, 0.8279280477007596, 1.494006864272323, 1.878069565919001, 1.0446861884856589, 1.651929168615187, 1.5568237238456186, 1.0446941193624963, 0.648821114337764, 1.1413634085927118, 1.921217702855808, 1.4893851917004695, 1.7586203487649896, 1.0446305252589494, 1.316612579876543, 1.4742296768855319, 1.0217801738827865, 1.0446248704862175, 1.1414120493435667, 1.4741840243287903, 1.0444556881955656, 1.0446946742223295, 0.9636290009530835, 1.7189172364911518, -0.011080972148087051, 0.3355632273046844, 1.0446621855800176, 1.580562772059006, 0.7315448748158911, 1.1414095991904287, 1.4875294666738872, 0.8668602105140002, 1.4300684569827329, 1.494385135904975, 1.0446945972774486, 1.0446937286890254, 0.8667581245937462, 1.5258807955172458, 1.518182209405895, 1.0446844119555212, 1.6546774998960083, 1.6519665627865687, 1.5181824408143056, 0.6957174380298422, 1.042657363034205, 1.036484116295024, 0.8669129324217208, 1.0431757248871627, 0.866893417722236, 1.9115914345999998, 1.0446618630983928, 1.6935033725735045, 0.42625144084328714, 1.47391483124663, 0.650132840891706, 1.745122387884583, 0.8734934527304625, 1.4742257985375593, 1.6520165317629514, 0.8586077978152957, 0.8977230777348276, 1.4742071562057582, 1.044205633760878, 0.9636173702761102, 1.1414071094077805, 0.8668214887696338, 1.5181178808740143, 0.9870470683518561, 0.9635901661276458, 1.0362032719783296, 1.6228741739019759, 1.309753236506847, 1.3159092443906106, 0.9695404387891184, 1.6520025789492554, 1.0446905195585394, 1.6520139345401783, 1.4742277869772153, 1.018466494619694, 0.9636283744234724, 1.044661502007702, 1.4873810729236507, 1.9094766523216355, 1.1412198033336183, 1.141414550280514, 1.9212158703675046, 1.0327297169454235, 1.1415043532169749, 1.0445985958396433, 1.0446761463732448, 0.6501535166951448, 1.044699086536603, 1.1413248138038155, 1.0398661223150898, 0.8340051189120095, 1.1410986663224643, 1.044708981860799, 1.0446376535735415, 1.1413878825909682, 1.0446526027680985, 1.518214885056346, 0.18685475603690538, 0.8279196285424458, 1.9213273768539922, 0.8654179323929858, 1.0446346146386487, 0.5656432282300193, 1.758660710562644, 1.921714919550877, 1.9217498476157402, 0.6500133169797243, 1.5182169383667545, 1.321538235047983, 0.8261041436149833, 1.0445779035464915, 0.8669120009404043], \"z\": [-0.6294766457582913, -0.6297681517163455, -0.6543263806742862, -0.45678870849842207, -0.00394675495934773, -0.3619455967933318, -0.05686301378016005, -0.6331725571970369, -0.6294822334536517, -0.6296279171904647, -0.6295059425465013, -0.6294766937620238, -0.6294769688817542, -0.463307236400401, -0.37247285375793165, -0.07710596533688292, -0.5505474224536244, -0.6295069882395815, -0.1521000745462769, -0.45679076051805023, -0.7024261286911712, -0.32946154701506597, -0.36251109916270735, -0.3243973113118094, -0.6235708613967106, -0.6235587366317724, -0.32086030263507614, -0.6295614765708688, -0.6295016773074712, -0.6364556218537916, -0.15171255128991204, -0.45678489209766904, 0.08450292275070605, -0.34300720602504764, -0.4567859902191876, -0.6298594834931522, -0.6294961809872387, -0.5619299442701116, -0.4567869631662121, 0.08450579953667568, -0.6235630068685964, -0.6295876374226622, -0.38935172652253786, -0.1467119252993266, -0.3619580884076379, -0.3724843987746773, -0.32439870527712256, -0.6235565190520701, -0.32447169083312233, -0.6294769951849584, -0.6235575755546902, -0.15170263518794327, -0.6294809236207455, -0.4567852520998744, -0.615047022497206, -0.6811357335330253, -0.03445433565662424, -0.3244236160715143, -0.6235644020879253, -0.36202963476438565, -0.633145173736084, -0.49084294014630714, -0.361946163582796, -0.46141416004962715, -0.36194563974822863, -0.5829160530057875, -0.6294819699636824, -0.32441861682294587, -0.45681646138935833, -0.3406940425324482, -0.36194769567670326, -0.4514281944888614, -0.07711088969221715, -0.4568226064475654, -0.3619607816106008, -0.36198736433584844, -0.580545566406505, -0.4568012282938979, -0.17838349536487727, -0.6298217347291741, -0.6294810820170459, -0.62950802818332, -0.31848705876803596, -0.15190666224892302, -0.45679238496463326, -0.6294937403391972, -0.36194535595146293, -0.4567852755827979, -0.6294788513904304, -0.6294771075625119, -0.32443260892887277, -0.40204578421317977, -0.7638956887139462, -0.07712784425702436, -0.6294846263485459, -0.45696154294111585, -0.07714304771339836, -0.31847150093774085, -0.7952097594283724, -0.07713165911534285, -0.7585459971587258, 0.024697749827051575, -0.4567915313186214, -0.6455673011137858, -0.4567861010096021, -0.07712030442367913, -0.6294836339724847, -0.6294804108442026, -0.07711088969221715, -0.45679088229914705, -0.3619480943731637, -0.6294839652131728, -0.09774838648490941, -0.6294814049598312, -0.6295285384233921, -0.4567854644881791, -0.6294895497335621, -0.3349052682066415, -0.6294784574239536, -0.6294776863205466, -0.20819883200347747, -0.36938660372965937, -0.6295202313108597, -0.36194581556926564, -0.4567869476322188, -0.6294809752820243, -0.6294783807928691, -0.3243970962325051, -0.42885848129349685, -0.31847527459041297, -0.6297904701271845, -0.32440342408607936, -0.45679560137164243, -0.7007070866180511, -0.4568195624962795, -0.07713942626111418, -0.45679759124550046, -0.07723048134156621, -0.4568517361623048, -0.6294795309361503, -0.6294790858713962, -0.6295525253321752, -0.06256518905892566, -0.45679201004882575, -0.32461401582218846, -0.07710959762201545, -0.629489685352499, -0.6496378521125216, -0.05687683192902423, -0.17840315298695625, -0.7614001423181638, -0.5805206320949594, -0.5805429569321121, -0.7221648077147805, -0.6235624644297048, -0.6354179443771765, -0.6235617778360545, -0.1794877745739479, -0.7221744558323558, -0.4567886043045773, -0.3243979953692774, 1.5803051457968558, -0.07711023230742808, -0.6294849530125155, -0.6294779638075176, -0.003034180366243416, -0.26058850328929295, -0.45678866619191905, -0.3209330341240537, -0.6294781092788748, -0.07113280648772416, -0.6429071070868931, -0.36197311325093257, -0.5807432439258097, -0.6475376745451384, -0.6294787484797231, -0.5133020672260065, -0.0837085460323842, -0.6294816614431905, -0.059683630554158915, -0.4568048949653182, 0.02462651467807133, -0.5895525084685894, -0.6236147309785943, -0.629518975065609, -0.27543972278525347, -0.20820074345930611, -0.6344339240526443, -0.6294900141835225, -0.4567994341157538, -0.208210782026834, -0.6296855313819343, -0.6294775450149094, -0.15170311980883697, -0.1783785319826695, 0.138429968163012, -0.32663622751194094, -0.6295501305946781, -0.3185861506254131, -0.2737951923813342, -0.4567873018368018, -0.46498787404395847, -0.32440771523732687, -0.07607464530592749, -0.5805259518514404, -0.6294770743425524, -0.6294773059758749, -0.3244937478186323, -0.09521890011779988, -0.07711648815741447, -0.6294812707519739, 0.17988623384873087, -0.513328022859873, -0.07711331066636148, -0.017358566188919837, -0.6301989667280531, -0.04265678118955288, -0.32440341809893075, -0.6326776544422458, -0.32439738352473707, -0.7577352035181386, -0.6294881516532069, -0.32806957615880356, -0.5749976223303102, -0.20824508269919803, -0.05688056974634049, -0.07146574523272105, -0.32245356452317375, -0.20819846872698217, -0.5132814032647343, -0.32567131986969916, -0.3762168382575556, -0.20821849278832696, -0.6295536927501643, -0.15170923383371385, -0.45679600526147374, -0.32443758605644646, -0.07712274337379944, -0.42254852606060145, -0.15170912807701561, -0.6310926724625507, 0.25903641741849637, -0.15990422034795226, -0.17507035926642334, -0.1557975399337126, -0.51329210142978, -0.6294817547167322, -0.5132853942220555, -0.20819666519502797, -0.6424820217604923, -0.15170214248546374, -0.62948790101688, -0.4650684688498906, -0.7583119085991122, -0.45682038217491666, -0.4567928247544645, 0.02441915451657066, -0.6357751380580391, -0.4568426398615092, -0.6294926399236083, -0.6294856547467613, -0.05686184772735797, -0.6294789385854409, -0.45692665203301974, -0.6305056085132166, -0.3662288173334078, -0.4569783131212322, -0.6294920659830555, -0.6296032030946286, -0.4568485874995713, -0.62951343605433, -0.07710620474995689, 0.09874470377800733, -0.3619693557577903, 0.024692292842555523, -0.3275312050955481, -0.629559367320675, -0.32086407540075634, -0.6235551710550349, 0.02449002416393576, 0.024465780276994288, -0.05717303549996425, -0.07710747731106694, 0.2190310632802949, 0.0387061628066865, -0.6294991404258877, -0.32439233994387795]}, {\"customdata\": [[\"SHA-256\"], [\"Ethash\"], [\"Scrypt\"], [\"CryptoNight-V7\"], [\"Ethash\"], [\"Equihash\"], [\"Multiple\"], [\"Scrypt\"], [\"X11\"], [\"Scrypt\"], [\"Multiple\"], [\"Scrypt\"], [\"SHA-256\"], [\"Scrypt\"], [\"Scrypt\"], [\"Quark\"], [\"Groestl\"], [\"Scrypt\"], [\"Scrypt\"], [\"Scrypt\"], [\"X11\"], [\"Multiple\"], [\"SHA-256\"], [\"Scrypt\"], [\"Scrypt\"], [\"Scrypt\"], [\"Scrypt\"], [\"Scrypt\"], [\"NeoScrypt\"], [\"Scrypt\"], [\"Scrypt\"], [\"Scrypt\"], [\"Scrypt\"], [\"SHA-256\"], [\"Scrypt\"], [\"Scrypt\"], [\"Scrypt\"], [\"Scrypt\"], [\"HybridScryptHash256\"], [\"Scrypt\"], [\"Scrypt\"], [\"SHA-256\"], [\"Scrypt\"], [\"Scrypt\"], [\"Scrypt\"], [\"Scrypt\"], [\"SHA-256\"], [\"SHA-256\"], [\"SHA-256\"], [\"SHA-256\"], [\"SHA-256\"], [\"X11\"], [\"Scrypt\"], [\"Lyra2REv2\"], [\"Scrypt\"], [\"SHA-256\"], [\"CryptoNight\"], [\"CryptoNight\"], [\"Scrypt\"], [\"Scrypt\"], [\"Scrypt\"], [\"Scrypt\"], [\"Scrypt\"], [\"Scrypt\"], [\"Stanford Folding\"], [\"Multiple\"], [\"QuBit\"], [\"Scrypt\"], [\"Scrypt\"], [\"M7 POW\"], [\"Scrypt\"], [\"SHA-256\"], [\"Scrypt\"], [\"X11\"], [\"Lyra2RE\"], [\"SHA-256\"], [\"X11\"], [\"Scrypt\"], [\"Scrypt\"], [\"Ethash\"], [\"Blake2b\"], [\"X11\"], [\"SHA-256\"], [\"Scrypt\"], [\"1GB AES Pattern Search\"], [\"Scrypt\"], [\"SHA-256\"], [\"X11\"], [\"Dagger\"], [\"Scrypt\"], [\"X11GOST\"], [\"Scrypt\"], [\"X11\"], [\"Scrypt\"], [\"X11\"], [\"Equihash\"], [\"CryptoNight\"], [\"SHA-256\"], [\"Multiple\"], [\"Scrypt\"], [\"SHA-256\"], [\"Scrypt\"], [\"Lyra2Z\"], [\"Ethash\"], [\"Equihash\"], [\"Scrypt\"], [\"X11\"], [\"X11\"], [\"CryptoNight\"], [\"Scrypt\"], [\"CryptoNight\"], [\"Lyra2RE\"], [\"X11\"], [\"CryptoNight-V7\"], [\"Scrypt\"], [\"X11\"], [\"Equihash\"], [\"Scrypt\"], [\"Lyra2RE\"], [\"Dagger-Hashimoto\"], [\"Scrypt\"], [\"NIST5\"], [\"Scrypt\"], [\"SHA-256\"], [\"Scrypt\"], [\"CryptoNight-V7\"], [\"Argon2d\"], [\"Blake2b\"], [\"Cloverhash\"], [\"CryptoNight\"], [\"X11\"], [\"Scrypt\"], [\"Scrypt\"], [\"X11\"], [\"X11\"], [\"CryptoNight\"], [\"Time Travel\"], [\"Scrypt\"], [\"Keccak\"], [\"X11\"], [\"SHA-256\"], [\"Scrypt\"], [\"Scrypt\"], [\"Scrypt\"], [\"Scrypt\"], [\"Scrypt\"], [\"Scrypt\"], [\"CryptoNight\"], [\"Equihash\"], [\"X11\"], [\"NeoScrypt\"], [\"Equihash\"], [\"Dagger\"], [\"Scrypt\"], [\"X11\"], [\"NeoScrypt\"], [\"Ethash\"], [\"NeoScrypt\"], [\"Multiple\"], [\"CryptoNight\"], [\"CryptoNight\"], [\"Ethash\"], [\"X11\"], [\"CryptoNight-V7\"], [\"Scrypt\"], [\"BLAKE256\"], [\"X11\"], [\"NeoScrypt\"], [\"NeoScrypt\"], [\"Scrypt\"], [\"X11\"], [\"SHA-256\"], [\"C11\"], [\"CryptoNight\"], [\"SkunkHash\"], [\"CryptoNight\"], [\"Scrypt\"], [\"Dagger\"], [\"Lyra2REv2\"], [\"Scrypt\"], [\"Scrypt\"], [\"X11\"], [\"Ethash\"], [\"CryptoNight\"], [\"Scrypt\"], [\"IMesh\"], [\"Equihash\"], [\"Lyra2Z\"], [\"X11\"], [\"CryptoNight\"], [\"NIST5\"], [\"Lyra2RE\"], [\"Tribus\"], [\"Lyra2Z\"], [\"CryptoNight\"], [\"CryptoNight Heavy\"], [\"CryptoNight\"], [\"Jump Consistent Hash\"], [\"CryptoNight\"], [\"X16R\"], [\"HMQ1725\"], [\"X11\"], [\"Scrypt\"], [\"CryptoNight-V7\"], [\"Cryptonight-GPU\"], [\"XEVAN\"], [\"CryptoNight Heavy\"], [\"SHA-256\"], [\"X11\"], [\"X16R\"], [\"Equihash\"], [\"Lyra2Z\"], [\"SHA-256\"], [\"CryptoNight\"], [\"Blake\"], [\"Blake\"], [\"Equihash\"], [\"Exosis\"], [\"Scrypt\"], [\"Equihash\"], [\"Equihash\"], [\"QuBit\"], [\"SHA-256\"], [\"X13\"], [\"SHA-256\"], [\"Scrypt\"], [\"NeoScrypt\"], [\"Blake\"], [\"Scrypt\"], [\"SHA-256\"], [\"Scrypt\"], [\"Groestl\"], [\"Scrypt\"], [\"Scrypt\"], [\"Multiple\"], [\"Equihash+Scrypt\"], [\"Ethash\"], [\"CryptoNight\"], [\"Equihash\"]], \"hovertemplate\": \"<b>%{hovertext}</b><br><br>class=%{marker.color}<br>PC 1=%{x}<br>PC 2=%{y}<br>PC 3=%{z}<br>Algorithm=%{customdata[0]}<extra></extra>\", \"hovertext\": [\"Bitcoin\", \"Ethereum\", \"Litecoin\", \"Monero\", \"Ethereum Classic\", \"ZCash\", \"DigiByte\", \"ProsperCoin\", \"Spreadcoin\", \"Argentum\", \"MyriadCoin\", \"MoonCoin\", \"ZetaCoin\", \"SexCoin\", \"Quatloo\", \"QuarkCoin\", \"Riecoin\", \"Digitalcoin \", \"Catcoin\", \"CannaCoin\", \"CryptCoin\", \"Verge\", \"DevCoin\", \"EarthCoin\", \"E-Gulden\", \"Einsteinium\", \"Emerald\", \"Franko\", \"FeatherCoin\", \"GrandCoin\", \"GlobalCoin\", \"GoldCoin\", \"Infinite Coin\", \"IXcoin\", \"KrugerCoin\", \"LuckyCoin\", \"Litebar \", \"MegaCoin\", \"MediterraneanCoin\", \"MinCoin\", \"NobleCoin\", \"Namecoin\", \"NyanCoin\", \"RonPaulCoin\", \"StableCoin\", \"SmartCoin\", \"SysCoin\", \"TigerCoin\", \"TerraCoin\", \"UnbreakableCoin\", \"Unobtanium\", \"UroCoin\", \"ViaCoin\", \"Vertcoin\", \"WorldCoin\", \"JouleCoin\", \"ByteCoin\", \"DigitalNote \", \"MonaCoin\", \"Gulden\", \"PesetaCoin\", \"Wild Beast Coin\", \"Flo\", \"ArtByte\", \"Folding Coin\", \"Unitus\", \"CypherPunkCoin\", \"OmniCron\", \"GreenCoin\", \"Cryptonite\", \"MasterCoin\", \"SoonCoin\", \"1Credit\", \"MarsCoin \", \"Crypto\", \"Anarchists Prime\", \"BowsCoin\", \"Song Coin\", \"BitZeny\", \"Expanse\", \"Siacoin\", \"MindCoin\", \"I0coin\", \"Revolution VR\", \"HOdlcoin\", \"Gamecredits\", \"CarpeDiemCoin\", \"Adzcoin\", \"SoilCoin\", \"YoCoin\", \"SibCoin\", \"Francs\", \"BolivarCoin\", \"Omni\", \"PizzaCoin\", \"Komodo\", \"Karbo\", \"ZayedCoin\", \"Circuits of Value\", \"DopeCoin\", \"DollarCoin\", \"Shilling\", \"ZCoin\", \"Elementrem\", \"ZClassic\", \"KiloCoin\", \"ArtexCoin\", \"Kurrent\", \"Cannabis Industry Coin\", \"OsmiumCoin\", \"Bikercoins\", \"HexxCoin\", \"PacCoin\", \"Citadel\", \"BeaverCoin\", \"VaultCoin\", \"Zero\", \"Canada eCoin\", \"Zoin\", \"DubaiCoin\", \"EB3coin\", \"Coinonat\", \"BenjiRolls\", \"ILCoin\", \"EquiTrader\", \"Quantum Resistant Ledger\", \"Dynamic\", \"Nano\", \"ChanCoin\", \"Dinastycoin\", \"DigitalPrice\", \"Unify\", \"SocialCoin\", \"ArcticCoin\", \"DAS\", \"LeviarCoin\", \"Bitcore\", \"gCn Coin\", \"SmartCash\", \"Onix\", \"Bitcoin Cash\", \"Sojourn Coin\", \"NewYorkCoin\", \"FrazCoin\", \"Kronecoin\", \"AdCoin\", \"Linx\", \"Sumokoin\", \"BitcoinZ\", \"Elements\", \"VIVO Coin\", \"Bitcoin Gold\", \"Pirl\", \"eBoost\", \"Pura\", \"Innova\", \"Ellaism\", \"GoByte\", \"SHIELD\", \"UltraNote\", \"BitCoal\", \"DaxxCoin\", \"AC3\", \"Lethean\", \"PopularCoin\", \"Photon\", \"Sucre\", \"SparksPay\", \"GunCoin\", \"IrishCoin\", \"Pioneer Coin\", \"UnitedBitcoin\", \"Interzone\", \"TurtleCoin\", \"MUNcoin\", \"Niobio Cash\", \"ShareChain\", \"Travelflex\", \"KREDS\", \"BitFlip\", \"LottoCoin\", \"Crypto Improvement Fund\", \"Callisto Network\", \"BitTube\", \"Poseidon\", \"Aidos Kuneen\", \"Bitrolium\", \"Alpenschillling\", \"FuturoCoin\", \"Monero Classic\", \"Jumpcoin\", \"Infinex\", \"KEYCO\", \"GINcoin\", \"PlatinCoin\", \"Loki\", \"Newton Coin\", \"MassGrid\", \"PluraCoin\", \"Motion\", \"PlusOneCoin\", \"Axe\", \"HexCoin\", \"Webchain\", \"Ryo\", \"Urals Coin\", \"Qwertycoin\", \"Project Pai\", \"Azart\", \"Xchange\", \"CrypticCoin\", \"Actinium\", \"Bitcoin SV\", \"FREDEnergy\", \"Universal Molecule\", \"Lithium\", \"PirateCash\", \"Exosis\", \"Block-Logic\", \"Beam\", \"Bithereum\", \"SLICE\", \"BLAST\", \"Bitcoin Rhodium\", \"GlobalToken\", \"SolarCoin\", \"UFO Coin\", \"BlakeCoin\", \"Crypto Escudo\", \"Crown Coin\", \"SmileyCoin\", \"Groestlcoin\", \"Bata\", \"Pakcoin\", \"JoinCoin\", \"Vollar\", \"Reality Clash\", \"Beldex\", \"Horizen\"], \"legendgroup\": \"1\", \"marker\": {\"color\": [1, 1, 1, 1, 1, 1, 1, 1, 1, 1, 1, 1, 1, 1, 1, 1, 1, 1, 1, 1, 1, 1, 1, 1, 1, 1, 1, 1, 1, 1, 1, 1, 1, 1, 1, 1, 1, 1, 1, 1, 1, 1, 1, 1, 1, 1, 1, 1, 1, 1, 1, 1, 1, 1, 1, 1, 1, 1, 1, 1, 1, 1, 1, 1, 1, 1, 1, 1, 1, 1, 1, 1, 1, 1, 1, 1, 1, 1, 1, 1, 1, 1, 1, 1, 1, 1, 1, 1, 1, 1, 1, 1, 1, 1, 1, 1, 1, 1, 1, 1, 1, 1, 1, 1, 1, 1, 1, 1, 1, 1, 1, 1, 1, 1, 1, 1, 1, 1, 1, 1, 1, 1, 1, 1, 1, 1, 1, 1, 1, 1, 1, 1, 1, 1, 1, 1, 1, 1, 1, 1, 1, 1, 1, 1, 1, 1, 1, 1, 1, 1, 1, 1, 1, 1, 1, 1, 1, 1, 1, 1, 1, 1, 1, 1, 1, 1, 1, 1, 1, 1, 1, 1, 1, 1, 1, 1, 1, 1, 1, 1, 1, 1, 1, 1, 1, 1, 1, 1, 1, 1, 1, 1, 1, 1, 1, 1, 1, 1, 1, 1, 1, 1, 1, 1, 1, 1, 1, 1, 1, 1, 1, 1, 1, 1, 1, 1, 1, 1, 1, 1, 1, 1, 1, 1, 1, 1, 1, 1, 1, 1, 1, 1, 1, 1, 1, 1, 1, 1, 1], \"coloraxis\": \"coloraxis\", \"symbol\": \"diamond\"}, \"mode\": \"markers\", \"name\": \"1\", \"scene\": \"scene\", \"showlegend\": true, \"type\": \"scatter3d\", \"x\": [-0.13851713121463347, -0.15536168443183326, -0.1701304073198407, -0.15647597085813125, -0.15380637026254837, -0.14287303173409788, 0.156439219727273, -0.1712746584965293, -0.22511850243723572, -0.17089185619385483, -0.09652845290008216, 2.5459491661517473, -0.13560712823478432, -0.168152006180614, -0.1706962174443291, -0.23379774963557118, -0.19506718134945716, -0.17074492005460742, -0.17125695562286047, -0.17134326191452182, -0.22520768872584276, 0.18014532173667222, 0.23867353411573375, 0.07695514437326989, -0.1710899993013051, -0.16670293066182512, -0.17102939591006808, -0.17140016552217524, -0.17204635379868782, -0.15065848214500474, -0.17019736542269523, -0.1704743256582126, 1.5744709224444495, -0.13847856840944428, -0.1677684083542142, -0.17111639484901783, -0.1714705923388478, -0.17073112828993134, -0.17436245632189964, -0.17135206417023605, -0.036489256438278335, -0.1385560428098731, -0.16502698540110336, -0.17133153797479517, -0.16942914002813608, -0.17081917127599702, -0.12573037163207149, -0.1380207428672892, -0.13830744565987044, -0.1382904477758616, -0.13888014450078315, -0.22538128406919106, -0.17104852404647156, -0.1908129168865715, -0.16815670673720065, -0.13808792027124966, 3.8545584317942607, 0.45943488018485296, -0.16991807732695183, -0.15454346859974535, -0.1686391220433923, -0.17147279734951018, -0.16850440028538097, -0.15475192431653234, -0.13018964070134179, -0.13047605244131516, -0.17299803312329867, -0.1713460973654307, -0.04450363423543233, -0.10344125715629535, -0.171481674962789, -0.13858377162404012, 0.479561461401757, -0.22476953395613336, -0.14937495816582141, -0.13832407926651655, -0.22505393713207522, -0.16960867864382909, -0.1688023238257032, -0.15642726542053076, 0.3597733349487764, -0.22508927345925997, -0.13847968879282802, -0.16744655564546868, -0.1417082698166546, -0.17004751945190447, 0.2792773663970747, -0.22425144491071883, -0.1533574870722471, -0.17029448442826806, -0.11969356775347711, -0.17127194868783674, -0.22505257846388485, -0.17148173335605024, -0.22520228666423941, -0.22611694925654416, 0.30460826307519656, -0.13873932148440296, -0.11058307290125889, -0.16865334757671463, -0.13869802338282125, -0.1711457141700303, -0.160809482907942, -0.15616987132874324, -0.1428946109150101, -0.0983330147909217, -0.21180896599453597, -0.2230341798960088, 0.3046026401974431, -0.17146350256872725, 0.30473312835008143, -0.1499144728749404, 0.48881989519908786, -0.15524278347130538, -0.17143184507155795, -0.21794878079152147, -0.14290696524497704, -0.16956835265946507, -0.14963334305642176, -0.14385195561262215, -0.14240526450563018, -0.18495910057284776, -0.17099497944423783, -0.10512270940837463, -0.1708173452433554, -0.15510079228484672, -0.16699448216766474, -0.03982833324065006, -0.14619511599731821, 0.3406619545234888, -0.2242598190234528, -0.17113606288370903, -0.1708998416478498, -0.22465381941444235, -0.22523027194136613, 0.30499694553438916, -0.15453274906105638, 3.232302890547286, -0.11472530711545717, -0.21611807193515967, -0.1385162968959962, -0.09718262018712034, 1.5724769422518705, -0.17123373880260356, -0.17068632376248435, -0.1703878181205899, -0.17037477193977904, 0.30518024390949916, 0.06905351917199776, -0.17969658962149204, -0.17672696768111865, -0.14275328502195747, -0.15211871993317885, -0.16956656495134018, -0.220782408815833, -0.17657264517629856, -0.15453786373930192, -0.1766726785894746, -0.12072478783598803, 1.14110176409609, 0.30458543759487977, -0.07955586706065049, -0.2205243780906879, -0.1442316749350492, -0.08776669269755026, 1.1011061835103828, -0.22520431583330372, -0.1767245323361384, -0.16977446014319628, -0.17048603910106425, -0.22512985301800964, -0.1384957306237565, -0.19924018400005455, 8.029157861559176, -0.14830234390668118, 0.30845317436446856, 0.021223420621791608, -0.15162282175777686, -0.1763959711427403, -0.17105876584633653, 0.1354849287823119, -0.21928088936523285, -0.10765687517167137, 0.31249497636770784, -0.17129536684990548, -0.15625114842480986, -0.14174612915492063, -0.15859679874779337, -0.2243005201028479, 0.30476763846708305, -0.1850184655136172, -0.14975997780157072, -0.14464599398883296, -0.16089371471608338, 0.3086891375863834, 0.5749658769129424, 2.110137989166275, -0.15521615309241354, 0.3183490401503686, -0.19894584950896313, -0.1540614741621091, -0.2251865069416776, -0.17131990537341807, -0.1441115589872067, -0.13466174347462745, -0.11959885224748279, 3.093157950763602, -0.0984137866585021, -0.2251579215814037, -0.19837455249938538, -0.03768164710848004, -0.1602925011368149, -0.13851633439571168, 0.38439041591816675, -0.14732798849085402, -0.1477193484252322, -0.27275776473966934, -0.11235107883297196, -0.1702141143241139, -0.1408167182142538, -0.14258639372923212, -0.17221036017594274, -0.13779373178461263, -0.10534439322275177, -0.13666362332867593, 0.5234057141904003, -0.10201999983132447, -0.09826958158874043, -0.15490224695736501, -0.1383068172123737, 0.5431177041495495, -0.19462894389638635, -0.17139661392108382, -0.16935585471938866, -0.1312096513046598, -0.1417174773679471, -0.15620297230897287, 0.3263048637983793, -0.1428740868328062], \"y\": [-1.3045524926643712, -1.9657544492820276, -1.087817909798565, -2.2563067459528074, -1.9658558233231345, -2.069545611299298, -1.8128454172868385, -1.0878065562615657, -0.9910788460561498, -1.087825504472174, -1.8068304064199658, -1.276727305925203, -1.3045734728561607, -1.0878769794696563, -1.0878448793309683, -0.48050945246650506, -1.253583810563934, -1.087810430218427, -1.0878060583793652, -1.0878030541947332, -0.9910799723047267, -1.80910707023855, -1.3084413580347518, -1.0901396407651043, -1.0878013628377057, -1.0878706332073522, -1.0878072597340915, -1.0878033387228352, -1.5669152831424749, -1.0881939113182537, -1.0878101185348108, -1.0878194597132484, -1.1013013541026133, -1.3045514081097054, -1.087876847255361, -1.0878014141660217, -1.0877984880406284, -1.087805781443462, -2.3986129888758807, -1.087801131918819, -1.0943667380924524, -1.3045535870285465, -1.087849209823071, -1.0878081559611599, -1.0879128980568062, -1.0878146150720425, -1.304791995990885, -1.3045565071010996, -1.304561107017379, -1.3045868880980536, -1.304548363314965, -0.9910724160268425, -1.0878015784319808, -1.2347734275594546, -1.0878877679034482, -1.3045570060933764, -2.3339818338879725, -2.308905336080096, -1.0878265327019963, -1.088482420629307, -1.0878328995248012, -1.087799433191356, -1.0878246976431696, -1.0880183829961996, -2.0276425384902126, -1.8064031015684323, -1.571645222396935, -1.087796383501977, -1.091136988027471, -2.140489239672662, -1.0877982949199334, -1.304554366884026, -1.1330624366920192, -0.9910780149253005, -2.308859797853338, -1.3045697013385191, -0.991077721227384, -1.0878904721195088, -1.0878952692448867, -1.9657961009034401, -2.3611122758410725, -0.9910752598899819, -1.3045514396197841, -1.0878294979212815, -2.1849042042154907, -1.0878155786293533, -1.3077321789536542, -0.9910986865203072, -2.2498205100497604, -1.0878808136329816, -2.2415156507023015, -1.0878057890200177, -0.9910804471352195, -1.0877982944683866, -0.9910846575843059, -1.5824940885601986, -2.306356348909484, -1.3045509578655483, -1.8066728598732815, -1.0878565278874144, -1.304550419897265, -1.0878091490523183, -2.3217101847033486, -1.9657952878412979, -2.069546218200207, -1.092650905539293, -0.991036218047875, -0.9911639600093566, -2.3063641083780815, -1.0877992314076899, -2.3063632026002874, -2.308836419429767, -1.0400889446460222, -2.256399903860266, -1.0877987872681383, -0.9915544114225096, -2.0695438015384515, -1.0878131588424331, -2.3088361141596128, -2.0745194900051276, -1.0897442305888214, -0.6381092468215535, -1.0878087244942045, -1.3053263586052664, -1.0878289371375494, -2.256340628056854, -2.259261642198585, -2.3725859670076814, -2.1920934732535122, -2.306717510950393, -0.9911099785150657, -1.087801467564332, -1.087833330386744, -0.9910934183332997, -0.9910812293703692, -2.306375822774266, -2.1564239160504166, -1.1302745404695658, -1.146959845570759, -0.9915720268741149, -1.304552469199688, -1.0929640663543334, -1.0387501263099341, -1.0878047143909992, -1.087833544599283, -1.0878362057937285, -1.087835838878089, -2.306394776886744, -2.078082426066841, -0.991031416481292, -1.5668333942342192, -2.069542243498248, -2.2498729522286767, -1.0878131085642648, -0.9911849360078193, -1.5668414925485792, -1.9659247682093166, -1.5668351843310508, -1.8065849330988408, -2.3415611242887744, -2.3063587184364818, -1.9705327571022329, -0.9913158850320043, -2.2566530544152092, -1.0888985849618318, -1.2338532323800662, -0.9910811212980288, -1.5668291795623843, -1.5669647164611562, -1.087814091121379, -0.991081238373747, -1.3045513144672802, -1.4009506833112773, -2.780131214971964, -2.316305405793857, -2.306473488936153, -1.0892884559001834, -2.2498200957692096, -1.2350700463765747, -1.0878136139841477, -1.0918843970434362, -0.9912463611987183, -1.9689044757178895, -2.3068186596350126, -1.0878071386709953, -2.2640312147655157, -2.0695477783363723, -2.321840475276271, -0.9911111232073548, -2.3063576712277105, -0.6380920844768974, -2.30884332432004, -2.104521442779324, -2.321705021444332, -2.3066492848653515, -2.2223478441100712, -2.3827195474542324, -2.361442470822052, -2.3066540177687225, -1.2589806580959908, -2.198289119326583, -0.9910814496699971, -1.0878085925713137, -2.2571683069284396, -1.9088328573617674, -0.6450334058130932, -2.2788959016884096, -1.3048612624150935, -0.9910834098442217, -1.2590184387462613, -2.071824485158569, -2.3217389033863705, -1.3045524702543438, -2.309689137121886, -2.2976905228405236, -2.2976463223853845, -0.11487419829319725, -1.9083739334217331, -1.087845141081199, -2.069654869798621, -2.0695443813068883, -1.571692172578233, -1.3045618617947445, -0.37383389635591513, -1.3046019453120106, -1.1360446269009217, -1.5674777694131528, -2.301075354071523, -1.0880226107260382, -1.3045610893426882, -1.1022517022829241, -1.2535859970383771, -1.0877989297031685, -1.0878638469216173, -1.8064256684592752, -2.213849111404932, -1.9657950318761037, -2.306706831009197, -2.0695456409732884], \"z\": [0.2230399322948705, 0.4183098424193849, -0.044508602687138556, 0.45817613857316036, 0.418292581576231, 0.4354401317665324, 0.36012822827811736, -0.04449019563460992, 0.12820035300695945, -0.04449498587090223, 0.3638811747378047, -0.07357928463527735, 0.2229924077620228, -0.044536867752071774, -0.044496559117299585, 0.07162930647328065, 0.21249951944798365, -0.044498842085686656, -0.04449054121916583, -0.044489346754252944, 0.12820196927475455, 0.3593881470930086, 0.21698544305773115, -0.048495084872729154, -0.04449380043726415, -0.04456204936133297, -0.044494297254325056, -0.04448835471161751, 0.26405503189319546, -0.044805335981910846, -0.04450816897501888, -0.0445026222285049, -0.07291870940007214, 0.22303917949562727, -0.04454339407124452, -0.04449334754559749, -0.044487596618161575, -0.04449949599143796, 0.5593664460801782, -0.04448937081377792, -0.046186914563740966, 0.2230406919029785, -0.04459244490273267, -0.0444890852685979, -0.04451193633461706, -0.044497203320430084, 0.2228444056525759, 0.22303186488840146, 0.22303714904695554, 0.2230391878888964, 0.22304572430844688, 0.12820423514956775, -0.04449448531975324, 0.2087611809945919, -0.04453581395025587, 0.22303305076572238, 0.36813103548205595, 0.4235242306470761, -0.04451143007183161, -0.04471331337585158, -0.04453257491180716, -0.044487473844128884, -0.04453560326302711, -0.04475166644286168, 0.522621592520447, 0.3644191069938188, 0.21561446396670966, -0.04448990082914656, -0.046342392324878266, 0.4136679379583044, -0.04448742584429921, 0.2230412332077468, -0.05145722351105797, 0.1281943516766755, 0.510348607978434, 0.22303820741610247, 0.12819915498888373, -0.044510911956056005, -0.044524172653026786, 0.4183316987534595, 0.4830864344343216, 0.12819953287332833, 0.2230392013670594, -0.04455313455723368, 0.3974915685508446, -0.04451022077285439, 0.2162318711851947, 0.12818741954340906, 0.4767123875013401, -0.04450013734365931, 0.4701977015529595, -0.0444903109197184, 0.12819937800939532, -0.04448742489341143, 0.12820230052033388, 0.5317926388484513, 0.425923425032251, 0.2230435670412055, 0.364105631622575, -0.04453020017016393, 0.22304281713586768, -0.0444921513329572, 0.509767906223399, 0.4183272542004434, 0.4354405530219631, -0.045291568434684765, 0.1279704776954478, 0.12817264041761162, 0.4259242210434725, -0.044487649908063566, 0.4259219232780158, 0.5103556595978952, 0.12050063104395213, 0.4581636064424747, -0.04448822762270536, 0.12812152831332202, 0.4354405446519632, -0.04451857659639024, 0.5103508578003119, 0.3599425235164307, -0.04480553260902547, 0.004464467307829018, -0.04449474948797966, 0.22254268167777497, -0.044495941340431805, 0.45815584370647017, 0.4221854552570364, 0.4909084399903253, 0.45296155759913237, 0.42534375509302086, 0.1281885811920294, -0.04449300871586421, -0.044494143738927974, 0.128193777188173, 0.12820246627763576, 0.4259185823930762, 0.3418806415673028, -0.0984568629769403, 0.1615574229772462, 0.12809202893656282, 0.22303991600781828, -0.04528283277796799, -0.0785319465111565, -0.04449105682947662, -0.04449775043000857, -0.04450257949824689, -0.04450283417772363, 0.4259171807301195, 0.43261182640586765, 0.1274247014029917, 0.2641271267013946, 0.4354377941452457, 0.47669608481399506, -0.044518611494922915, 0.12813629381417374, 0.26412523705902097, 0.41831122835253925, 0.26412636635561926, 0.36426992352705534, 0.41489609349264855, 0.4259240265819119, 0.4174538670954746, 0.12814373387747247, 0.4579994665494222, -0.04580976713266689, 0.0801688203573672, 0.12820201572584836, 0.2641267048447076, 0.26402091267699873, -0.04450290798131411, 0.12820076174367415, 0.2230394624959268, 0.31119378631716377, 0.3375148171937509, 0.4873048666037889, 0.4258687048537147, -0.047625475257716966, 0.4766828914502914, 0.20854312636463132, -0.04449322482540145, -0.04933154079735193, 0.12811633996439087, 0.41778408696090163, 0.42583122752990515, -0.04448979137893719, 0.4993929025301736, 0.4354211899800294, 0.5097420922822794, 0.12818937573333994, 0.42592083784591867, 0.004463926053011061, 0.5103536592830629, 0.3523626058174896, 0.5097688705383976, 0.42588056843495864, 0.4044339189101386, 0.40215537126242445, 0.5626152205348421, 0.4257169481156882, 0.2625472866760401, 0.47368618243475535, 0.12820174293475298, -0.04448924340022608, 0.45804394348974076, 0.31583102054577505, 0.11998676546954647, 0.36677429869742145, 0.22238675987606477, 0.12820143445261314, 0.262540995546424, 0.43385947330559615, 0.5097617193820737, 0.22303991673986467, 0.42486942136225775, 0.4650208431702344, 0.4650234989725919, 0.15552731519313073, 0.4473655726656696, -0.04450472271841878, 0.4354150745953384, 0.4354351529435879, 0.21560532609216723, 0.22302849313201392, -0.03856615184304031, 0.22301291998675699, -0.05193256993187204, 0.26291660263124045, 0.46449329855869803, -0.04474873193719598, 0.223037136778792, -0.05531813690831428, 0.2124922745511988, -0.0444888130705725, -0.04451760920617447, 0.3644336025378373, 0.44531959125419646, 0.41832779322361047, 0.4255866076916049, 0.4354401523635178]}, {\"customdata\": [[\"Proof-of-BibleHash\"], [\"SHA-256 + Hive\"], [\"Proof-of-Authority\"], [\"ECC 256K1\"], [\"Leased POS\"]], \"hovertemplate\": \"<b>%{hovertext}</b><br><br>class=%{marker.color}<br>PC 1=%{x}<br>PC 2=%{y}<br>PC 3=%{z}<br>Algorithm=%{customdata[0]}<extra></extra>\", \"hovertext\": [\"BiblePay\", \"LitecoinCash\", \"Poa Network\", \"Acute Angle Cloud\", \"Waves\"], \"legendgroup\": \"3\", \"marker\": {\"color\": [3, 3, 3, 3, 3], \"coloraxis\": \"coloraxis\", \"symbol\": \"square\"}, \"mode\": \"markers\", \"name\": \"3\", \"scene\": \"scene\", \"showlegend\": true, \"type\": \"scatter3d\", \"x\": [-0.18096720758561366, -0.3930979936235239, -0.42078041271246075, -0.22878057544731878, -0.5209177979096636], \"y\": [3.1192674035393027, 3.7459996364484707, 2.9114031436303187, 3.0723991078598134, 4.066446742130996], \"z\": [15.556656329950954, 9.948115030690662, 17.251127562067854, 13.804626098184386, 12.435323050239788]}, {\"customdata\": [[\"TRC10\"]], \"hovertemplate\": \"<b>%{hovertext}</b><br><br>class=%{marker.color}<br>PC 1=%{x}<br>PC 2=%{y}<br>PC 3=%{z}<br>Algorithm=%{customdata[0]}<extra></extra>\", \"hovertext\": [\"BitTorrent\"], \"legendgroup\": \"2\", \"marker\": {\"color\": [2], \"coloraxis\": \"coloraxis\", \"symbol\": \"x\"}, \"mode\": \"markers\", \"name\": \"2\", \"scene\": \"scene\", \"showlegend\": true, \"type\": \"scatter3d\", \"x\": [34.02268136359312], \"y\": [1.5563538148080112], \"z\": [-0.4795920063588734]}],                        {\"coloraxis\": {\"colorbar\": {\"title\": {\"text\": \"class\"}}, \"colorscale\": [[0.0, \"#0d0887\"], [0.1111111111111111, \"#46039f\"], [0.2222222222222222, \"#7201a8\"], [0.3333333333333333, \"#9c179e\"], [0.4444444444444444, \"#bd3786\"], [0.5555555555555556, \"#d8576b\"], [0.6666666666666666, \"#ed7953\"], [0.7777777777777778, \"#fb9f3a\"], [0.8888888888888888, \"#fdca26\"], [1.0, \"#f0f921\"]]}, \"legend\": {\"title\": {\"text\": \"class\"}, \"tracegroupgap\": 0, \"x\": 0, \"y\": 1}, \"margin\": {\"t\": 60}, \"scene\": {\"domain\": {\"x\": [0.0, 1.0], \"y\": [0.0, 1.0]}, \"xaxis\": {\"title\": {\"text\": \"PC 1\"}}, \"yaxis\": {\"title\": {\"text\": \"PC 2\"}}, \"zaxis\": {\"title\": {\"text\": \"PC 3\"}}}, \"template\": {\"data\": {\"bar\": [{\"error_x\": {\"color\": \"#2a3f5f\"}, \"error_y\": {\"color\": \"#2a3f5f\"}, \"marker\": {\"line\": {\"color\": \"#E5ECF6\", \"width\": 0.5}}, \"type\": \"bar\"}], \"barpolar\": [{\"marker\": {\"line\": {\"color\": \"#E5ECF6\", \"width\": 0.5}}, \"type\": \"barpolar\"}], \"carpet\": [{\"aaxis\": {\"endlinecolor\": \"#2a3f5f\", \"gridcolor\": \"white\", \"linecolor\": \"white\", \"minorgridcolor\": \"white\", \"startlinecolor\": \"#2a3f5f\"}, \"baxis\": {\"endlinecolor\": \"#2a3f5f\", \"gridcolor\": \"white\", \"linecolor\": \"white\", \"minorgridcolor\": \"white\", \"startlinecolor\": \"#2a3f5f\"}, \"type\": \"carpet\"}], \"choropleth\": [{\"colorbar\": {\"outlinewidth\": 0, \"ticks\": \"\"}, \"type\": \"choropleth\"}], \"contour\": [{\"colorbar\": {\"outlinewidth\": 0, \"ticks\": \"\"}, \"colorscale\": [[0.0, \"#0d0887\"], [0.1111111111111111, \"#46039f\"], [0.2222222222222222, \"#7201a8\"], [0.3333333333333333, \"#9c179e\"], [0.4444444444444444, \"#bd3786\"], [0.5555555555555556, \"#d8576b\"], [0.6666666666666666, \"#ed7953\"], [0.7777777777777778, \"#fb9f3a\"], [0.8888888888888888, \"#fdca26\"], [1.0, \"#f0f921\"]], \"type\": \"contour\"}], \"contourcarpet\": [{\"colorbar\": {\"outlinewidth\": 0, \"ticks\": \"\"}, \"type\": \"contourcarpet\"}], \"heatmap\": [{\"colorbar\": {\"outlinewidth\": 0, \"ticks\": \"\"}, \"colorscale\": [[0.0, \"#0d0887\"], [0.1111111111111111, \"#46039f\"], [0.2222222222222222, \"#7201a8\"], [0.3333333333333333, \"#9c179e\"], [0.4444444444444444, \"#bd3786\"], [0.5555555555555556, \"#d8576b\"], [0.6666666666666666, \"#ed7953\"], [0.7777777777777778, \"#fb9f3a\"], [0.8888888888888888, \"#fdca26\"], [1.0, \"#f0f921\"]], \"type\": \"heatmap\"}], \"heatmapgl\": [{\"colorbar\": {\"outlinewidth\": 0, \"ticks\": \"\"}, \"colorscale\": [[0.0, \"#0d0887\"], [0.1111111111111111, \"#46039f\"], [0.2222222222222222, \"#7201a8\"], [0.3333333333333333, \"#9c179e\"], [0.4444444444444444, \"#bd3786\"], [0.5555555555555556, \"#d8576b\"], [0.6666666666666666, \"#ed7953\"], [0.7777777777777778, \"#fb9f3a\"], [0.8888888888888888, \"#fdca26\"], [1.0, \"#f0f921\"]], \"type\": \"heatmapgl\"}], \"histogram\": [{\"marker\": {\"colorbar\": {\"outlinewidth\": 0, \"ticks\": \"\"}}, \"type\": \"histogram\"}], \"histogram2d\": [{\"colorbar\": {\"outlinewidth\": 0, \"ticks\": \"\"}, \"colorscale\": [[0.0, \"#0d0887\"], [0.1111111111111111, \"#46039f\"], [0.2222222222222222, \"#7201a8\"], [0.3333333333333333, \"#9c179e\"], [0.4444444444444444, \"#bd3786\"], [0.5555555555555556, \"#d8576b\"], [0.6666666666666666, \"#ed7953\"], [0.7777777777777778, \"#fb9f3a\"], [0.8888888888888888, \"#fdca26\"], [1.0, \"#f0f921\"]], \"type\": \"histogram2d\"}], \"histogram2dcontour\": [{\"colorbar\": {\"outlinewidth\": 0, \"ticks\": \"\"}, \"colorscale\": [[0.0, \"#0d0887\"], [0.1111111111111111, \"#46039f\"], [0.2222222222222222, \"#7201a8\"], [0.3333333333333333, \"#9c179e\"], [0.4444444444444444, \"#bd3786\"], [0.5555555555555556, \"#d8576b\"], [0.6666666666666666, \"#ed7953\"], [0.7777777777777778, \"#fb9f3a\"], [0.8888888888888888, \"#fdca26\"], [1.0, \"#f0f921\"]], \"type\": \"histogram2dcontour\"}], \"mesh3d\": [{\"colorbar\": {\"outlinewidth\": 0, \"ticks\": \"\"}, \"type\": \"mesh3d\"}], \"parcoords\": [{\"line\": {\"colorbar\": {\"outlinewidth\": 0, \"ticks\": \"\"}}, \"type\": \"parcoords\"}], \"pie\": [{\"automargin\": true, \"type\": \"pie\"}], \"scatter\": [{\"marker\": {\"colorbar\": {\"outlinewidth\": 0, \"ticks\": \"\"}}, \"type\": \"scatter\"}], \"scatter3d\": [{\"line\": {\"colorbar\": {\"outlinewidth\": 0, \"ticks\": \"\"}}, \"marker\": {\"colorbar\": {\"outlinewidth\": 0, \"ticks\": \"\"}}, \"type\": \"scatter3d\"}], \"scattercarpet\": [{\"marker\": {\"colorbar\": {\"outlinewidth\": 0, \"ticks\": \"\"}}, \"type\": \"scattercarpet\"}], \"scattergeo\": [{\"marker\": {\"colorbar\": {\"outlinewidth\": 0, \"ticks\": \"\"}}, \"type\": \"scattergeo\"}], \"scattergl\": [{\"marker\": {\"colorbar\": {\"outlinewidth\": 0, \"ticks\": \"\"}}, \"type\": \"scattergl\"}], \"scattermapbox\": [{\"marker\": {\"colorbar\": {\"outlinewidth\": 0, \"ticks\": \"\"}}, \"type\": \"scattermapbox\"}], \"scatterpolar\": [{\"marker\": {\"colorbar\": {\"outlinewidth\": 0, \"ticks\": \"\"}}, \"type\": \"scatterpolar\"}], \"scatterpolargl\": [{\"marker\": {\"colorbar\": {\"outlinewidth\": 0, \"ticks\": \"\"}}, \"type\": \"scatterpolargl\"}], \"scatterternary\": [{\"marker\": {\"colorbar\": {\"outlinewidth\": 0, \"ticks\": \"\"}}, \"type\": \"scatterternary\"}], \"surface\": [{\"colorbar\": {\"outlinewidth\": 0, \"ticks\": \"\"}, \"colorscale\": [[0.0, \"#0d0887\"], [0.1111111111111111, \"#46039f\"], [0.2222222222222222, \"#7201a8\"], [0.3333333333333333, \"#9c179e\"], [0.4444444444444444, \"#bd3786\"], [0.5555555555555556, \"#d8576b\"], [0.6666666666666666, \"#ed7953\"], [0.7777777777777778, \"#fb9f3a\"], [0.8888888888888888, \"#fdca26\"], [1.0, \"#f0f921\"]], \"type\": \"surface\"}], \"table\": [{\"cells\": {\"fill\": {\"color\": \"#EBF0F8\"}, \"line\": {\"color\": \"white\"}}, \"header\": {\"fill\": {\"color\": \"#C8D4E3\"}, \"line\": {\"color\": \"white\"}}, \"type\": \"table\"}]}, \"layout\": {\"annotationdefaults\": {\"arrowcolor\": \"#2a3f5f\", \"arrowhead\": 0, \"arrowwidth\": 1}, \"autotypenumbers\": \"strict\", \"coloraxis\": {\"colorbar\": {\"outlinewidth\": 0, \"ticks\": \"\"}}, \"colorscale\": {\"diverging\": [[0, \"#8e0152\"], [0.1, \"#c51b7d\"], [0.2, \"#de77ae\"], [0.3, \"#f1b6da\"], [0.4, \"#fde0ef\"], [0.5, \"#f7f7f7\"], [0.6, \"#e6f5d0\"], [0.7, \"#b8e186\"], [0.8, \"#7fbc41\"], [0.9, \"#4d9221\"], [1, \"#276419\"]], \"sequential\": [[0.0, \"#0d0887\"], [0.1111111111111111, \"#46039f\"], [0.2222222222222222, \"#7201a8\"], [0.3333333333333333, \"#9c179e\"], [0.4444444444444444, \"#bd3786\"], [0.5555555555555556, \"#d8576b\"], [0.6666666666666666, \"#ed7953\"], [0.7777777777777778, \"#fb9f3a\"], [0.8888888888888888, \"#fdca26\"], [1.0, \"#f0f921\"]], \"sequentialminus\": [[0.0, \"#0d0887\"], [0.1111111111111111, \"#46039f\"], [0.2222222222222222, \"#7201a8\"], [0.3333333333333333, \"#9c179e\"], [0.4444444444444444, \"#bd3786\"], [0.5555555555555556, \"#d8576b\"], [0.6666666666666666, \"#ed7953\"], [0.7777777777777778, \"#fb9f3a\"], [0.8888888888888888, \"#fdca26\"], [1.0, \"#f0f921\"]]}, \"colorway\": [\"#636efa\", \"#EF553B\", \"#00cc96\", \"#ab63fa\", \"#FFA15A\", \"#19d3f3\", \"#FF6692\", \"#B6E880\", \"#FF97FF\", \"#FECB52\"], \"font\": {\"color\": \"#2a3f5f\"}, \"geo\": {\"bgcolor\": \"white\", \"lakecolor\": \"white\", \"landcolor\": \"#E5ECF6\", \"showlakes\": true, \"showland\": true, \"subunitcolor\": \"white\"}, \"hoverlabel\": {\"align\": \"left\"}, \"hovermode\": \"closest\", \"mapbox\": {\"style\": \"light\"}, \"paper_bgcolor\": \"white\", \"plot_bgcolor\": \"#E5ECF6\", \"polar\": {\"angularaxis\": {\"gridcolor\": \"white\", \"linecolor\": \"white\", \"ticks\": \"\"}, \"bgcolor\": \"#E5ECF6\", \"radialaxis\": {\"gridcolor\": \"white\", \"linecolor\": \"white\", \"ticks\": \"\"}}, \"scene\": {\"xaxis\": {\"backgroundcolor\": \"#E5ECF6\", \"gridcolor\": \"white\", \"gridwidth\": 2, \"linecolor\": \"white\", \"showbackground\": true, \"ticks\": \"\", \"zerolinecolor\": \"white\"}, \"yaxis\": {\"backgroundcolor\": \"#E5ECF6\", \"gridcolor\": \"white\", \"gridwidth\": 2, \"linecolor\": \"white\", \"showbackground\": true, \"ticks\": \"\", \"zerolinecolor\": \"white\"}, \"zaxis\": {\"backgroundcolor\": \"#E5ECF6\", \"gridcolor\": \"white\", \"gridwidth\": 2, \"linecolor\": \"white\", \"showbackground\": true, \"ticks\": \"\", \"zerolinecolor\": \"white\"}}, \"shapedefaults\": {\"line\": {\"color\": \"#2a3f5f\"}}, \"ternary\": {\"aaxis\": {\"gridcolor\": \"white\", \"linecolor\": \"white\", \"ticks\": \"\"}, \"baxis\": {\"gridcolor\": \"white\", \"linecolor\": \"white\", \"ticks\": \"\"}, \"bgcolor\": \"#E5ECF6\", \"caxis\": {\"gridcolor\": \"white\", \"linecolor\": \"white\", \"ticks\": \"\"}}, \"title\": {\"x\": 0.05}, \"xaxis\": {\"automargin\": true, \"gridcolor\": \"white\", \"linecolor\": \"white\", \"ticks\": \"\", \"title\": {\"standoff\": 15}, \"zerolinecolor\": \"white\", \"zerolinewidth\": 2}, \"yaxis\": {\"automargin\": true, \"gridcolor\": \"white\", \"linecolor\": \"white\", \"ticks\": \"\", \"title\": {\"standoff\": 15}, \"zerolinecolor\": \"white\", \"zerolinewidth\": 2}}}, \"width\": 800},                        {\"responsive\": true}                    ).then(function(){\n",
       "                            \n",
       "var gd = document.getElementById('763e972e-a3bd-433a-b6ab-f71a7ffb6da2');\n",
       "var x = new MutationObserver(function (mutations, observer) {{\n",
       "        var display = window.getComputedStyle(gd).display;\n",
       "        if (!display || display === 'none') {{\n",
       "            console.log([gd, 'removed!']);\n",
       "            Plotly.purge(gd);\n",
       "            observer.disconnect();\n",
       "        }}\n",
       "}});\n",
       "\n",
       "// Listen for the removal of the full notebook cells\n",
       "var notebookContainer = gd.closest('#notebook-container');\n",
       "if (notebookContainer) {{\n",
       "    x.observe(notebookContainer, {childList: true});\n",
       "}}\n",
       "\n",
       "// Listen for the clearing of the current output cell\n",
       "var outputEl = gd.closest('.output');\n",
       "if (outputEl) {{\n",
       "    x.observe(outputEl, {childList: true});\n",
       "}}\n",
       "\n",
       "                        })                };                });            </script>        </div>"
      ]
     },
     "metadata": {},
     "output_type": "display_data"
    }
   ],
   "source": [
    "# Creating a 3D-Scatter with the PCA data and the clusters\n",
    "\n",
    "fig = px.scatter_3d(\n",
    "    clustered_df,\n",
    "    x =\"PC 1\",\n",
    "    y =\"PC 2\",\n",
    "    z =\"PC 3\",\n",
    "    color =\"class\",\n",
    "    symbol =\"class\",\n",
    "    width =800,\n",
    "    hover_name = \"CoinName\",\n",
    "    hover_data = [\"Algorithm\"]\n",
    ")\n",
    "fig.update_layout(legend=dict(x=0, y=1))\n",
    "fig.show()"
   ]
  },
  {
   "cell_type": "code",
   "execution_count": 101,
   "metadata": {},
   "outputs": [
    {
     "data": {},
     "metadata": {},
     "output_type": "display_data"
    },
    {
     "data": {
      "application/vnd.holoviews_exec.v0+json": "",
      "text/html": [
       "<div id='1236'>\n",
       "\n",
       "\n",
       "\n",
       "\n",
       "\n",
       "  <div class=\"bk-root\" id=\"a9d1f536-3d8a-4fd3-8378-9a206faa709c\" data-root-id=\"1236\"></div>\n",
       "</div>\n",
       "<script type=\"application/javascript\">(function(root) {\n",
       "  function embed_document(root) {\n",
       "    var docs_json = {\"17090eb5-9d40-4088-b7ef-6cd30b8ec730\":{\"roots\":{\"references\":[{\"attributes\":{},\"id\":\"1246\",\"type\":\"StringEditor\"},{\"attributes\":{},\"id\":\"1276\",\"type\":\"StringEditor\"},{\"attributes\":{},\"id\":\"1239\",\"type\":\"Selection\"},{\"attributes\":{\"editor\":{\"id\":\"1251\"},\"field\":\"TotalCoinsMined\",\"formatter\":{\"id\":\"1250\"},\"title\":\"TotalCoinsMined\"},\"id\":\"1252\",\"type\":\"TableColumn\"},{\"attributes\":{\"editor\":{\"id\":\"1246\"},\"field\":\"ProofType\",\"formatter\":{\"id\":\"1245\"},\"title\":\"ProofType\"},\"id\":\"1247\",\"type\":\"TableColumn\"},{\"attributes\":{\"children\":[{\"id\":\"1237\"},{\"id\":\"1285\"},{\"id\":\"1291\"}],\"margin\":[0,0,0,0],\"name\":\"Row01935\",\"tags\":[\"embedded\"]},\"id\":\"1236\",\"type\":\"Row\"},{\"attributes\":{\"format\":\"0,0.0[00000]\"},\"id\":\"1250\",\"type\":\"NumberFormatter\"},{\"attributes\":{},\"id\":\"1288\",\"type\":\"UnionRenderers\"},{\"attributes\":{},\"id\":\"1255\",\"type\":\"StringFormatter\"},{\"attributes\":{\"editor\":{\"id\":\"1271\"},\"field\":\"PC_3\",\"formatter\":{\"id\":\"1270\"},\"title\":\"PC 3\"},\"id\":\"1272\",\"type\":\"TableColumn\"},{\"attributes\":{},\"id\":\"1256\",\"type\":\"StringEditor\"},{\"attributes\":{},\"id\":\"1251\",\"type\":\"NumberEditor\"},{\"attributes\":{},\"id\":\"1271\",\"type\":\"NumberEditor\"},{\"attributes\":{\"editor\":{\"id\":\"1266\"},\"field\":\"PC_2\",\"formatter\":{\"id\":\"1265\"},\"title\":\"PC 2\"},\"id\":\"1267\",\"type\":\"TableColumn\"},{\"attributes\":{},\"id\":\"1261\",\"type\":\"NumberEditor\"},{\"attributes\":{},\"id\":\"1275\",\"type\":\"StringFormatter\"},{\"attributes\":{\"editor\":{\"id\":\"1261\"},\"field\":\"PC_1\",\"formatter\":{\"id\":\"1260\"},\"title\":\"PC 1\"},\"id\":\"1262\",\"type\":\"TableColumn\"},{\"attributes\":{\"editor\":{\"id\":\"1256\"},\"field\":\"TotalCoinSupply\",\"formatter\":{\"id\":\"1255\"},\"title\":\"TotalCoinSupply\"},\"id\":\"1257\",\"type\":\"TableColumn\"},{\"attributes\":{},\"id\":\"1281\",\"type\":\"IntEditor\"},{\"attributes\":{\"format\":\"0,0.0[00000]\"},\"id\":\"1260\",\"type\":\"NumberFormatter\"},{\"attributes\":{\"editor\":{\"id\":\"1276\"},\"field\":\"CoinName\",\"formatter\":{\"id\":\"1275\"},\"title\":\"CoinName\"},\"id\":\"1277\",\"type\":\"TableColumn\"},{\"attributes\":{},\"id\":\"1280\",\"type\":\"NumberFormatter\"},{\"attributes\":{\"margin\":[5,5,5,5],\"name\":\"HSpacer01939\",\"sizing_mode\":\"stretch_width\"},\"id\":\"1237\",\"type\":\"Spacer\"},{\"attributes\":{\"format\":\"0,0.0[00000]\"},\"id\":\"1265\",\"type\":\"NumberFormatter\"},{\"attributes\":{\"margin\":[5,5,5,5],\"name\":\"HSpacer01940\",\"sizing_mode\":\"stretch_width\"},\"id\":\"1291\",\"type\":\"Spacer\"},{\"attributes\":{\"data\":{\"Algorithm\":[\"Scrypt\",\"Scrypt\",\"X13\",\"SHA-256\",\"Ethash\",\"Scrypt\",\"X11\",\"CryptoNight-V7\",\"Ethash\",\"Equihash\",\"SHA-512\",\"Multiple\",\"SHA-256\",\"SHA-256\",\"Scrypt\",\"X15\",\"X11\",\"Scrypt\",\"Scrypt\",\"Scrypt\",\"Multiple\",\"Scrypt\",\"SHA-256\",\"Scrypt\",\"Scrypt\",\"Scrypt\",\"Quark\",\"Groestl\",\"Scrypt\",\"Scrypt\",\"Scrypt\",\"Scrypt\",\"Scrypt\",\"X11\",\"Scrypt\",\"Groestl\",\"Multiple\",\"SHA-256\",\"Scrypt\",\"Scrypt\",\"Scrypt\",\"Scrypt\",\"PoS\",\"Scrypt\",\"Scrypt\",\"NeoScrypt\",\"Scrypt\",\"Scrypt\",\"Scrypt\",\"Scrypt\",\"X11\",\"Scrypt\",\"X11\",\"SHA-256\",\"Scrypt\",\"Scrypt\",\"Scrypt\",\"SHA3\",\"Scrypt\",\"HybridScryptHash256\",\"Scrypt\",\"Scrypt\",\"SHA-256\",\"Scrypt\",\"X13\",\"Scrypt\",\"SHA-256\",\"Scrypt\",\"X13\",\"NeoScrypt\",\"Scrypt\",\"Scrypt\",\"Scrypt\",\"Scrypt\",\"Scrypt\",\"Scrypt\",\"X11\",\"X11\",\"SHA-256\",\"Multiple\",\"SHA-256\",\"PHI1612\",\"X11\",\"SHA-256\",\"SHA-256\",\"SHA-256\",\"X11\",\"Scrypt\",\"Scrypt\",\"Scrypt\",\"Scrypt\",\"Lyra2REv2\",\"Scrypt\",\"X11\",\"Multiple\",\"SHA-256\",\"X13\",\"Scrypt\",\"CryptoNight\",\"CryptoNight\",\"Shabal256\",\"Counterparty\",\"Scrypt\",\"SHA-256\",\"Groestl\",\"Scrypt\",\"Scrypt\",\"Scrypt\",\"X13\",\"Scrypt\",\"Scrypt\",\"Scrypt\",\"Scrypt\",\"X13\",\"Scrypt\",\"Stanford Folding\",\"X11\",\"Multiple\",\"QuBit\",\"Scrypt\",\"Scrypt\",\"Scrypt\",\"M7 POW\",\"Scrypt\",\"SHA-256\",\"Scrypt\",\"X11\",\"SHA3\",\"X11\",\"Lyra2RE\",\"SHA-256\",\"QUAIT\",\"X11\",\"X11\",\"Scrypt\",\"Scrypt\",\"Scrypt\",\"Ethash\",\"X13\",\"Blake2b\",\"SHA-256\",\"X15\",\"X11\",\"SHA-256\",\"BLAKE256\",\"Scrypt\",\"1GB AES Pattern Search\",\"SHA-256\",\"X11\",\"Scrypt\",\"SHA-256\",\"SHA-256\",\"NIST5\",\"Scrypt\",\"Scrypt\",\"X11\",\"Dagger\",\"Scrypt\",\"X11GOST\",\"X11\",\"Scrypt\",\"SHA-256\",\"Scrypt\",\"PoS\",\"Scrypt\",\"X11\",\"X11\",\"SHA-256\",\"SHA-256\",\"NIST5\",\"X11\",\"Scrypt\",\"POS 3.0\",\"Scrypt\",\"Scrypt\",\"Scrypt\",\"X13\",\"X11\",\"X11\",\"Equihash\",\"X11\",\"Scrypt\",\"CryptoNight\",\"SHA-256\",\"SHA-256\",\"X11\",\"Scrypt\",\"Multiple\",\"Scrypt\",\"Scrypt\",\"Scrypt\",\"SHA-256\",\"Scrypt\",\"Scrypt\",\"SHA-256D\",\"PoS\",\"Scrypt\",\"X11\",\"Lyra2Z\",\"PoS\",\"X13\",\"X14\",\"PoS\",\"SHA-256D\",\"Ethash\",\"Equihash\",\"DPoS\",\"X11\",\"Scrypt\",\"X11\",\"X13\",\"X11\",\"PoS\",\"Scrypt\",\"Scrypt\",\"X11\",\"PoS\",\"X11\",\"SHA-256\",\"Scrypt\",\"X11\",\"Scrypt\",\"Scrypt\",\"X11\",\"CryptoNight\",\"Scrypt\",\"Scrypt\",\"Scrypt\",\"Scrypt\",\"Quark\",\"QuBit\",\"Scrypt\",\"CryptoNight\",\"Lyra2RE\",\"Scrypt\",\"SHA-256\",\"X11\",\"Scrypt\",\"X11\",\"Scrypt\",\"CryptoNight-V7\",\"Scrypt\",\"Scrypt\",\"Scrypt\",\"X13\",\"X11\",\"Equihash\",\"Scrypt\",\"Scrypt\",\"Lyra2RE\",\"Scrypt\",\"Dagger-Hashimoto\",\"X11\",\"Blake2S\",\"X11\",\"Scrypt\",\"PoS\",\"X11\",\"NIST5\",\"PoS\",\"X11\",\"Scrypt\",\"Scrypt\",\"Scrypt\",\"SHA-256\",\"X11\",\"Scrypt\",\"Scrypt\",\"SHA-256\",\"PoS\",\"Scrypt\",\"X15\",\"SHA-256\",\"Scrypt\",\"POS 3.0\",\"CryptoNight-V7\",\"536\",\"Argon2d\",\"Blake2b\",\"Cloverhash\",\"CryptoNight\",\"NIST5\",\"X11\",\"NIST5\",\"Skein\",\"Scrypt\",\"X13\",\"Scrypt\",\"X11\",\"X11\",\"Scrypt\",\"CryptoNight\",\"X13\",\"Time Travel\",\"Scrypt\",\"Keccak\",\"SkunkHash v2 Raptor\",\"X11\",\"Skein\",\"SHA-256\",\"X11\",\"Scrypt\",\"VeChainThor Authority\",\"Scrypt\",\"PoS\",\"Scrypt\",\"Scrypt\",\"Scrypt\",\"Scrypt\",\"Scrypt\",\"Scrypt\",\"Scrypt\",\"CryptoNight\",\"SHA-512\",\"Ouroboros\",\"X11\",\"Equihash\",\"NeoScrypt\",\"X11\",\"Scrypt\",\"NeoScrypt\",\"Lyra2REv2\",\"Equihash\",\"Scrypt\",\"SHA-256\",\"NIST5\",\"PHI1612\",\"Dagger\",\"Scrypt\",\"Quark\",\"Scrypt\",\"POS 2.0\",\"Scrypt\",\"SHA-256\",\"X11\",\"NeoScrypt\",\"Ethash\",\"NeoScrypt\",\"X11\",\"DPoS\",\"NIST5\",\"X13\",\"Multiple\",\"Scrypt\",\"CryptoNight\",\"CryptoNight\",\"Ethash\",\"NIST5\",\"Quark\",\"X11\",\"CryptoNight-V7\",\"Scrypt\",\"Scrypt\",\"Scrypt\",\"X11\",\"BLAKE256\",\"X11\",\"NeoScrypt\",\"Quark\",\"NeoScrypt\",\"Scrypt\",\"Scrypt\",\"Scrypt\",\"X11\",\"X11\",\"SHA-256\",\"C11\",\"POS 3.0\",\"Ethash\",\"Scrypt\",\"CryptoNight\",\"SkunkHash\",\"Scrypt\",\"CryptoNight\",\"Scrypt\",\"Dagger\",\"Lyra2REv2\",\"X13\",\"Proof-of-BibleHash\",\"SHA-256 + Hive\",\"Scrypt\",\"Scrypt\",\"X11\",\"C11\",\"Proof-of-Authority\",\"X11\",\"XEVAN\",\"Scrypt\",\"VBFT\",\"Ethash\",\"CryptoNight\",\"Scrypt\",\"IMesh\",\"NIST5\",\"Scrypt\",\"Scrypt\",\"Equihash\",\"Scrypt\",\"Lyra2Z\",\"Green Protocol\",\"PoS\",\"Scrypt\",\"Semux BFT consensus\",\"X11\",\"Quark\",\"PoS\",\"CryptoNight\",\"X16R\",\"Scrypt\",\"NIST5\",\"Lyra2RE\",\"XEVAN\",\"Tribus\",\"Scrypt\",\"Lyra2Z\",\"CryptoNight\",\"CryptoNight Heavy\",\"CryptoNight\",\"Scrypt\",\"Scrypt\",\"Jump Consistent Hash\",\"SHA-256D\",\"CryptoNight\",\"Scrypt\",\"X15\",\"Scrypt\",\"Quark\",\"SHA-256\",\"DPoS\",\"X16R\",\"HMQ1725\",\"X11\",\"X16R\",\"Quark\",\"Quark\",\"Scrypt\",\"Lyra2REv2\",\"Quark\",\"Scrypt\",\"Scrypt\",\"CryptoNight-V7\",\"Cryptonight-GPU\",\"XEVAN\",\"CryptoNight Heavy\",\"X11\",\"X11\",\"Scrypt\",\"PoS\",\"SHA-256\",\"Keccak\",\"X11\",\"X11\",\"Scrypt\",\"SHA-512\",\"X16R\",\"ECC 256K1\",\"Equihash\",\"XEVAN\",\"Lyra2Z\",\"SHA-256\",\"XEVAN\",\"X11\",\"CryptoNight\",\"Quark\",\"Blake\",\"Blake\",\"Equihash\",\"Exosis\",\"Scrypt\",\"Scrypt\",\"Equihash\",\"Quark\",\"Equihash\",\"Quark\",\"Scrypt\",\"QuBit\",\"X11\",\"Scrypt\",\"XEVAN\",\"SHA-256D\",\"X11\",\"SHA-256\",\"X13\",\"SHA-256\",\"X11\",\"DPoS\",\"Scrypt\",\"Scrypt\",\"X11\",\"NeoScrypt\",\"Scrypt\",\"Blake\",\"Scrypt\",\"SHA-256\",\"Scrypt\",\"X11\",\"Scrypt\",\"Scrypt\",\"SHA-256\",\"X11\",\"SHA-256\",\"Scrypt\",\"Scrypt\",\"Scrypt\",\"Groestl\",\"X11\",\"Scrypt\",\"PoS\",\"Scrypt\",\"Scrypt\",\"X11\",\"SHA-256\",\"DPoS\",\"Scrypt\",\"Scrypt\",\"NeoScrypt\",\"Multiple\",\"X13\",\"Equihash+Scrypt\",\"DPoS\",\"Ethash\",\"DPoS\",\"SHA-256\",\"Leased POS\",\"PoS\",\"TRC10\",\"PoS\",\"SHA-256\",\"Scrypt\",\"CryptoNight\",\"Equihash\",\"Scrypt\"],\"CoinName\":[\"42 Coin\",\"404Coin\",\"EliteCoin\",\"Bitcoin\",\"Ethereum\",\"Litecoin\",\"Dash\",\"Monero\",\"Ethereum Classic\",\"ZCash\",\"Bitshares\",\"DigiByte\",\"BitcoinDark\",\"PayCoin\",\"ProsperCoin\",\"KoboCoin\",\"Spreadcoin\",\"Argentum\",\"Aurora Coin\",\"BlueCoin\",\"MyriadCoin\",\"MoonCoin\",\"ZetaCoin\",\"SexCoin\",\"Quatloo\",\"EnergyCoin\",\"QuarkCoin\",\"Riecoin\",\"Digitalcoin \",\"BitBar\",\"Catcoin\",\"CryptoBullion\",\"CannaCoin\",\"CryptCoin\",\"CasinoCoin\",\"Diamond\",\"Verge\",\"DevCoin\",\"EarthCoin\",\"E-Gulden\",\"Einsteinium\",\"Emerald\",\"Exclusive Coin\",\"FlutterCoin\",\"Franko\",\"FeatherCoin\",\"GrandCoin\",\"GlobalCoin\",\"GoldCoin\",\"HoboNickels\",\"HyperStake\",\"Infinite Coin\",\"IOCoin\",\"IXcoin\",\"KrugerCoin\",\"LuckyCoin\",\"Litebar \",\"MaxCoin\",\"MegaCoin\",\"MediterraneanCoin\",\"MintCoin\",\"MinCoin\",\"MazaCoin\",\"Nautilus Coin\",\"NavCoin\",\"NobleCoin\",\"Namecoin\",\"NyanCoin\",\"OpalCoin\",\"Orbitcoin\",\"PotCoin\",\"PhoenixCoin\",\"Reddcoin\",\"RonPaulCoin\",\"StableCoin\",\"SmartCoin\",\"SuperCoin\",\"SyncCoin\",\"SysCoin\",\"TeslaCoin\",\"TigerCoin\",\"TittieCoin\",\"TorCoin\",\"TerraCoin\",\"UnbreakableCoin\",\"Unobtanium\",\"UroCoin\",\"UnitaryStatus Dollar\",\"UltraCoin\",\"ViaCoin\",\"VeriCoin\",\"Vertcoin\",\"WorldCoin\",\"X11 Coin\",\"Crypti\",\"JouleCoin\",\"StealthCoin\",\"ZCC Coin\",\"ByteCoin\",\"DigitalNote \",\"BurstCoin\",\"StorjCoin\",\"MonaCoin\",\"Neutron\",\"FairCoin\",\"Gulden\",\"RubyCoin\",\"PesetaCoin\",\"Kore\",\"Wild Beast Coin\",\"Dnotes\",\"Flo\",\"8BIT Coin\",\"Sativa Coin\",\"ArtByte\",\"Folding Coin\",\"Ucoin\",\"Unitus\",\"CypherPunkCoin\",\"OmniCron\",\"Vtorrent\",\"GreenCoin\",\"Cryptonite\",\"MasterCoin\",\"SoonCoin\",\"1Credit\",\"IslaCoin\",\"Nexus\",\"MarsCoin \",\"Crypto\",\"Anarchists Prime\",\"Droidz\",\"BowsCoin\",\"Squall Coin\",\"Song Coin\",\"BitZeny\",\"Diggits\",\"Expanse\",\"Paycon\",\"Siacoin\",\"Emercoin\",\"EverGreenCoin\",\"MindCoin\",\"I0coin\",\"Decred\",\"Revolution VR\",\"HOdlcoin\",\"EDRCoin\",\"Hitcoin\",\"Gamecredits\",\"DubaiCoin\",\"CarpeDiemCoin\",\"PWR Coin\",\"BillaryCoin\",\"GPU Coin\",\"Adzcoin\",\"SoilCoin\",\"YoCoin\",\"SibCoin\",\"EuropeCoin\",\"ZeitCoin\",\"SwingCoin\",\"SafeExchangeCoin\",\"Nebuchadnezzar\",\"Francs\",\"BolivarCoin\",\"Ratecoin\",\"Revenu\",\"Clockcoin\",\"VIP Tokens\",\"BitSend\",\"Omni\",\"Let it Ride\",\"PutinCoin\",\"iBankCoin\",\"Frankywillcoin\",\"MudraCoin\",\"PizzaCoin\",\"Lutetium Coin\",\"Komodo\",\"GoldBlocks\",\"CarterCoin\",\"Karbo\",\"BitTokens\",\"ZayedCoin\",\"MustangCoin\",\"ZoneCoin\",\"Circuits of Value\",\"RootCoin\",\"DopeCoin\",\"BitCurrency\",\"DollarCoin\",\"Swiscoin\",\"Shilling\",\"BuzzCoin\",\"Opair\",\"PesoBit\",\"Halloween Coin\",\"ZCoin\",\"CoffeeCoin\",\"RoyalCoin\",\"GanjaCoin V2\",\"TeamUP\",\"LanaCoin\",\"Elementrem\",\"ZClassic\",\"ARK\",\"InsaneCoin\",\"KiloCoin\",\"ArtexCoin\",\"EmberCoin\",\"XenixCoin\",\"FreeCoin\",\"PLNCoin\",\"AquariusCoin\",\"Kurrent\",\"Creatio\",\"Eternity\",\"Eurocoin\",\"BitcoinFast\",\"Stakenet\",\"BitConnect Coin\",\"MoneyCoin\",\"Enigma\",\"Cannabis Industry Coin\",\"Russiacoin\",\"PandaCoin\",\"GameUnits\",\"GAKHcoin\",\"Allsafe\",\"LiteCreed\",\"OsmiumCoin\",\"Bikercoins\",\"HexxCoin\",\"Klingon Empire Darsek\",\"Internet of People\",\"KushCoin\",\"Printerium\",\"PacCoin\",\"Impeach\",\"Citadel\",\"Zilbercoin\",\"FirstCoin\",\"BeaverCoin\",\"FindCoin\",\"VaultCoin\",\"Zero\",\"OpenChat\",\"Canada eCoin\",\"Zoin\",\"RenosCoin\",\"DubaiCoin\",\"VirtacoinPlus\",\"TajCoin\",\"Impact\",\"EB3coin\",\"Atmos\",\"HappyCoin\",\"Coinonat\",\"MacronCoin\",\"Condensate\",\"Independent Money System\",\"ArgusCoin\",\"LomoCoin\",\"ProCurrency\",\"GoldReserve\",\"BenjiRolls\",\"GrowthCoin\",\"ILCoin\",\"Phreak\",\"Degas Coin\",\"HTML5 Coin\",\"Ultimate Secure Cash\",\"EquiTrader\",\"QTUM\",\"Quantum Resistant Ledger\",\"Espers\",\"Dynamic\",\"Nano\",\"ChanCoin\",\"Dinastycoin\",\"Denarius\",\"DigitalPrice\",\"Virta Unique Coin\",\"Bitcoin Planet\",\"Unify\",\"BritCoin\",\"SocialCoin\",\"ArcticCoin\",\"DAS\",\"Linda\",\"LeviarCoin\",\"DeepOnion\",\"Bitcore\",\"gCn Coin\",\"SmartCash\",\"Signatum\",\"Onix\",\"Cream\",\"Bitcoin Cash\",\"Monoeci\",\"Draftcoin\",\"Vechain\",\"Sojourn Coin\",\"Stakecoin\",\"NewYorkCoin\",\"FrazCoin\",\"Kronecoin\",\"AdCoin\",\"Linx\",\"CoinonatX\",\"Ethereum Dark\",\"Sumokoin\",\"Obsidian\",\"Cardano\",\"Regalcoin\",\"BitcoinZ\",\"TrezarCoin\",\"Elements\",\"TerraNovaCoin\",\"VIVO Coin\",\"Rupee\",\"Bitcoin Gold\",\"WomenCoin\",\"Theresa May Coin\",\"NamoCoin\",\"LUXCoin\",\"Pirl\",\"Xios\",\"Bitcloud 2.0\",\"eBoost\",\"KekCoin\",\"BlackholeCoin\",\"Infinity Economics\",\"Pura\",\"Innova\",\"Ellaism\",\"GoByte\",\"Magnet\",\"Lamden Tau\",\"Electra\",\"Bitcoin Diamond\",\"SHIELD\",\"Cash & Back Coin\",\"UltraNote\",\"BitCoal\",\"DaxxCoin\",\"Bulwark\",\"Kalkulus\",\"AC3\",\"Lethean\",\"GermanCoin\",\"LiteCoin Ultra\",\"PopularCoin\",\"PhantomX\",\"Photon\",\"Sucre\",\"SparksPay\",\"Digiwage\",\"GunCoin\",\"IrishCoin\",\"Trollcoin\",\"Litecoin Plus\",\"Monkey Project\",\"Pioneer Coin\",\"UnitedBitcoin\",\"Interzone\",\"TokenPay\",\"1717 Masonic Commemorative Token\",\"My Big Coin\",\"TurtleCoin\",\"MUNcoin\",\"Unified Society USDEX\",\"Niobio Cash\",\"ShareChain\",\"Travelflex\",\"KREDS\",\"Tokyo Coin\",\"BiblePay\",\"LitecoinCash\",\"BitFlip\",\"LottoCoin\",\"Crypto Improvement Fund\",\"Stipend\",\"Poa Network\",\"Pushi\",\"Ellerium\",\"Velox\",\"Ontology\",\"Callisto Network\",\"BitTube\",\"Poseidon\",\"Aidos Kuneen\",\"Bitspace\",\"Briacoin\",\"Ignition\",\"Bitrolium\",\"MedicCoin\",\"Alpenschillling\",\"Bitcoin Green\",\"Deviant Coin\",\"Abjcoin\",\"Semux\",\"FuturoCoin\",\"Carebit\",\"Zealium\",\"Monero Classic\",\"Proton\",\"iDealCash\",\"Jumpcoin\",\"Infinex\",\"Bitcoin Incognito\",\"KEYCO\",\"HollyWoodCoin\",\"GINcoin\",\"PlatinCoin\",\"Loki\",\"Newton Coin\",\"Swisscoin\",\"Xt3ch\",\"MassGrid\",\"TheVig\",\"PluraCoin\",\"EmaratCoin\",\"Dekado\",\"Lynx\",\"Poseidon Quark\",\"BitcoinWSpectrum\",\"Muse\",\"Motion\",\"PlusOneCoin\",\"Axe\",\"Trivechain\",\"Dystem\",\"Giant\",\"Peony Coin\",\"Absolute Coin\",\"Vitae\",\"HexCoin\",\"TPCash\",\"Webchain\",\"Ryo\",\"Urals Coin\",\"Qwertycoin\",\"ARENON\",\"EUNO\",\"MMOCoin\",\"Ketan\",\"Project Pai\",\"XDNA\",\"PAXEX\",\"Azart\",\"ThunderStake\",\"Kcash\",\"Xchange\",\"Acute Angle Cloud\",\"CrypticCoin\",\"Bettex coin\",\"Actinium\",\"Bitcoin SV\",\"BitMoney\",\"Junson Ming Chan Coin\",\"FREDEnergy\",\"HerbCoin\",\"Universal Molecule\",\"Lithium\",\"PirateCash\",\"Exosis\",\"Block-Logic\",\"Oduwa\",\"Beam\",\"Galilel\",\"Bithereum\",\"Crypto Sports\",\"Credit\",\"SLICE\",\"Dash Platinum\",\"Nasdacoin\",\"Beetle Coin\",\"Titan Coin\",\"Award\",\"BLAST\",\"Bitcoin Rhodium\",\"GlobalToken\",\"Insane Coin\",\"ALAX\",\"LiteDoge\",\"SolarCoin\",\"TruckCoin\",\"UFO Coin\",\"OrangeCoin\",\"BlakeCoin\",\"BitstarCoin\",\"NeosCoin\",\"HyperCoin\",\"PinkCoin\",\"Crypto Escudo\",\"AudioCoin\",\"IncaKoin\",\"Piggy Coin\",\"Crown Coin\",\"Genstake\",\"SmileyCoin\",\"XiaoMiCoin\",\"Groestlcoin\",\"CapriCoin\",\" ClubCoin\",\"Radium\",\"Bata\",\"Pakcoin\",\"Creditbit \",\"OKCash\",\"Lisk\",\"HiCoin\",\"WhiteCoin\",\"FriendshipCoin\",\"JoinCoin\",\"Triangles Coin\",\"Vollar\",\"EOS\",\"Reality Clash\",\"Oxycoin\",\"TigerCash\",\"Waves\",\"Particl\",\"BitTorrent\",\"Nxt\",\"ZEPHYR\",\"Gapcoin\",\"Beldex\",\"Horizen\",\"BitcoinPlus\"],\"PC_1\":{\"__ndarray__\":\"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\",\"dtype\":\"float64\",\"order\":\"little\",\"shape\":[532]},\"PC_2\":{\"__ndarray__\":\"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\",\"dtype\":\"float64\",\"order\":\"little\",\"shape\":[532]},\"PC_3\":{\"__ndarray__\":\"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\",\"dtype\":\"float64\",\"order\":\"little\",\"shape\":[532]},\"ProofType\":[\"PoW/PoS\",\"PoW/PoS\",\"PoW/PoS\",\"PoW\",\"PoW\",\"PoW\",\"PoW/PoS\",\"PoW\",\"PoW\",\"PoW\",\"PoS\",\"PoW\",\"PoW/PoS\",\"PoS\",\"PoW\",\"PoW/PoS\",\"PoW\",\"PoW\",\"PoW/PoS\",\"PoW/PoS\",\"PoW\",\"PoW\",\"PoW\",\"PoW\",\"PoW\",\"PoW/PoS\",\"PoW\",\"PoW\",\"PoW\",\"PoW/PoS\",\"PoW\",\"PoW/PoS\",\"PoW\",\"PoW\",\"PoC\",\"PoW/PoS\",\"PoW\",\"PoW\",\"PoW\",\"PoW\",\"PoW\",\"PoW\",\"PoS\",\"PoS/PoW/PoT\",\"PoW\",\"PoW\",\"PoW\",\"PoW\",\"PoW\",\"PoW/PoS\",\"PoS\",\"PoW\",\"PoW/PoS\",\"PoW\",\"PoW\",\"PoW\",\"PoW\",\"PoW/PoS\",\"PoW\",\"PoW\",\"PoS\",\"PoW\",\"PoW/PoS\",\"PoS\",\"PoW/PoS\",\"PoW\",\"PoW\",\"PoW\",\"PoW/PoS\",\"PoW/PoS\",\"PoW/PoS\",\"PoW/PoS\",\"PoW/PoS\",\"PoW\",\"PoW\",\"PoW\",\"PoS\",\"PoW/PoS\",\"PoW\",\"PoS\",\"PoW\",\"PoS\",\"PoW/PoS\",\"PoW\",\"PoW\",\"PoW\",\"PoW\",\"PoW/PoS\",\"PoW/PoS\",\"PoW\",\"PoST\",\"PoW\",\"PoW\",\"PoW/PoS\",\"PoS\",\"PoW\",\"PoW/PoS\",\"PoW/PoS\",\"PoW\",\"PoW\",\"PoC\",\"PoS\",\"PoW\",\"PoW/PoS\",\"PoW/PoS\",\"PoW\",\"PoS\",\"PoW\",\"PoW/PoS\",\"PoW\",\"PoS\",\"PoW\",\"PoW/PoS\",\"PoW/PoS\",\"PoW\",\"PoW\",\"PoS\",\"PoW\",\"PoW\",\"PoW\",\"PoW/PoS\",\"PoW\",\"PoW\",\"PoW\",\"PoW\",\"PoW\",\"PoW/PoS\",\"PoW/nPoS\",\"PoW\",\"PoW\",\"PoW\",\"PoW/PoS\",\"PoW\",\"PoS/PoW\",\"PoW\",\"PoW\",\"PoS\",\"PoW\",\"PoW/PoS\",\"PoW\",\"PoW/PoS\",\"PoW/PoS\",\"PoW\",\"PoW\",\"PoW/PoS\",\"PoW\",\"PoW\",\"PoW/PoS\",\"PoW/PoS\",\"PoW\",\"PoW/PoS\",\"PoW\",\"PoW/PoS\",\"PoW/PoS\",\"PoS\",\"PoW\",\"PoW\",\"PoW\",\"PoW\",\"PoW/PoS\",\"PoS\",\"PoW/PoS\",\"PoC\",\"PoS\",\"PoW\",\"PoW\",\"PoW/PoS\",\"PoW/PoS\",\"PoW/PoS\",\"PoW/PoS\",\"PoW/PoS\",\"PoW\",\"PoS\",\"PoW/PoS\",\"PoW/PoS\",\"PoW/PoS\",\"PoS\",\"PoW\",\"PoS\",\"dPoW/PoW\",\"PoW/PoS\",\"PoW/PoS\",\"PoW\",\"PoW/PoS\",\"PoW\",\"PoW/PoS\",\"PoW/PoS\",\"PoW\",\"PoW/PoS\",\"PoW\",\"PoS\",\"PoW\",\"PoW/PoW\",\"PoW\",\"PoW/PoS\",\"PoS\",\"PoW/PoS\",\"PoW/PoS\",\"PoW\",\"PoS\",\"PoS\",\"PoW/PoS\",\"PoS\",\"PoW/PoS\",\"PoW\",\"PoW\",\"DPoS\",\"PoW/PoS\",\"PoW\",\"PoW\",\"PoW/PoS\",\"PoW/PoS\",\"PoS\",\"PoW/PoS\",\"PoW/PoS\",\"PoW\",\"PoS\",\"PoW/PoS\",\"PoW/PoS\",\"PoW/PoS\",\"TPoS\",\"PoW/PoS\",\"PoW/PoS\",\"PoW/PoS\",\"PoW\",\"PoW/PoS\",\"PoS\",\"PoW/PoS\",\"PoW/PoS\",\"PoS\",\"PoW/PoS\",\"PoW\",\"PoW\",\"PoW\",\"PoW/PoS\",\"PoW/PoS\",\"PoW/PoS\",\"PoW/PoS\",\"PoW\",\"PoW/PoS\",\"PoW\",\"PoS\",\"PoW/PoS \",\"PoW\",\"PoS\",\"PoW\",\"PoW\",\"PoW/PoS\",\"PoW\",\"PoW\",\"PoS\",\"PoW\",\"PoW/PoS\",\"PoW/PoS\",\"PoW/PoS\",\"PoW\",\"PoS\",\"PoW/PoS\",\"PoW\",\"PoS\",\"PoW/PoS\",\"PoW/PoS\",\"PoW/PoS\",\"PoW/PoS\",\"PoS\",\"PoW/PoS\",\"PoW\",\"PoS\",\"PoW\",\"PoS\",\"PoW/PoS\",\"PoW/PoS\",\"PoS\",\"PoW\",\"PoS\",\"PoW\",\"PoW/PoS\",\"PoW\",\"PoW\",\"PoW\",\"PoW\",\"PoW/PoS\",\"PoW\",\"PoW/PoS\",\"PoW/PoS\",\"PoW\",\"PoW/PoS\",\"PoW\",\"PoW\",\"PoW\",\"PoW/PoS\",\"PoW\",\"PoW/PoS\",\"PoW\",\"PoW\",\"PoW\",\"PoS\",\"PoW\",\"PoW/PoS\",\"PoW\",\"PoW/PoS\",\"PoS\",\"Proof of Authority\",\"PoW\",\"PoS\",\"PoW\",\"PoW\",\"PoW\",\"PoW\",\"PoW\",\"PoW/PoS\",\"PoW/PoS\",\"PoW\",\"PoS\",\"PoS\",\"PoW/PoS\",\"PoW\",\"PoW/PoS\",\"PoW\",\"PoW/PoS\",\"PoW\",\"PoS\",\"PoW\",\"PoW/PoS\",\"PoW/PoS\",\"PoW/PoS\",\"PoW/PoS\",\"PoW\",\"PoW/PoS\",\"PoW/PoS\",\"PoW\",\"PoS\",\"PoW/PoS\",\"PoS\",\"PoW\",\"PoW\",\"PoW\",\"PoW\",\"PoW/PoS\",\"DPoS\",\"PoW/PoS\",\"PoW/PoS\",\"PoW\",\"PoW/PoS\",\"PoW\",\"PoW\",\"PoW\",\"PoS\",\"PoS\",\"PoW\",\"PoW\",\"PoW/PoS\",\"PoW/PoS\",\"PoW\",\"PoW/PoS\",\"PoW\",\"PoW\",\"PoW\",\"PoS\",\"PoW\",\"PoW\",\"PoW/PoS\",\"PoW/PoS\",\"PoS\",\"PoW\",\"PoW\",\"PoW\",\"PoS\",\"PoS\",\"PoW and PoS\",\"PoW\",\"PoW\",\"PoW/PoS\",\"PoW\",\"PoW\",\"PoW\",\"PoW\",\"PoS\",\"POBh\",\"PoW + Hive\",\"PoW\",\"PoW\",\"PoW\",\"PoW/PoS\",\"PoA\",\"PoW/PoS\",\"PoW/PoS\",\"PoS\",\"PoS\",\"PoW\",\"PoW\",\"PoW\",\"PoW\",\"PoW/PoS\",\"PoW/PoS\",\"PoW/PoS\",\"PoW\",\"PoS\",\"PoW\",\"PoS\",\"PoS\",\"PoW/PoS\",\"DPoS\",\"PoW\",\"PoW/PoS\",\"PoS\",\"PoW\",\"PoS\",\"PoW/PoS\",\"PoW\",\"PoW\",\"PoS/PoW\",\"PoW\",\"PoS\",\"PoW\",\"PoW\",\"PoW\",\"PoW\",\"PoW/PoS\",\"PoS\",\"PoW\",\"PoW/PoS\",\"PoW\",\"PoW/PoS\",\"PoS\",\"HPoW\",\"PoS\",\"PoS\",\"PoS\",\"PoW\",\"PoW\",\"PoW\",\"PoW/PoS\",\"PoS\",\"PoW/PoS\",\"PoS\",\"PoW/PoS\",\"PoS\",\"PoW\",\"PoW/PoS\",\"PoW\",\"PoW\",\"PoW\",\"PoW\",\"PoS\",\"PoW/PoS\",\"PoS\",\"PoS\",\"PoW\",\"PoW/PoS\",\"PoS\",\"PoW\",\"PoW/PoS\",\"Zero-Knowledge Proof\",\"PoW\",\"DPOS\",\"PoW\",\"PoS\",\"PoW\",\"PoW\",\"Pos\",\"PoS\",\"PoW\",\"PoW/PoS\",\"PoW\",\"PoW\",\"PoS\",\"PoW\",\"PoW\",\"PoW/PoS\",\"PoW\",\"PoW/PoS\",\"PoW\",\"PoS\",\"PoW/PoS\",\"PoW\",\"PoS\",\"PoW/PoS\",\"PoW/PoS\",\"PoW/PoS\",\"PoW/PoS\",\"PoW\",\"PoW\",\"PoW\",\"PoW/PoS\",\"DPoS\",\"PoW/PoS\",\"PoW\",\"PoW/PoS\",\"PoW\",\"PoW/PoS\",\"PoW\",\"PoW/PoS\",\"PoS\",\"PoW/PoS\",\"PoW/PoS\",\"PoW\",\"PoW/PoS\",\"PoW/PoS\",\"PoW/PoS\",\"PoW\",\"PoW/PoS\",\"PoW\",\"PoW/PoS\",\"PoW\",\"PoW/PoS\",\"PoW/PoS\",\"PoS\",\"PoW\",\"PoW\",\"Proof of Trust\",\"PoW/PoS\",\"DPoS\",\"PoS\",\"PoW/PoS\",\"PoW/PoS\",\"PoW\",\"PoW/PoS\",\"PoW\",\"DPoS\",\"PoW\",\"DPoS\",\"PoS\",\"LPoS\",\"PoS\",\"DPoS\",\"PoS/LPoS\",\"DPoS\",\"PoW/PoS\",\"PoW\",\"PoW\",\"PoS\"],\"TotalCoinSupply\":[\"42\",\"532000000\",\"314159265359\",\"21000000\",\"0\",\"84000000\",\"22000000\",\"0\",\"210000000\",\"21000000\",\"3600570502\",\"21000000000\",\"22000000\",\"12500000\",\"21000000\",\"350000000\",\"20000000\",\"64000000\",\"16768584\",\"0\",\"2000000000\",\"384000000000\",\"169795588\",\"250000000\",\"100000000\",\"0\",\"247000000\",\"84000000\",\"48166000\",\"500000\",\"21000000 \",\"1000000\",\"13140000\",\"18000000\",\"40000000000\",\"4380000\",\"16555000000\",\"21000000000\",\"13500000000\",\"21000000 \",\"299792458\",\"32000000\",\"0\",\"0\",\"11235813\",\"336000000\",\"1420609614\",\"70000000\",\"72245700\",\"120000000\",\"0\",\"90600000000\",\"22000000\",\"21000000\",\"265420800\",\"20000000\",\"1350000\",\"100000000\",\"42000000\",\"200000000\",\"0\",\"10000000\",\"2419200000\",\"16180000\",\"0\",\"15000000000\",\"21000000\",\"337000000\",\"0\",\"3770000\",\"420000000\",\"98000000\",\"0\",\"21000000\",\"250000000\",\"51200000\",\"0\",\"1000\",\"888000000\",\"100000000\",\"47011968\",\"2300000000\",\"10000000\",\"42000000\",\"80000000\",\"250000\",\"0\",\"1600000000\",\"100000000\",\"23000000\",\"0\",\"84000000\",\"265420800\",\"5500000\",\"0\",\"45000000\",\"0\",\"1000000000\",\"184467440735\",\"10000000000\",\"2158812800\",\"500000000\",\"105120000\",\"68000000\",\"0\",\"1680000000\",\"0\",\"166386000\",\"12000000\",\"2628000\",\"500000000\",\"160000000\",\"0\",\"10000000\",\"1000000000\",\"1000000000\",\"20000000\",\"0\",\"0\",\"3371337\",\"20000000\",\"10000000000\",\"1840000000\",\"619478\",\"21000000\",\"92000000000\",\"0\",\"78000000\",\"33000000\",\"65789100\",\"53760000\",\"5060000\",\"21000000\",\"0\",\"210240000\",\"250000000\",\"100000000\",\"16906397\",\"50000000\",\"0\",\"1000000000\",\"26298000\",\"16000000\",\"21000000\",\"21000000\",\"210000000\",\"81962100\",\"22000000\",\"26550000000\",\"84000000\",\"10500000\",\"21626280000 \",\"0\",\"42000000\",\"221052632\",\"84000000\",\"30000000\",\"168351300\",\"24000000\",\"384000000\",\" 99000000000\",\"40000000\",\"2147483647\",\"20000000\",\"20000000\",\"25000000\",\"75000000\",\"222725000\",\"525000000\",\"90000000\",\"139000000\",\"616448\",\"33500000\",\"2000000000\",\"44333333\",\"100000000\",\"200000000\",\"25000000\",\"657000000\",\"200000000\",\"50000000\",\"90000000\",\"10000000\",\"21000000\",\"9736000\",\"3000000\",\"21000000\",\"1200000000\",\"0\",\"200000000\",\"0\",\"10638298\",\"3100000000\",\"30000000\",\"20000000000\",\"74000000\",\"0\",\"1500000000\",\"21400000\",\"39999898\",\"2500124\",\"100000000\",\"301000000\",\"7506000000\",\"26205539\",\"21000000\",\"125000000\",\"30000000\",\"10000000000\",\"500000000\",\"850000000\",\"3853326.77707314\",\"50000000\",\"38540000 \",\"42000000\",\"228000000\",\"20000000\",\"60000000\",\"20000000\",\"33000000\",\"76500000\",\"28000000\",\"650659833\",\"5000000\",\"21000000\",\"144000000\",\"32514916898\",\"13000000\",\"3315789\",\"15000000\",\"78835200\",\"2714286\",\"25000000\",\"9999999\",\"500000000\",\"21000000\",\"9354000\",\"20000000\",\"100000000000\",\"21933333\",\"185000000\",\"55000000\",\"110000000\",\"3360000\",\"14524851.4827\",\"1000000000\",\"17000000\",\"1000000000\",\"100000000 \",\"21000000\",\"34426423\",\"2232901\",\"100000000\",\"36900000\",\"110000000\",\"4000000000\",\"110290030\",\"100000000\",\"48252000\",\"400000000\",\"500000000\",\"21212121\",\"28600000\",\"1000000000\",\"75000000000\",\"40000000\",\"35520400\",\"2000000000\",\"2500000000\",\"30000000\",\"105000000\",\"90000000000\",\"200084200\",\"72000000\",\"100000000\",\"105000000\",\"50000000000\",\"0\",\"340282367\",\"30000000\",\"2000000000\",\"10000000\",\"100000000\",\"120000000\",\"100000000\",\"19276800\",\"30000000\",\" 75000000\",\"60000000\",\"18900000\",\"50000000000\",\"54000000\",\"18898187.6216583\",\"21000000\",\"200000000000\",\"5000000000\",\"137500000\",\"1100000000\",\"100000000\",\"21000000\",\"9507271\",\"17405891.19707116\",\"86712634466\",\"10500000000\",\"61599965\",\"0\",\"20000000\",\"84000000\",\"100000000\",\"100000000\",\"48252000\",\"4200000\",\"88888888\",\"91388946\",\"45000000000\",\"27000000\",\"21000000000\",\"400000000\",\"1800000000\",\"15733333\",\"27000000\",\"24000000\",\"21000000\",\"25000000000\",\"100000000\",\"1200000000\",\"60000000\",\"156306732.71\",\"21000000\",\"200000000\",\"100000000\",\"21000000\",\"14788275.991\",\"9000000000\",\"350000000\",\"45000000\",\"280000000\",\"31800000\",\"144000000\",\"500000000\",\"30000000000\",\"210000000\",\"660000000\",\"210000000\",\"85000000000\",\"12500000\",\"10000000000\",\"27716121\",\"20000000\",\"550000000\",\"999481516\",\"50000000000\",\"150000000\",\"4999999999\",\"50000000\",\" 90000000000\",\"19800000\",\"21000000\",\"120000000\",\"500000000\",\"64000000\",\"900000000\",\"4000000\",\"21000000\",\"23000000\",\"20166000\",\"23000000\",\"25000000\",\"1618033\",\"30000000\",\"1000000000000\",\"16600000\",\"232000000\",\"336000000\",\"10000000000\",\"100000000\",\"1100000000\",\"800000000\",\"5200000000\",\"840000000\",\"40000000\",\"18406979840\",\"500000000\",\"19340594\",\"252460800\",\"25000000\",\"60000000\",\"124000000\",\"1000000000\",\"6500000000\",\"1000000000\",\"21000000\",\"25000000\",\"50000000\",\"3000000\",\"5000000\",\"70000000\",\"500000000\",\"300000000\",\"21000000\",\"88000000\",\"30000000\",\"100000000\",\"100000000\",\"200000000\",\"80000000\",\"18400000\",\"45000000\",\"5121951220\",\"21000000\",\"26280000\",\"21000000\",\"18000000\",\"26000000\",\"10500000\",\"600000518\",\"150000000\",\"184000000000\",\"10200000000\",\"44000000\",\"168000000\",\"100000000\",\"1000000000\",\"84000000\",\"90000000\",\"92000000000\",\"650000000 \",\"100262205\",\"18081806 \",\"22075700\",\"21000000\",\"21000000\",\"82546564\",\"21000000\",\"5151000\",\"16880000000\",\"52500000\",\"100000000\",\"22105263\",\"1000000000\",\"1750000000\",\"88188888\",\"210000000\",\"184470000000\",\"55000000\",\"50000000\",\"260000000\",\"210000000\",\"2100000000\",\"366000000\",\"100000000\",\"25000000\",\"18000000000\",\"1000000000\",\"100000000\",\"1000000000\",\"7600000000\",\"50000000\",\"84000000\",\"21000000\",\"70000000000\",\"0\",\"8080000000\",\"54000000\",\"105120001.44\",\"25228800\",\"105000000\",\"21000000\",\"120000000\",\"21000000\",\"262800000\",\"19035999\",\"30886000\",\"13370000\",\"74800000000\",\"100000000\",\"19700000\",\"84000000\",\"500000000\",\"5000000000\",\"420000000\",\"64000000\",\"2100000\",\"168000000\",\"30000000\",\"1000000000\",\"35000000000\",\"98100000000\",\"0\",\"4000000000\",\"200000000\",\"7000000000\",\"54256119\",\"21000000\",\"0\",\"500000000\",\"1000000000\",\"10500000000\",\"190000000\",\"1000000000\",\"42000000\",\"15000000\",\"50000000000\",\"400000000\",\"105000000\",\"208000000\",\"160000000\",\"9000000\",\"5000000\",\"182000000\",\"16504333\",\"105000000\",\"159918400\",\"10008835635\",\"300000000\",\"60168145\",\"2800000\",\"120000\",\"2100000000\",\"0\",\"24487944\",\"0\",\"1000000000\",\"100000000\",\"8634140\",\"990000000000\",\"1000000000\",\"2000000000\",\"250000000\",\"1400222610\",\"21000000\",\"1000000\"],\"TotalCoinsMined\":{\"__ndarray__\":\"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\",\"dtype\":\"float64\",\"order\":\"little\",\"shape\":[532]},\"class\":{\"__ndarray__\":\"AAAAAAAAAAAAAAAAAQAAAAEAAAABAAAAAAAAAAEAAAABAAAAAQAAAAAAAAABAAAAAAAAAAAAAAABAAAAAAAAAAEAAAABAAAAAAAAAAAAAAABAAAAAQAAAAEAAAABAAAAAQAAAAAAAAABAAAAAQAAAAEAAAAAAAAAAQAAAAAAAAABAAAAAQAAAAAAAAAAAAAAAQAAAAEAAAABAAAAAQAAAAEAAAABAAAAAAAAAAAAAAABAAAAAQAAAAEAAAABAAAAAQAAAAAAAAAAAAAAAQAAAAAAAAABAAAAAQAAAAEAAAABAAAAAAAAAAEAAAABAAAAAAAAAAEAAAAAAAAAAAAAAAAAAAABAAAAAQAAAAEAAAAAAAAAAAAAAAAAAAAAAAAAAAAAAAEAAAABAAAAAQAAAAAAAAAAAAAAAQAAAAAAAAABAAAAAAAAAAAAAAABAAAAAQAAAAEAAAABAAAAAAAAAAAAAAABAAAAAAAAAAEAAAABAAAAAAAAAAAAAAABAAAAAAAAAAAAAAABAAAAAQAAAAAAAAAAAAAAAQAAAAAAAAAAAAAAAQAAAAAAAAABAAAAAAAAAAEAAAAAAAAAAQAAAAAAAAAAAAAAAQAAAAEAAAAAAAAAAQAAAAEAAAABAAAAAAAAAAEAAAABAAAAAQAAAAEAAAABAAAAAAAAAAAAAAABAAAAAQAAAAEAAAAAAAAAAQAAAAAAAAABAAAAAQAAAAAAAAABAAAAAAAAAAEAAAAAAAAAAAAAAAEAAAABAAAAAAAAAAEAAAABAAAAAAAAAAAAAAABAAAAAAAAAAEAAAAAAAAAAAAAAAAAAAABAAAAAQAAAAEAAAABAAAAAAAAAAAAAAAAAAAAAAAAAAAAAAABAAAAAQAAAAAAAAAAAAAAAAAAAAAAAAAAAAAAAQAAAAAAAAAAAAAAAAAAAAAAAAAAAAAAAQAAAAAAAAABAAAAAAAAAAAAAAABAAAAAAAAAAEAAAAAAAAAAAAAAAEAAAAAAAAAAQAAAAAAAAABAAAAAAAAAAEAAAAAAAAAAAAAAAAAAAAAAAAAAQAAAAAAAAAAAAAAAAAAAAAAAAAAAAAAAQAAAAEAAAAAAAAAAAAAAAEAAAABAAAAAAAAAAAAAAAAAAAAAAAAAAAAAAABAAAAAAAAAAAAAAAAAAAAAAAAAAAAAAAAAAAAAAAAAAAAAAABAAAAAAAAAAAAAAAAAAAAAAAAAAAAAAAAAAAAAQAAAAEAAAABAAAAAAAAAAAAAAAAAAAAAAAAAAEAAAAAAAAAAQAAAAAAAAAAAAAAAQAAAAAAAAABAAAAAQAAAAAAAAABAAAAAQAAAAAAAAABAAAAAAAAAAAAAAAAAAAAAQAAAAAAAAAAAAAAAQAAAAAAAAAAAAAAAAAAAAAAAAAAAAAAAAAAAAAAAAABAAAAAAAAAAEAAAAAAAAAAAAAAAAAAAAAAAAAAQAAAAAAAAABAAAAAAAAAAEAAAABAAAAAQAAAAEAAAAAAAAAAQAAAAAAAAAAAAAAAQAAAAAAAAABAAAAAQAAAAEAAAAAAAAAAQAAAAAAAAABAAAAAQAAAAEAAAAAAAAAAQAAAAAAAAABAAAAAAAAAAAAAAAAAAAAAQAAAAAAAAABAAAAAQAAAAEAAAABAAAAAQAAAAAAAAAAAAAAAQAAAAAAAAAAAAAAAAAAAAEAAAAAAAAAAQAAAAAAAAABAAAAAAAAAAEAAAAAAAAAAAAAAAAAAAAAAAAAAQAAAAAAAAAAAAAAAQAAAAAAAAAAAAAAAAAAAAEAAAABAAAAAQAAAAEAAAAAAAAAAAAAAAAAAAAAAAAAAQAAAAAAAAABAAAAAQAAAAEAAAAAAAAAAAAAAAEAAAABAAAAAAAAAAAAAAABAAAAAAAAAAEAAAABAAAAAQAAAAAAAAABAAAAAQAAAAAAAAAAAAAAAAAAAAEAAAABAAAAAQAAAAAAAAAAAAAAAAAAAAEAAAABAAAAAAAAAAEAAAABAAAAAQAAAAEAAAAAAAAAAwAAAAMAAAABAAAAAQAAAAEAAAAAAAAAAwAAAAAAAAAAAAAAAAAAAAAAAAABAAAAAQAAAAEAAAABAAAAAAAAAAAAAAAAAAAAAQAAAAAAAAABAAAAAAAAAAAAAAAAAAAAAAAAAAEAAAAAAAAAAAAAAAEAAAAAAAAAAAAAAAEAAAABAAAAAAAAAAEAAAAAAAAAAQAAAAEAAAABAAAAAQAAAAAAAAAAAAAAAQAAAAAAAAABAAAAAAAAAAAAAAAAAAAAAAAAAAAAAAAAAAAAAQAAAAEAAAABAAAAAAAAAAAAAAAAAAAAAAAAAAAAAAAAAAAAAQAAAAAAAAABAAAAAQAAAAEAAAABAAAAAAAAAAAAAAAAAAAAAAAAAAEAAAAAAAAAAAAAAAEAAAAAAAAAAAAAAAEAAAADAAAAAQAAAAAAAAABAAAAAQAAAAAAAAAAAAAAAQAAAAAAAAABAAAAAQAAAAEAAAABAAAAAQAAAAAAAAABAAAAAAAAAAEAAAAAAAAAAAAAAAEAAAAAAAAAAAAAAAAAAAAAAAAAAAAAAAEAAAABAAAAAQAAAAAAAAAAAAAAAAAAAAEAAAAAAAAAAQAAAAAAAAABAAAAAAAAAAAAAAAAAAAAAAAAAAEAAAAAAAAAAAAAAAAAAAABAAAAAAAAAAEAAAAAAAAAAQAAAAAAAAAAAAAAAAAAAAEAAAABAAAAAAAAAAAAAAAAAAAAAAAAAAAAAAAAAAAAAQAAAAAAAAABAAAAAAAAAAEAAAAAAAAAAAAAAAMAAAAAAAAAAgAAAAAAAAAAAAAAAAAAAAEAAAABAAAAAAAAAA==\",\"dtype\":\"int32\",\"order\":\"little\",\"shape\":[532]}},\"selected\":{\"id\":\"1239\"},\"selection_policy\":{\"id\":\"1288\"}},\"id\":\"1238\",\"type\":\"ColumnDataSource\"},{\"attributes\":{\"columns\":[{\"id\":\"1242\"},{\"id\":\"1247\"},{\"id\":\"1252\"},{\"id\":\"1257\"},{\"id\":\"1262\"},{\"id\":\"1267\"},{\"id\":\"1272\"},{\"id\":\"1277\"},{\"id\":\"1282\"}],\"height\":300,\"reorderable\":false,\"source\":{\"id\":\"1238\"},\"view\":{\"id\":\"1286\"},\"width\":700},\"id\":\"1285\",\"type\":\"DataTable\"},{\"attributes\":{},\"id\":\"1245\",\"type\":\"StringFormatter\"},{\"attributes\":{\"format\":\"0,0.0[00000]\"},\"id\":\"1270\",\"type\":\"NumberFormatter\"},{\"attributes\":{},\"id\":\"1240\",\"type\":\"StringFormatter\"},{\"attributes\":{},\"id\":\"1241\",\"type\":\"StringEditor\"},{\"attributes\":{\"source\":{\"id\":\"1238\"}},\"id\":\"1286\",\"type\":\"CDSView\"},{\"attributes\":{},\"id\":\"1266\",\"type\":\"NumberEditor\"},{\"attributes\":{\"editor\":{\"id\":\"1241\"},\"field\":\"Algorithm\",\"formatter\":{\"id\":\"1240\"},\"title\":\"Algorithm\"},\"id\":\"1242\",\"type\":\"TableColumn\"},{\"attributes\":{\"editor\":{\"id\":\"1281\"},\"field\":\"class\",\"formatter\":{\"id\":\"1280\"},\"title\":\"class\"},\"id\":\"1282\",\"type\":\"TableColumn\"}],\"root_ids\":[\"1236\"]},\"title\":\"Bokeh Application\",\"version\":\"2.2.3\"}};\n",
       "    var render_items = [{\"docid\":\"17090eb5-9d40-4088-b7ef-6cd30b8ec730\",\"root_ids\":[\"1236\"],\"roots\":{\"1236\":\"a9d1f536-3d8a-4fd3-8378-9a206faa709c\"}}];\n",
       "    root.Bokeh.embed.embed_items_notebook(docs_json, render_items);\n",
       "  }\n",
       "  if (root.Bokeh !== undefined && root.Bokeh.Panel !== undefined) {\n",
       "    embed_document(root);\n",
       "  } else {\n",
       "    var attempts = 0;\n",
       "    var timer = setInterval(function(root) {\n",
       "      if (root.Bokeh !== undefined && root.Bokeh.Panel !== undefined) {\n",
       "        clearInterval(timer);\n",
       "        embed_document(root);\n",
       "      } else if (document.readyState == \"complete\") {\n",
       "        attempts++;\n",
       "        if (attempts > 100) {\n",
       "          clearInterval(timer);\n",
       "          console.log(\"Bokeh: ERROR: Unable to run BokehJS code because BokehJS library is missing\");\n",
       "        }\n",
       "      }\n",
       "    }, 10, root)\n",
       "  }\n",
       "})(window);</script>"
      ],
      "text/plain": [
       ":Table   [Algorithm,ProofType,TotalCoinsMined,TotalCoinSupply,PC 1,PC 2,PC 3,CoinName,class]"
      ]
     },
     "execution_count": 101,
     "metadata": {
      "application/vnd.holoviews_exec.v0+json": {
       "id": "1236"
      }
     },
     "output_type": "execute_result"
    }
   ],
   "source": [
    "# Create a table with tradable cryptocurrencies.\n",
    "clustered_df.hvplot.table()"
   ]
  },
  {
   "cell_type": "code",
   "execution_count": 115,
   "metadata": {},
   "outputs": [
    {
     "name": "stdout",
     "output_type": "stream",
     "text": [
      " There are 532 tradable cryptocurrencies\n"
     ]
    }
   ],
   "source": [
    "# Print the total number of tradable cryptocurrencies.\n",
    "print(f' There are {clustered_df[\"CoinName\"].count()} tradable cryptocurrencies')"
   ]
  },
  {
   "cell_type": "code",
   "execution_count": 120,
   "metadata": {},
   "outputs": [
    {
     "data": {
      "text/plain": [
       "array([[0.00000000e+00, 4.20000000e-11],\n",
       "       [1.06585544e-03, 5.32000000e-04],\n",
       "       [2.95755135e-02, 3.14159265e-01],\n",
       "       ...,\n",
       "       [9.90135079e-04, 1.40022261e-03],\n",
       "       [7.37028150e-06, 2.10000000e-05],\n",
       "       [1.29582282e-07, 1.00000000e-06]])"
      ]
     },
     "execution_count": 120,
     "metadata": {},
     "output_type": "execute_result"
    }
   ],
   "source": [
    "# Scaling data to create the scatter plot with tradable cryptocurrencies.\n",
    "scaled_df_copy = clustered_df.copy()\n",
    "scaled_df = scaled_df_copy.drop([\"Algorithm\", \"ProofType\", \"PC 1\", \"PC 2\", \"PC 3\", \"CoinName\", \"class\"], axis=1)\n",
    "\n",
    "minmax = MinMaxScaler().fit_transform(scaled_df)\n",
    "minmax"
   ]
  },
  {
   "cell_type": "code",
   "execution_count": 126,
   "metadata": {},
   "outputs": [
    {
     "data": {
      "text/html": [
       "<div>\n",
       "<style scoped>\n",
       "    .dataframe tbody tr th:only-of-type {\n",
       "        vertical-align: middle;\n",
       "    }\n",
       "\n",
       "    .dataframe tbody tr th {\n",
       "        vertical-align: top;\n",
       "    }\n",
       "\n",
       "    .dataframe thead th {\n",
       "        text-align: right;\n",
       "    }\n",
       "</style>\n",
       "<table border=\"1\" class=\"dataframe\">\n",
       "  <thead>\n",
       "    <tr style=\"text-align: right;\">\n",
       "      <th></th>\n",
       "      <th>TotalCoinSupply</th>\n",
       "      <th>TotalCoinsMined</th>\n",
       "      <th>CoinName</th>\n",
       "      <th>class</th>\n",
       "    </tr>\n",
       "  </thead>\n",
       "  <tbody>\n",
       "    <tr>\n",
       "      <th>42</th>\n",
       "      <td>0.000000</td>\n",
       "      <td>4.200000e-11</td>\n",
       "      <td>42 Coin</td>\n",
       "      <td>0</td>\n",
       "    </tr>\n",
       "    <tr>\n",
       "      <th>404</th>\n",
       "      <td>0.001066</td>\n",
       "      <td>5.320000e-04</td>\n",
       "      <td>404Coin</td>\n",
       "      <td>0</td>\n",
       "    </tr>\n",
       "    <tr>\n",
       "      <th>1337</th>\n",
       "      <td>0.029576</td>\n",
       "      <td>3.141593e-01</td>\n",
       "      <td>EliteCoin</td>\n",
       "      <td>0</td>\n",
       "    </tr>\n",
       "    <tr>\n",
       "      <th>BTC</th>\n",
       "      <td>0.000018</td>\n",
       "      <td>2.100000e-05</td>\n",
       "      <td>Bitcoin</td>\n",
       "      <td>1</td>\n",
       "    </tr>\n",
       "    <tr>\n",
       "      <th>ETH</th>\n",
       "      <td>0.000109</td>\n",
       "      <td>0.000000e+00</td>\n",
       "      <td>Ethereum</td>\n",
       "      <td>1</td>\n",
       "    </tr>\n",
       "    <tr>\n",
       "      <th>LTC</th>\n",
       "      <td>0.000064</td>\n",
       "      <td>8.400000e-05</td>\n",
       "      <td>Litecoin</td>\n",
       "      <td>1</td>\n",
       "    </tr>\n",
       "    <tr>\n",
       "      <th>DASH</th>\n",
       "      <td>0.000009</td>\n",
       "      <td>2.200000e-05</td>\n",
       "      <td>Dash</td>\n",
       "      <td>0</td>\n",
       "    </tr>\n",
       "    <tr>\n",
       "      <th>XMR</th>\n",
       "      <td>0.000017</td>\n",
       "      <td>0.000000e+00</td>\n",
       "      <td>Monero</td>\n",
       "      <td>1</td>\n",
       "    </tr>\n",
       "    <tr>\n",
       "      <th>ETC</th>\n",
       "      <td>0.000115</td>\n",
       "      <td>2.100000e-04</td>\n",
       "      <td>Ethereum Classic</td>\n",
       "      <td>1</td>\n",
       "    </tr>\n",
       "    <tr>\n",
       "      <th>ZEC</th>\n",
       "      <td>0.000007</td>\n",
       "      <td>2.100000e-05</td>\n",
       "      <td>ZCash</td>\n",
       "      <td>1</td>\n",
       "    </tr>\n",
       "  </tbody>\n",
       "</table>\n",
       "</div>"
      ],
      "text/plain": [
       "      TotalCoinSupply  TotalCoinsMined          CoinName  class\n",
       "42           0.000000     4.200000e-11           42 Coin      0\n",
       "404          0.001066     5.320000e-04           404Coin      0\n",
       "1337         0.029576     3.141593e-01         EliteCoin      0\n",
       "BTC          0.000018     2.100000e-05           Bitcoin      1\n",
       "ETH          0.000109     0.000000e+00          Ethereum      1\n",
       "LTC          0.000064     8.400000e-05          Litecoin      1\n",
       "DASH         0.000009     2.200000e-05              Dash      0\n",
       "XMR          0.000017     0.000000e+00            Monero      1\n",
       "ETC          0.000115     2.100000e-04  Ethereum Classic      1\n",
       "ZEC          0.000007     2.100000e-05             ZCash      1"
      ]
     },
     "execution_count": 126,
     "metadata": {},
     "output_type": "execute_result"
    }
   ],
   "source": [
    "# Create a new DataFrame that has the scaled data with the clustered_df DataFrame index.\n",
    "\n",
    "plot_df = pd.DataFrame(data=minmax, columns = [\"TotalCoinSupply\", \"TotalCoinsMined\"], index = clustered_df.index)\n",
    "\n",
    "# Add the \"CoinName\" column from the clustered_df DataFrame to the new DataFrame.\n",
    "\n",
    "plot_df[\"CoinName\"] = names_df[\"CoinName\"]\n",
    "\n",
    "# Add the \"Class\" column from the clustered_df DataFrame to the new DataFrame. \n",
    "\n",
    "plot_df[\"class\"] = clustered_df[\"class\"]\n",
    "\n",
    "plot_df.head(10)"
   ]
  },
  {
   "cell_type": "code",
   "execution_count": 127,
   "metadata": {},
   "outputs": [
    {
     "data": {},
     "metadata": {},
     "output_type": "display_data"
    },
    {
     "data": {
      "application/vnd.holoviews_exec.v0+json": "",
      "text/html": [
       "<div id='1303'>\n",
       "\n",
       "\n",
       "\n",
       "\n",
       "\n",
       "  <div class=\"bk-root\" id=\"bedaab4a-c04a-4302-8eba-e54d758af03a\" data-root-id=\"1303\"></div>\n",
       "</div>\n",
       "<script type=\"application/javascript\">(function(root) {\n",
       "  function embed_document(root) {\n",
       "    var docs_json = {\"75b5f2f8-c253-4c02-957c-4aab4cb90ea7\":{\"roots\":{\"references\":[{\"attributes\":{\"below\":[{\"id\":\"1320\"}],\"center\":[{\"id\":\"1323\"},{\"id\":\"1327\"}],\"left\":[{\"id\":\"1324\"}],\"margin\":[5,5,5,5],\"min_border_bottom\":10,\"min_border_left\":10,\"min_border_right\":10,\"min_border_top\":10,\"plot_height\":300,\"plot_width\":700,\"renderers\":[{\"id\":\"1351\"},{\"id\":\"1369\"},{\"id\":\"1388\"},{\"id\":\"1409\"}],\"right\":[{\"id\":\"1361\"}],\"sizing_mode\":\"fixed\",\"title\":{\"id\":\"1312\"},\"toolbar\":{\"id\":\"1334\"},\"x_range\":{\"id\":\"1305\"},\"x_scale\":{\"id\":\"1316\"},\"y_range\":{\"id\":\"1306\"},\"y_scale\":{\"id\":\"1318\"}},\"id\":\"1311\",\"subtype\":\"Figure\",\"type\":\"Plot\"},{\"attributes\":{\"fill_alpha\":{\"value\":0.2},\"fill_color\":{\"value\":\"#e5ae38\"},\"line_alpha\":{\"value\":0.2},\"line_color\":{\"value\":\"#e5ae38\"},\"size\":{\"units\":\"screen\",\"value\":5.477225575051661},\"x\":{\"field\":\"TotalCoinsMined\"},\"y\":{\"field\":\"TotalCoinSupply\"}},\"id\":\"1387\",\"type\":\"Scatter\"},{\"attributes\":{\"data\":{\"CoinName\":[\"BiblePay\",\"LitecoinCash\",\"Poa Network\",\"Acute Angle Cloud\",\"Waves\"],\"TotalCoinSupply\":{\"__ndarray__\":\"j1gNkdpTXT+QpMXySiFFP5wZJXiPEis/ekNDBbiMUD/7RX5gv3oaPw==\",\"dtype\":\"float64\",\"order\":\"little\",\"shape\":[5]},\"TotalCoinsMined\":{\"__ndarray__\":\"lPYGX5hMdT+8eapDboZLP4RaKOGWizA//Knx0k1iUD8sQxzr4jYaPw==\",\"dtype\":\"float64\",\"order\":\"little\",\"shape\":[5]},\"class\":[3,3,3,3,3]},\"selected\":{\"id\":\"1404\"},\"selection_policy\":{\"id\":\"1423\"}},\"id\":\"1403\",\"type\":\"ColumnDataSource\"},{\"attributes\":{},\"id\":\"1328\",\"type\":\"SaveTool\"},{\"attributes\":{\"children\":[{\"id\":\"1304\"},{\"id\":\"1311\"},{\"id\":\"1552\"}],\"margin\":[0,0,0,0],\"name\":\"Row02150\",\"tags\":[\"embedded\"]},\"id\":\"1303\",\"type\":\"Row\"},{\"attributes\":{},\"id\":\"1329\",\"type\":\"PanTool\"},{\"attributes\":{},\"id\":\"1400\",\"type\":\"UnionRenderers\"},{\"attributes\":{\"click_policy\":\"mute\",\"items\":[{\"id\":\"1362\"},{\"id\":\"1381\"},{\"id\":\"1402\"},{\"id\":\"1425\"}],\"location\":[0,0],\"title\":\"class\"},\"id\":\"1361\",\"type\":\"Legend\"},{\"attributes\":{},\"id\":\"1332\",\"type\":\"ResetTool\"},{\"attributes\":{},\"id\":\"1330\",\"type\":\"WheelZoomTool\"},{\"attributes\":{\"label\":{\"value\":\"0\"},\"renderers\":[{\"id\":\"1351\"}]},\"id\":\"1362\",\"type\":\"LegendItem\"},{\"attributes\":{\"source\":{\"id\":\"1403\"}},\"id\":\"1410\",\"type\":\"CDSView\"},{\"attributes\":{\"fill_color\":{\"value\":\"#30a2da\"},\"line_color\":{\"value\":\"#30a2da\"},\"size\":{\"units\":\"screen\",\"value\":5.477225575051661},\"x\":{\"field\":\"TotalCoinsMined\"},\"y\":{\"field\":\"TotalCoinSupply\"}},\"id\":\"1348\",\"type\":\"Scatter\"},{\"attributes\":{\"overlay\":{\"id\":\"1333\"}},\"id\":\"1331\",\"type\":\"BoxZoomTool\"},{\"attributes\":{},\"id\":\"1346\",\"type\":\"Selection\"},{\"attributes\":{},\"id\":\"1364\",\"type\":\"Selection\"},{\"attributes\":{\"fill_alpha\":{\"value\":0.1},\"fill_color\":{\"value\":\"#30a2da\"},\"line_alpha\":{\"value\":0.1},\"line_color\":{\"value\":\"#30a2da\"},\"size\":{\"units\":\"screen\",\"value\":5.477225575051661},\"x\":{\"field\":\"TotalCoinsMined\"},\"y\":{\"field\":\"TotalCoinSupply\"}},\"id\":\"1349\",\"type\":\"Scatter\"},{\"attributes\":{\"margin\":[5,5,5,5],\"name\":\"HSpacer02154\",\"sizing_mode\":\"stretch_width\"},\"id\":\"1304\",\"type\":\"Spacer\"},{\"attributes\":{\"label\":{\"value\":\"1\"},\"renderers\":[{\"id\":\"1369\"}]},\"id\":\"1381\",\"type\":\"LegendItem\"},{\"attributes\":{\"label\":{\"value\":\"2\"},\"renderers\":[{\"id\":\"1388\"}]},\"id\":\"1402\",\"type\":\"LegendItem\"},{\"attributes\":{},\"id\":\"1359\",\"type\":\"UnionRenderers\"},{\"attributes\":{\"axis_label\":\"TotalCoinsMined\",\"bounds\":\"auto\",\"formatter\":{\"id\":\"1342\"},\"major_label_orientation\":\"horizontal\",\"ticker\":{\"id\":\"1321\"}},\"id\":\"1320\",\"type\":\"LinearAxis\"},{\"attributes\":{\"data_source\":{\"id\":\"1345\"},\"glyph\":{\"id\":\"1348\"},\"hover_glyph\":null,\"muted_glyph\":{\"id\":\"1350\"},\"nonselection_glyph\":{\"id\":\"1349\"},\"selection_glyph\":null,\"view\":{\"id\":\"1352\"}},\"id\":\"1351\",\"type\":\"GlyphRenderer\"},{\"attributes\":{\"callback\":null,\"renderers\":[{\"id\":\"1351\"},{\"id\":\"1369\"},{\"id\":\"1388\"},{\"id\":\"1409\"}],\"tags\":[\"hv_created\"],\"tooltips\":[[\"class\",\"@{class}\"],[\"TotalCoinsMined\",\"@{TotalCoinsMined}\"],[\"TotalCoinSupply\",\"@{TotalCoinSupply}\"],[\"CoinName\",\"@{CoinName}\"]]},\"id\":\"1307\",\"type\":\"HoverTool\"},{\"attributes\":{\"label\":{\"value\":\"3\"},\"renderers\":[{\"id\":\"1409\"}]},\"id\":\"1425\",\"type\":\"LegendItem\"},{\"attributes\":{\"fill_color\":{\"value\":\"#e5ae38\"},\"line_color\":{\"value\":\"#e5ae38\"},\"size\":{\"units\":\"screen\",\"value\":5.477225575051661},\"x\":{\"field\":\"TotalCoinsMined\"},\"y\":{\"field\":\"TotalCoinSupply\"}},\"id\":\"1385\",\"type\":\"Scatter\"},{\"attributes\":{\"fill_alpha\":{\"value\":0.2},\"fill_color\":{\"value\":\"#6d904f\"},\"line_alpha\":{\"value\":0.2},\"line_color\":{\"value\":\"#6d904f\"},\"size\":{\"units\":\"screen\",\"value\":5.477225575051661},\"x\":{\"field\":\"TotalCoinsMined\"},\"y\":{\"field\":\"TotalCoinSupply\"}},\"id\":\"1408\",\"type\":\"Scatter\"},{\"attributes\":{},\"id\":\"1404\",\"type\":\"Selection\"},{\"attributes\":{\"data\":{\"CoinName\":[\"Bitcoin\",\"Ethereum\",\"Litecoin\",\"Monero\",\"Ethereum Classic\",\"ZCash\",\"DigiByte\",\"ProsperCoin\",\"Spreadcoin\",\"Argentum\",\"MyriadCoin\",\"MoonCoin\",\"ZetaCoin\",\"SexCoin\",\"Quatloo\",\"QuarkCoin\",\"Riecoin\",\"Digitalcoin \",\"Catcoin\",\"CannaCoin\",\"CryptCoin\",\"Verge\",\"DevCoin\",\"EarthCoin\",\"E-Gulden\",\"Einsteinium\",\"Emerald\",\"Franko\",\"FeatherCoin\",\"GrandCoin\",\"GlobalCoin\",\"GoldCoin\",\"Infinite Coin\",\"IXcoin\",\"KrugerCoin\",\"LuckyCoin\",\"Litebar \",\"MegaCoin\",\"MediterraneanCoin\",\"MinCoin\",\"NobleCoin\",\"Namecoin\",\"NyanCoin\",\"RonPaulCoin\",\"StableCoin\",\"SmartCoin\",\"SysCoin\",\"TigerCoin\",\"TerraCoin\",\"UnbreakableCoin\",\"Unobtanium\",\"UroCoin\",\"ViaCoin\",\"Vertcoin\",\"WorldCoin\",\"JouleCoin\",\"ByteCoin\",\"DigitalNote \",\"MonaCoin\",\"Gulden\",\"PesetaCoin\",\"Wild Beast Coin\",\"Flo\",\"ArtByte\",\"Folding Coin\",\"Unitus\",\"CypherPunkCoin\",\"OmniCron\",\"GreenCoin\",\"Cryptonite\",\"MasterCoin\",\"SoonCoin\",\"1Credit\",\"MarsCoin \",\"Crypto\",\"Anarchists Prime\",\"BowsCoin\",\"Song Coin\",\"BitZeny\",\"Expanse\",\"Siacoin\",\"MindCoin\",\"I0coin\",\"Revolution VR\",\"HOdlcoin\",\"Gamecredits\",\"CarpeDiemCoin\",\"Adzcoin\",\"SoilCoin\",\"YoCoin\",\"SibCoin\",\"Francs\",\"BolivarCoin\",\"Omni\",\"PizzaCoin\",\"Komodo\",\"Karbo\",\"ZayedCoin\",\"Circuits of Value\",\"DopeCoin\",\"DollarCoin\",\"Shilling\",\"ZCoin\",\"Elementrem\",\"ZClassic\",\"KiloCoin\",\"ArtexCoin\",\"Kurrent\",\"Cannabis Industry Coin\",\"OsmiumCoin\",\"Bikercoins\",\"HexxCoin\",\"PacCoin\",\"Citadel\",\"BeaverCoin\",\"VaultCoin\",\"Zero\",\"Canada eCoin\",\"Zoin\",\"DubaiCoin\",\"EB3coin\",\"Coinonat\",\"BenjiRolls\",\"ILCoin\",\"EquiTrader\",\"Quantum Resistant Ledger\",\"Dynamic\",\"Nano\",\"ChanCoin\",\"Dinastycoin\",\"DigitalPrice\",\"Unify\",\"SocialCoin\",\"ArcticCoin\",\"DAS\",\"LeviarCoin\",\"Bitcore\",\"gCn Coin\",\"SmartCash\",\"Onix\",\"Bitcoin Cash\",\"Sojourn Coin\",\"NewYorkCoin\",\"FrazCoin\",\"Kronecoin\",\"AdCoin\",\"Linx\",\"Sumokoin\",\"BitcoinZ\",\"Elements\",\"VIVO Coin\",\"Bitcoin Gold\",\"Pirl\",\"eBoost\",\"Pura\",\"Innova\",\"Ellaism\",\"GoByte\",\"SHIELD\",\"UltraNote\",\"BitCoal\",\"DaxxCoin\",\"AC3\",\"Lethean\",\"PopularCoin\",\"Photon\",\"Sucre\",\"SparksPay\",\"GunCoin\",\"IrishCoin\",\"Pioneer Coin\",\"UnitedBitcoin\",\"Interzone\",\"TurtleCoin\",\"MUNcoin\",\"Niobio Cash\",\"ShareChain\",\"Travelflex\",\"KREDS\",\"BitFlip\",\"LottoCoin\",\"Crypto Improvement Fund\",\"Callisto Network\",\"BitTube\",\"Poseidon\",\"Aidos Kuneen\",\"Bitrolium\",\"Alpenschillling\",\"FuturoCoin\",\"Monero Classic\",\"Jumpcoin\",\"Infinex\",\"KEYCO\",\"GINcoin\",\"PlatinCoin\",\"Loki\",\"Newton Coin\",\"MassGrid\",\"PluraCoin\",\"Motion\",\"PlusOneCoin\",\"Axe\",\"HexCoin\",\"Webchain\",\"Ryo\",\"Urals Coin\",\"Qwertycoin\",\"Project Pai\",\"Azart\",\"Xchange\",\"CrypticCoin\",\"Actinium\",\"Bitcoin SV\",\"FREDEnergy\",\"Universal Molecule\",\"Lithium\",\"PirateCash\",\"Exosis\",\"Block-Logic\",\"Beam\",\"Bithereum\",\"SLICE\",\"BLAST\",\"Bitcoin Rhodium\",\"GlobalToken\",\"SolarCoin\",\"UFO Coin\",\"BlakeCoin\",\"Crypto Escudo\",\"Crown Coin\",\"SmileyCoin\",\"Groestlcoin\",\"Bata\",\"Pakcoin\",\"JoinCoin\",\"Vollar\",\"Reality Clash\",\"Beldex\",\"Horizen\"],\"TotalCoinSupply\":{\"__ndarray__\":\"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\",\"dtype\":\"float64\",\"order\":\"little\",\"shape\":[239]},\"TotalCoinsMined\":{\"__ndarray__\":\"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\",\"dtype\":\"float64\",\"order\":\"little\",\"shape\":[239]},\"class\":[1,1,1,1,1,1,1,1,1,1,1,1,1,1,1,1,1,1,1,1,1,1,1,1,1,1,1,1,1,1,1,1,1,1,1,1,1,1,1,1,1,1,1,1,1,1,1,1,1,1,1,1,1,1,1,1,1,1,1,1,1,1,1,1,1,1,1,1,1,1,1,1,1,1,1,1,1,1,1,1,1,1,1,1,1,1,1,1,1,1,1,1,1,1,1,1,1,1,1,1,1,1,1,1,1,1,1,1,1,1,1,1,1,1,1,1,1,1,1,1,1,1,1,1,1,1,1,1,1,1,1,1,1,1,1,1,1,1,1,1,1,1,1,1,1,1,1,1,1,1,1,1,1,1,1,1,1,1,1,1,1,1,1,1,1,1,1,1,1,1,1,1,1,1,1,1,1,1,1,1,1,1,1,1,1,1,1,1,1,1,1,1,1,1,1,1,1,1,1,1,1,1,1,1,1,1,1,1,1,1,1,1,1,1,1,1,1,1,1,1,1,1,1,1,1,1,1,1,1,1,1,1,1,1,1,1,1,1,1]},\"selected\":{\"id\":\"1364\"},\"selection_policy\":{\"id\":\"1379\"}},\"id\":\"1363\",\"type\":\"ColumnDataSource\"},{\"attributes\":{\"end\":1.042857142857143,\"reset_end\":1.042857142857143,\"reset_start\":-0.04285714285714286,\"start\":-0.04285714285714286,\"tags\":[[[\"TotalCoinsMined\",\"TotalCoinsMined\",null]]]},\"id\":\"1305\",\"type\":\"Range1d\"},{\"attributes\":{\"end\":1.1,\"reset_end\":1.1,\"reset_start\":-0.1,\"start\":-0.1,\"tags\":[[[\"TotalCoinSupply\",\"TotalCoinSupply\",null]]]},\"id\":\"1306\",\"type\":\"Range1d\"},{\"attributes\":{\"fill_alpha\":{\"value\":0.1},\"fill_color\":{\"value\":\"#6d904f\"},\"line_alpha\":{\"value\":0.1},\"line_color\":{\"value\":\"#6d904f\"},\"size\":{\"units\":\"screen\",\"value\":5.477225575051661},\"x\":{\"field\":\"TotalCoinsMined\"},\"y\":{\"field\":\"TotalCoinSupply\"}},\"id\":\"1407\",\"type\":\"Scatter\"},{\"attributes\":{},\"id\":\"1318\",\"type\":\"LinearScale\"},{\"attributes\":{\"data_source\":{\"id\":\"1403\"},\"glyph\":{\"id\":\"1406\"},\"hover_glyph\":null,\"muted_glyph\":{\"id\":\"1408\"},\"nonselection_glyph\":{\"id\":\"1407\"},\"selection_glyph\":null,\"view\":{\"id\":\"1410\"}},\"id\":\"1409\",\"type\":\"GlyphRenderer\"},{\"attributes\":{},\"id\":\"1316\",\"type\":\"LinearScale\"},{\"attributes\":{},\"id\":\"1321\",\"type\":\"BasicTicker\"},{\"attributes\":{\"source\":{\"id\":\"1345\"}},\"id\":\"1352\",\"type\":\"CDSView\"},{\"attributes\":{\"axis\":{\"id\":\"1324\"},\"dimension\":1,\"grid_line_color\":null,\"ticker\":null},\"id\":\"1327\",\"type\":\"Grid\"},{\"attributes\":{\"source\":{\"id\":\"1363\"}},\"id\":\"1370\",\"type\":\"CDSView\"},{\"attributes\":{\"axis\":{\"id\":\"1320\"},\"grid_line_color\":null,\"ticker\":null},\"id\":\"1323\",\"type\":\"Grid\"},{\"attributes\":{\"source\":{\"id\":\"1382\"}},\"id\":\"1389\",\"type\":\"CDSView\"},{\"attributes\":{\"data\":{\"CoinName\":[\"BitTorrent\"],\"TotalCoinSupply\":{\"__ndarray__\":\"AAAAAAAA8D8=\",\"dtype\":\"float64\",\"order\":\"little\",\"shape\":[1]},\"TotalCoinsMined\":{\"__ndarray__\":\"rkfhehSu7z8=\",\"dtype\":\"float64\",\"order\":\"little\",\"shape\":[1]},\"class\":[2]},\"selected\":{\"id\":\"1383\"},\"selection_policy\":{\"id\":\"1400\"}},\"id\":\"1382\",\"type\":\"ColumnDataSource\"},{\"attributes\":{},\"id\":\"1423\",\"type\":\"UnionRenderers\"},{\"attributes\":{\"active_drag\":\"auto\",\"active_inspect\":\"auto\",\"active_multi\":null,\"active_scroll\":\"auto\",\"active_tap\":\"auto\",\"tools\":[{\"id\":\"1307\"},{\"id\":\"1328\"},{\"id\":\"1329\"},{\"id\":\"1330\"},{\"id\":\"1331\"},{\"id\":\"1332\"}]},\"id\":\"1334\",\"type\":\"Toolbar\"},{\"attributes\":{},\"id\":\"1325\",\"type\":\"BasicTicker\"},{\"attributes\":{\"fill_alpha\":{\"value\":0.1},\"fill_color\":{\"value\":\"#fc4f30\"},\"line_alpha\":{\"value\":0.1},\"line_color\":{\"value\":\"#fc4f30\"},\"size\":{\"units\":\"screen\",\"value\":5.477225575051661},\"x\":{\"field\":\"TotalCoinsMined\"},\"y\":{\"field\":\"TotalCoinSupply\"}},\"id\":\"1367\",\"type\":\"Scatter\"},{\"attributes\":{\"fill_alpha\":{\"value\":0.2},\"fill_color\":{\"value\":\"#fc4f30\"},\"line_alpha\":{\"value\":0.2},\"line_color\":{\"value\":\"#fc4f30\"},\"size\":{\"units\":\"screen\",\"value\":5.477225575051661},\"x\":{\"field\":\"TotalCoinsMined\"},\"y\":{\"field\":\"TotalCoinSupply\"}},\"id\":\"1368\",\"type\":\"Scatter\"},{\"attributes\":{\"axis_label\":\"TotalCoinSupply\",\"bounds\":\"auto\",\"formatter\":{\"id\":\"1344\"},\"major_label_orientation\":\"horizontal\",\"ticker\":{\"id\":\"1325\"}},\"id\":\"1324\",\"type\":\"LinearAxis\"},{\"attributes\":{\"fill_color\":{\"value\":\"#fc4f30\"},\"line_color\":{\"value\":\"#fc4f30\"},\"size\":{\"units\":\"screen\",\"value\":5.477225575051661},\"x\":{\"field\":\"TotalCoinsMined\"},\"y\":{\"field\":\"TotalCoinSupply\"}},\"id\":\"1366\",\"type\":\"Scatter\"},{\"attributes\":{\"fill_alpha\":{\"value\":0.1},\"fill_color\":{\"value\":\"#e5ae38\"},\"line_alpha\":{\"value\":0.1},\"line_color\":{\"value\":\"#e5ae38\"},\"size\":{\"units\":\"screen\",\"value\":5.477225575051661},\"x\":{\"field\":\"TotalCoinsMined\"},\"y\":{\"field\":\"TotalCoinSupply\"}},\"id\":\"1386\",\"type\":\"Scatter\"},{\"attributes\":{\"text\":\"\",\"text_color\":{\"value\":\"black\"},\"text_font_size\":{\"value\":\"12pt\"}},\"id\":\"1312\",\"type\":\"Title\"},{\"attributes\":{\"bottom_units\":\"screen\",\"fill_alpha\":0.5,\"fill_color\":\"lightgrey\",\"left_units\":\"screen\",\"level\":\"overlay\",\"line_alpha\":1.0,\"line_color\":\"black\",\"line_dash\":[4,4],\"line_width\":2,\"right_units\":\"screen\",\"top_units\":\"screen\"},\"id\":\"1333\",\"type\":\"BoxAnnotation\"},{\"attributes\":{\"data_source\":{\"id\":\"1363\"},\"glyph\":{\"id\":\"1366\"},\"hover_glyph\":null,\"muted_glyph\":{\"id\":\"1368\"},\"nonselection_glyph\":{\"id\":\"1367\"},\"selection_glyph\":null,\"view\":{\"id\":\"1370\"}},\"id\":\"1369\",\"type\":\"GlyphRenderer\"},{\"attributes\":{\"data_source\":{\"id\":\"1382\"},\"glyph\":{\"id\":\"1385\"},\"hover_glyph\":null,\"muted_glyph\":{\"id\":\"1387\"},\"nonselection_glyph\":{\"id\":\"1386\"},\"selection_glyph\":null,\"view\":{\"id\":\"1389\"}},\"id\":\"1388\",\"type\":\"GlyphRenderer\"},{\"attributes\":{},\"id\":\"1383\",\"type\":\"Selection\"},{\"attributes\":{\"fill_color\":{\"value\":\"#6d904f\"},\"line_color\":{\"value\":\"#6d904f\"},\"size\":{\"units\":\"screen\",\"value\":5.477225575051661},\"x\":{\"field\":\"TotalCoinsMined\"},\"y\":{\"field\":\"TotalCoinSupply\"}},\"id\":\"1406\",\"type\":\"Scatter\"},{\"attributes\":{\"fill_alpha\":{\"value\":0.2},\"fill_color\":{\"value\":\"#30a2da\"},\"line_alpha\":{\"value\":0.2},\"line_color\":{\"value\":\"#30a2da\"},\"size\":{\"units\":\"screen\",\"value\":5.477225575051661},\"x\":{\"field\":\"TotalCoinsMined\"},\"y\":{\"field\":\"TotalCoinSupply\"}},\"id\":\"1350\",\"type\":\"Scatter\"},{\"attributes\":{},\"id\":\"1379\",\"type\":\"UnionRenderers\"},{\"attributes\":{},\"id\":\"1342\",\"type\":\"BasicTickFormatter\"},{\"attributes\":{},\"id\":\"1344\",\"type\":\"BasicTickFormatter\"},{\"attributes\":{\"data\":{\"CoinName\":[\"42 Coin\",\"404Coin\",\"EliteCoin\",\"Dash\",\"Bitshares\",\"BitcoinDark\",\"PayCoin\",\"KoboCoin\",\"Aurora Coin\",\"BlueCoin\",\"EnergyCoin\",\"BitBar\",\"CryptoBullion\",\"CasinoCoin\",\"Diamond\",\"Exclusive Coin\",\"FlutterCoin\",\"HoboNickels\",\"HyperStake\",\"IOCoin\",\"MaxCoin\",\"MintCoin\",\"MazaCoin\",\"Nautilus Coin\",\"NavCoin\",\"OpalCoin\",\"Orbitcoin\",\"PotCoin\",\"PhoenixCoin\",\"Reddcoin\",\"SuperCoin\",\"SyncCoin\",\"TeslaCoin\",\"TittieCoin\",\"TorCoin\",\"UnitaryStatus Dollar\",\"UltraCoin\",\"VeriCoin\",\"X11 Coin\",\"Crypti\",\"StealthCoin\",\"ZCC Coin\",\"BurstCoin\",\"StorjCoin\",\"Neutron\",\"FairCoin\",\"RubyCoin\",\"Kore\",\"Dnotes\",\"8BIT Coin\",\"Sativa Coin\",\"Ucoin\",\"Vtorrent\",\"IslaCoin\",\"Nexus\",\"Droidz\",\"Squall Coin\",\"Diggits\",\"Paycon\",\"Emercoin\",\"EverGreenCoin\",\"Decred\",\"EDRCoin\",\"Hitcoin\",\"DubaiCoin\",\"PWR Coin\",\"BillaryCoin\",\"GPU Coin\",\"EuropeCoin\",\"ZeitCoin\",\"SwingCoin\",\"SafeExchangeCoin\",\"Nebuchadnezzar\",\"Ratecoin\",\"Revenu\",\"Clockcoin\",\"VIP Tokens\",\"BitSend\",\"Let it Ride\",\"PutinCoin\",\"iBankCoin\",\"Frankywillcoin\",\"MudraCoin\",\"Lutetium Coin\",\"GoldBlocks\",\"CarterCoin\",\"BitTokens\",\"MustangCoin\",\"ZoneCoin\",\"RootCoin\",\"BitCurrency\",\"Swiscoin\",\"BuzzCoin\",\"Opair\",\"PesoBit\",\"Halloween Coin\",\"CoffeeCoin\",\"RoyalCoin\",\"GanjaCoin V2\",\"TeamUP\",\"LanaCoin\",\"ARK\",\"InsaneCoin\",\"EmberCoin\",\"XenixCoin\",\"FreeCoin\",\"PLNCoin\",\"AquariusCoin\",\"Creatio\",\"Eternity\",\"Eurocoin\",\"BitcoinFast\",\"Stakenet\",\"BitConnect Coin\",\"MoneyCoin\",\"Enigma\",\"Russiacoin\",\"PandaCoin\",\"GameUnits\",\"GAKHcoin\",\"Allsafe\",\"LiteCreed\",\"Klingon Empire Darsek\",\"Internet of People\",\"KushCoin\",\"Printerium\",\"Impeach\",\"Zilbercoin\",\"FirstCoin\",\"FindCoin\",\"OpenChat\",\"RenosCoin\",\"VirtacoinPlus\",\"TajCoin\",\"Impact\",\"Atmos\",\"HappyCoin\",\"MacronCoin\",\"Condensate\",\"Independent Money System\",\"ArgusCoin\",\"LomoCoin\",\"ProCurrency\",\"GoldReserve\",\"GrowthCoin\",\"Phreak\",\"Degas Coin\",\"HTML5 Coin\",\"Ultimate Secure Cash\",\"QTUM\",\"Espers\",\"Denarius\",\"Virta Unique Coin\",\"Bitcoin Planet\",\"BritCoin\",\"Linda\",\"DeepOnion\",\"Signatum\",\"Cream\",\"Monoeci\",\"Draftcoin\",\"Vechain\",\"Stakecoin\",\"CoinonatX\",\"Ethereum Dark\",\"Obsidian\",\"Cardano\",\"Regalcoin\",\"TrezarCoin\",\"TerraNovaCoin\",\"Rupee\",\"WomenCoin\",\"Theresa May Coin\",\"NamoCoin\",\"LUXCoin\",\"Xios\",\"Bitcloud 2.0\",\"KekCoin\",\"BlackholeCoin\",\"Infinity Economics\",\"Magnet\",\"Lamden Tau\",\"Electra\",\"Bitcoin Diamond\",\"Cash & Back Coin\",\"Bulwark\",\"Kalkulus\",\"GermanCoin\",\"LiteCoin Ultra\",\"PhantomX\",\"Digiwage\",\"Trollcoin\",\"Litecoin Plus\",\"Monkey Project\",\"TokenPay\",\"1717 Masonic Commemorative Token\",\"My Big Coin\",\"Unified Society USDEX\",\"Tokyo Coin\",\"Stipend\",\"Pushi\",\"Ellerium\",\"Velox\",\"Ontology\",\"Bitspace\",\"Briacoin\",\"Ignition\",\"MedicCoin\",\"Bitcoin Green\",\"Deviant Coin\",\"Abjcoin\",\"Semux\",\"Carebit\",\"Zealium\",\"Proton\",\"iDealCash\",\"Bitcoin Incognito\",\"HollyWoodCoin\",\"Swisscoin\",\"Xt3ch\",\"TheVig\",\"EmaratCoin\",\"Dekado\",\"Lynx\",\"Poseidon Quark\",\"BitcoinWSpectrum\",\"Muse\",\"Trivechain\",\"Dystem\",\"Giant\",\"Peony Coin\",\"Absolute Coin\",\"Vitae\",\"TPCash\",\"ARENON\",\"EUNO\",\"MMOCoin\",\"Ketan\",\"XDNA\",\"PAXEX\",\"ThunderStake\",\"Kcash\",\"Bettex coin\",\"BitMoney\",\"Junson Ming Chan Coin\",\"HerbCoin\",\"Oduwa\",\"Galilel\",\"Crypto Sports\",\"Credit\",\"Dash Platinum\",\"Nasdacoin\",\"Beetle Coin\",\"Titan Coin\",\"Award\",\"Insane Coin\",\"ALAX\",\"LiteDoge\",\"TruckCoin\",\"OrangeCoin\",\"BitstarCoin\",\"NeosCoin\",\"HyperCoin\",\"PinkCoin\",\"AudioCoin\",\"IncaKoin\",\"Piggy Coin\",\"Genstake\",\"XiaoMiCoin\",\"CapriCoin\",\" ClubCoin\",\"Radium\",\"Creditbit \",\"OKCash\",\"Lisk\",\"HiCoin\",\"WhiteCoin\",\"FriendshipCoin\",\"Triangles Coin\",\"EOS\",\"Oxycoin\",\"TigerCash\",\"Particl\",\"Nxt\",\"ZEPHYR\",\"Gapcoin\",\"BitcoinPlus\"],\"TotalCoinSupply\":{\"__ndarray__\":\"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\",\"dtype\":\"float64\",\"order\":\"little\",\"shape\":[287]},\"TotalCoinsMined\":{\"__ndarray__\":\"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\",\"dtype\":\"float64\",\"order\":\"little\",\"shape\":[287]},\"class\":[0,0,0,0,0,0,0,0,0,0,0,0,0,0,0,0,0,0,0,0,0,0,0,0,0,0,0,0,0,0,0,0,0,0,0,0,0,0,0,0,0,0,0,0,0,0,0,0,0,0,0,0,0,0,0,0,0,0,0,0,0,0,0,0,0,0,0,0,0,0,0,0,0,0,0,0,0,0,0,0,0,0,0,0,0,0,0,0,0,0,0,0,0,0,0,0,0,0,0,0,0,0,0,0,0,0,0,0,0,0,0,0,0,0,0,0,0,0,0,0,0,0,0,0,0,0,0,0,0,0,0,0,0,0,0,0,0,0,0,0,0,0,0,0,0,0,0,0,0,0,0,0,0,0,0,0,0,0,0,0,0,0,0,0,0,0,0,0,0,0,0,0,0,0,0,0,0,0,0,0,0,0,0,0,0,0,0,0,0,0,0,0,0,0,0,0,0,0,0,0,0,0,0,0,0,0,0,0,0,0,0,0,0,0,0,0,0,0,0,0,0,0,0,0,0,0,0,0,0,0,0,0,0,0,0,0,0,0,0,0,0,0,0,0,0,0,0,0,0,0,0,0,0,0,0,0,0,0,0,0,0,0,0,0,0,0,0,0,0,0,0,0,0,0,0,0,0,0,0,0,0,0,0,0,0,0,0]},\"selected\":{\"id\":\"1346\"},\"selection_policy\":{\"id\":\"1359\"}},\"id\":\"1345\",\"type\":\"ColumnDataSource\"},{\"attributes\":{\"margin\":[5,5,5,5],\"name\":\"HSpacer02155\",\"sizing_mode\":\"stretch_width\"},\"id\":\"1552\",\"type\":\"Spacer\"}],\"root_ids\":[\"1303\"]},\"title\":\"Bokeh Application\",\"version\":\"2.2.3\"}};\n",
       "    var render_items = [{\"docid\":\"75b5f2f8-c253-4c02-957c-4aab4cb90ea7\",\"root_ids\":[\"1303\"],\"roots\":{\"1303\":\"bedaab4a-c04a-4302-8eba-e54d758af03a\"}}];\n",
       "    root.Bokeh.embed.embed_items_notebook(docs_json, render_items);\n",
       "  }\n",
       "  if (root.Bokeh !== undefined && root.Bokeh.Panel !== undefined) {\n",
       "    embed_document(root);\n",
       "  } else {\n",
       "    var attempts = 0;\n",
       "    var timer = setInterval(function(root) {\n",
       "      if (root.Bokeh !== undefined && root.Bokeh.Panel !== undefined) {\n",
       "        clearInterval(timer);\n",
       "        embed_document(root);\n",
       "      } else if (document.readyState == \"complete\") {\n",
       "        attempts++;\n",
       "        if (attempts > 100) {\n",
       "          clearInterval(timer);\n",
       "          console.log(\"Bokeh: ERROR: Unable to run BokehJS code because BokehJS library is missing\");\n",
       "        }\n",
       "      }\n",
       "    }, 10, root)\n",
       "  }\n",
       "})(window);</script>"
      ],
      "text/plain": [
       ":NdOverlay   [class]\n",
       "   :Scatter   [TotalCoinsMined]   (TotalCoinSupply,CoinName)"
      ]
     },
     "execution_count": 127,
     "metadata": {
      "application/vnd.holoviews_exec.v0+json": {
       "id": "1303"
      }
     },
     "output_type": "execute_result"
    }
   ],
   "source": [
    "# Create a hvplot.scatter plot using x=\"TotalCoinsMined\" and y=\"TotalCoinSupply\".\n",
    "\n",
    "plot_df.hvplot.scatter(\n",
    "    x= \"TotalCoinsMined\",\n",
    "    y= \"TotalCoinSupply\",\n",
    "    hover_cols=[\"CoinName\"],\n",
    "    by=\"class\",\n",
    ")"
   ]
  },
  {
   "cell_type": "code",
   "execution_count": null,
   "metadata": {},
   "outputs": [],
   "source": []
  }
 ],
 "metadata": {
  "file_extension": ".py",
  "kernelspec": {
   "display_name": "PythonData",
   "language": "python",
   "name": "pythondata"
  },
  "language_info": {
   "codemirror_mode": {
    "name": "ipython",
    "version": 3
   },
   "file_extension": ".py",
   "mimetype": "text/x-python",
   "name": "python",
   "nbconvert_exporter": "python",
   "pygments_lexer": "ipython3",
   "version": "3.7.9"
  },
  "latex_envs": {
   "LaTeX_envs_menu_present": true,
   "autoclose": false,
   "autocomplete": true,
   "bibliofile": "biblio.bib",
   "cite_by": "apalike",
   "current_citInitial": 1,
   "eqLabelWithNumbers": true,
   "eqNumInitial": 1,
   "hotkeys": {
    "equation": "Ctrl-E",
    "itemize": "Ctrl-I"
   },
   "labels_anchors": false,
   "latex_user_defs": false,
   "report_style_numbering": false,
   "user_envs_cfg": false
  },
  "mimetype": "text/x-python",
  "name": "python",
  "npconvert_exporter": "python",
  "pygments_lexer": "ipython3",
  "version": 3
 },
 "nbformat": 4,
 "nbformat_minor": 2
}
